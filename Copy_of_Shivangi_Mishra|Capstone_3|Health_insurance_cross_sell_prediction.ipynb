{
  "cells": [
    {
      "cell_type": "markdown",
      "metadata": {
        "id": "view-in-github",
        "colab_type": "text"
      },
      "source": [
        "<a href=\"https://colab.research.google.com/github/sm160388/Capstone-3/blob/main/Copy_of_Shivangi_Mishra%7CCapstone_3%7CHealth_insurance_cross_sell_prediction.ipynb\" target=\"_parent\"><img src=\"https://colab.research.google.com/assets/colab-badge.svg\" alt=\"Open In Colab\"/></a>"
      ]
    },
    {
      "cell_type": "markdown",
      "metadata": {
        "id": "23-8Zi0h4bzH"
      },
      "source": [
        "# **Problem Statement**"
      ]
    },
    {
      "cell_type": "markdown",
      "metadata": {
        "id": "jItpSW9u4d8c"
      },
      "source": [
        "Our client is an Insurance company that has provided Health Insurance to its customers now they need your help in building a model to predict whether the policyholders (customers) from past year will also be interested in Vehicle Insurance provided by the company.\n",
        "\n",
        "An insurance policy is an arrangement by which a company undertakes to provide a guarantee of compensation for specified loss, damage, illness, or death in return for the payment of a specified premium. A premium is a sum of money that the customer needs to pay regularly to an insurance company for this guarantee.\n",
        "\n",
        "For example, you may pay a premium of Rs. 5000 each year for a health insurance cover of Rs. 200,000/- so that if, God forbid, you fall ill and need to be hospitalised in that year, the insurance provider company will bear the cost of hospitalisation etc. for upto Rs. 200,000. Now if you are wondering how can company bear such high hospitalisation cost when it charges a premium of only Rs. 5000/-, that is where the concept of probabilities comes in picture. For example, like you, there may be 100 customers who would be paying a premium of Rs. 5000 every year, but only a few of them (say 2-3) would get hospitalised that year and not everyone. This way everyone shares the risk of everyone else.\n",
        "\n",
        "Just like medical insurance, there is vehicle insurance where every year customer needs to pay a premium of certain amount to insurance provider company so that in case of unfortunate accident by the vehicle, the insurance provider company will provide a compensation (called ‘sum assured’) to the customer.\n",
        "\n",
        "Building a model to predict whether a customer would be interested in Vehicle Insurance is extremely helpful for the company because it can then accordingly plan its communication strategy to reach out to those customers and optimise its business model and revenue.\n",
        "\n",
        "Now, in order to predict, whether the customer would be interested in Vehicle insurance, you have information about demographics (gender, age, region code type), Vehicles (Vehicle Age, Damage), Policy (Premium, sourcing channel) etc."
      ]
    },
    {
      "cell_type": "markdown",
      "metadata": {
        "id": "tKCux_Wb4pCk"
      },
      "source": [
        "# **Attribute Information**"
      ]
    },
    {
      "cell_type": "markdown",
      "metadata": {
        "id": "bBTtTWw14yNr"
      },
      "source": [
        "1. id :\tUnique ID for the customer\n",
        "\n",
        "2. Gender\t: Gender of the customer\n",
        "\n",
        "3. Age :\tAge of the customer\n",
        "\n",
        "4. Driving_License\t0 : Customer does not have DL, 1 : Customer already has DL\n",
        "\n",
        "5. Region_Code :\tUnique code for the region of the customer\n",
        "\n",
        "6. Previously_Insured\t: 1 : Customer already has Vehicle Insurance, 0 : Customer doesn't have Vehicle Insurance\n",
        "\n",
        "7. Vehicle_Age :\tAge of the Vehicle\n",
        "\n",
        "8. Vehicle_Damage\t :1 : Customer got his/her vehicle damaged in the past. 0 : Customer didn't get his/her vehicle damaged in the past.\n",
        "\n",
        "9. Annual_Premium\t: The amount customer needs to pay as premium in the year\n",
        "\n",
        "10. PolicySalesChannel :\tAnonymized Code for the channel of outreaching to the customer ie. Different Agents, Over Mail, Over Phone, In Person, etc.\n",
        "\n",
        "11. Vintage :\tNumber of Days, Customer has been associated with the company\n",
        "\n",
        "12. Response :\t1 : Customer is interested, 0 : Customer is not interested"
      ]
    },
    {
      "cell_type": "markdown",
      "metadata": {
        "id": "Q3QK3YYc5DaK"
      },
      "source": [
        "# **Objective**"
      ]
    },
    {
      "cell_type": "markdown",
      "metadata": {
        "id": "rZyj1lil5G9z"
      },
      "source": [
        "We need to create a model that can predict, based on the data provided, whether current policyholders are also interested in vehicle insurance provided by the company.\n",
        "\n"
      ]
    },
    {
      "cell_type": "markdown",
      "metadata": {
        "id": "w1cLM3Ow5WF7"
      },
      "source": [
        "#**Importing the libraries**"
      ]
    },
    {
      "cell_type": "code",
      "execution_count": null,
      "metadata": {
        "id": "h9tJuAIqsjHO"
      },
      "outputs": [],
      "source": [
        "#importing libraries for data handelling\n",
        "import numpy as np\n",
        "import pandas as pd\n",
        "from numpy import math\n",
        "\n",
        "#importing libraries for data visualization\n",
        "import matplotlib.pyplot as plt\n",
        "%matplotlib inline\n",
        "import seaborn as sns"
      ]
    },
    {
      "cell_type": "code",
      "execution_count": null,
      "metadata": {
        "colab": {
          "base_uri": "https://localhost:8080/"
        },
        "id": "7xtJU9_17Nxb",
        "outputId": "d673679b-998f-43ea-bd01-d0e19e3ceb58"
      },
      "outputs": [
        {
          "output_type": "stream",
          "name": "stdout",
          "text": [
            "Mounted at /content/drive\n"
          ]
        }
      ],
      "source": [
        "from google.colab import drive\n",
        "drive.mount('/content/drive')"
      ]
    },
    {
      "cell_type": "markdown",
      "metadata": {
        "id": "5BE5xswP5hWB"
      },
      "source": [
        "##**Loading the dataset**"
      ]
    },
    {
      "cell_type": "code",
      "execution_count": null,
      "metadata": {
        "id": "UIhB2caF7PhG"
      },
      "outputs": [],
      "source": [
        "path= \"/content/drive/MyDrive/Copy of TRAIN-HEALTH INSURANCE CROSS SELL PREDICTION.csv\""
      ]
    },
    {
      "cell_type": "code",
      "execution_count": null,
      "metadata": {
        "id": "jTcTCumM7Wyo"
      },
      "outputs": [],
      "source": [
        "df= pd.read_csv(path)"
      ]
    },
    {
      "cell_type": "markdown",
      "source": [
        "##Data Inspection"
      ],
      "metadata": {
        "id": "VIj-zIr9_S8H"
      }
    },
    {
      "cell_type": "code",
      "execution_count": null,
      "metadata": {
        "colab": {
          "base_uri": "https://localhost:8080/"
        },
        "id": "f6ja3bqB7k0J",
        "outputId": "c158d81d-a914-408b-a532-f2ae06d60630"
      },
      "outputs": [
        {
          "output_type": "execute_result",
          "data": {
            "text/plain": [
              "(381109, 12)"
            ]
          },
          "metadata": {},
          "execution_count": 130
        }
      ],
      "source": [
        "#size of the dataset\n",
        "df.shape"
      ]
    },
    {
      "cell_type": "markdown",
      "source": [
        "Dataset has 381109 rows and 12 columns."
      ],
      "metadata": {
        "id": "-LhoNEMO_hji"
      }
    },
    {
      "cell_type": "code",
      "execution_count": null,
      "metadata": {
        "colab": {
          "base_uri": "https://localhost:8080/",
          "height": 206
        },
        "id": "eBG36sxf7vSl",
        "outputId": "fdc40699-6b4a-46df-83a5-9dd0a7593deb"
      },
      "outputs": [
        {
          "output_type": "execute_result",
          "data": {
            "text/plain": [
              "   id  Gender  Age  Driving_License  Region_Code  Previously_Insured  \\\n",
              "0   1    Male   44                1         28.0                   0   \n",
              "1   2    Male   76                1          3.0                   0   \n",
              "2   3    Male   47                1         28.0                   0   \n",
              "3   4    Male   21                1         11.0                   1   \n",
              "4   5  Female   29                1         41.0                   1   \n",
              "\n",
              "  Vehicle_Age Vehicle_Damage  Annual_Premium  Policy_Sales_Channel  Vintage  \\\n",
              "0   > 2 Years            Yes         40454.0                  26.0      217   \n",
              "1    1-2 Year             No         33536.0                  26.0      183   \n",
              "2   > 2 Years            Yes         38294.0                  26.0       27   \n",
              "3    < 1 Year             No         28619.0                 152.0      203   \n",
              "4    < 1 Year             No         27496.0                 152.0       39   \n",
              "\n",
              "   Response  \n",
              "0         1  \n",
              "1         0  \n",
              "2         1  \n",
              "3         0  \n",
              "4         0  "
            ],
            "text/html": [
              "\n",
              "  <div id=\"df-a2d5c259-a160-4b59-baac-cbedb34df33a\">\n",
              "    <div class=\"colab-df-container\">\n",
              "      <div>\n",
              "<style scoped>\n",
              "    .dataframe tbody tr th:only-of-type {\n",
              "        vertical-align: middle;\n",
              "    }\n",
              "\n",
              "    .dataframe tbody tr th {\n",
              "        vertical-align: top;\n",
              "    }\n",
              "\n",
              "    .dataframe thead th {\n",
              "        text-align: right;\n",
              "    }\n",
              "</style>\n",
              "<table border=\"1\" class=\"dataframe\">\n",
              "  <thead>\n",
              "    <tr style=\"text-align: right;\">\n",
              "      <th></th>\n",
              "      <th>id</th>\n",
              "      <th>Gender</th>\n",
              "      <th>Age</th>\n",
              "      <th>Driving_License</th>\n",
              "      <th>Region_Code</th>\n",
              "      <th>Previously_Insured</th>\n",
              "      <th>Vehicle_Age</th>\n",
              "      <th>Vehicle_Damage</th>\n",
              "      <th>Annual_Premium</th>\n",
              "      <th>Policy_Sales_Channel</th>\n",
              "      <th>Vintage</th>\n",
              "      <th>Response</th>\n",
              "    </tr>\n",
              "  </thead>\n",
              "  <tbody>\n",
              "    <tr>\n",
              "      <th>0</th>\n",
              "      <td>1</td>\n",
              "      <td>Male</td>\n",
              "      <td>44</td>\n",
              "      <td>1</td>\n",
              "      <td>28.0</td>\n",
              "      <td>0</td>\n",
              "      <td>&gt; 2 Years</td>\n",
              "      <td>Yes</td>\n",
              "      <td>40454.0</td>\n",
              "      <td>26.0</td>\n",
              "      <td>217</td>\n",
              "      <td>1</td>\n",
              "    </tr>\n",
              "    <tr>\n",
              "      <th>1</th>\n",
              "      <td>2</td>\n",
              "      <td>Male</td>\n",
              "      <td>76</td>\n",
              "      <td>1</td>\n",
              "      <td>3.0</td>\n",
              "      <td>0</td>\n",
              "      <td>1-2 Year</td>\n",
              "      <td>No</td>\n",
              "      <td>33536.0</td>\n",
              "      <td>26.0</td>\n",
              "      <td>183</td>\n",
              "      <td>0</td>\n",
              "    </tr>\n",
              "    <tr>\n",
              "      <th>2</th>\n",
              "      <td>3</td>\n",
              "      <td>Male</td>\n",
              "      <td>47</td>\n",
              "      <td>1</td>\n",
              "      <td>28.0</td>\n",
              "      <td>0</td>\n",
              "      <td>&gt; 2 Years</td>\n",
              "      <td>Yes</td>\n",
              "      <td>38294.0</td>\n",
              "      <td>26.0</td>\n",
              "      <td>27</td>\n",
              "      <td>1</td>\n",
              "    </tr>\n",
              "    <tr>\n",
              "      <th>3</th>\n",
              "      <td>4</td>\n",
              "      <td>Male</td>\n",
              "      <td>21</td>\n",
              "      <td>1</td>\n",
              "      <td>11.0</td>\n",
              "      <td>1</td>\n",
              "      <td>&lt; 1 Year</td>\n",
              "      <td>No</td>\n",
              "      <td>28619.0</td>\n",
              "      <td>152.0</td>\n",
              "      <td>203</td>\n",
              "      <td>0</td>\n",
              "    </tr>\n",
              "    <tr>\n",
              "      <th>4</th>\n",
              "      <td>5</td>\n",
              "      <td>Female</td>\n",
              "      <td>29</td>\n",
              "      <td>1</td>\n",
              "      <td>41.0</td>\n",
              "      <td>1</td>\n",
              "      <td>&lt; 1 Year</td>\n",
              "      <td>No</td>\n",
              "      <td>27496.0</td>\n",
              "      <td>152.0</td>\n",
              "      <td>39</td>\n",
              "      <td>0</td>\n",
              "    </tr>\n",
              "  </tbody>\n",
              "</table>\n",
              "</div>\n",
              "      <button class=\"colab-df-convert\" onclick=\"convertToInteractive('df-a2d5c259-a160-4b59-baac-cbedb34df33a')\"\n",
              "              title=\"Convert this dataframe to an interactive table.\"\n",
              "              style=\"display:none;\">\n",
              "        \n",
              "  <svg xmlns=\"http://www.w3.org/2000/svg\" height=\"24px\"viewBox=\"0 0 24 24\"\n",
              "       width=\"24px\">\n",
              "    <path d=\"M0 0h24v24H0V0z\" fill=\"none\"/>\n",
              "    <path d=\"M18.56 5.44l.94 2.06.94-2.06 2.06-.94-2.06-.94-.94-2.06-.94 2.06-2.06.94zm-11 1L8.5 8.5l.94-2.06 2.06-.94-2.06-.94L8.5 2.5l-.94 2.06-2.06.94zm10 10l.94 2.06.94-2.06 2.06-.94-2.06-.94-.94-2.06-.94 2.06-2.06.94z\"/><path d=\"M17.41 7.96l-1.37-1.37c-.4-.4-.92-.59-1.43-.59-.52 0-1.04.2-1.43.59L10.3 9.45l-7.72 7.72c-.78.78-.78 2.05 0 2.83L4 21.41c.39.39.9.59 1.41.59.51 0 1.02-.2 1.41-.59l7.78-7.78 2.81-2.81c.8-.78.8-2.07 0-2.86zM5.41 20L4 18.59l7.72-7.72 1.47 1.35L5.41 20z\"/>\n",
              "  </svg>\n",
              "      </button>\n",
              "      \n",
              "  <style>\n",
              "    .colab-df-container {\n",
              "      display:flex;\n",
              "      flex-wrap:wrap;\n",
              "      gap: 12px;\n",
              "    }\n",
              "\n",
              "    .colab-df-convert {\n",
              "      background-color: #E8F0FE;\n",
              "      border: none;\n",
              "      border-radius: 50%;\n",
              "      cursor: pointer;\n",
              "      display: none;\n",
              "      fill: #1967D2;\n",
              "      height: 32px;\n",
              "      padding: 0 0 0 0;\n",
              "      width: 32px;\n",
              "    }\n",
              "\n",
              "    .colab-df-convert:hover {\n",
              "      background-color: #E2EBFA;\n",
              "      box-shadow: 0px 1px 2px rgba(60, 64, 67, 0.3), 0px 1px 3px 1px rgba(60, 64, 67, 0.15);\n",
              "      fill: #174EA6;\n",
              "    }\n",
              "\n",
              "    [theme=dark] .colab-df-convert {\n",
              "      background-color: #3B4455;\n",
              "      fill: #D2E3FC;\n",
              "    }\n",
              "\n",
              "    [theme=dark] .colab-df-convert:hover {\n",
              "      background-color: #434B5C;\n",
              "      box-shadow: 0px 1px 3px 1px rgba(0, 0, 0, 0.15);\n",
              "      filter: drop-shadow(0px 1px 2px rgba(0, 0, 0, 0.3));\n",
              "      fill: #FFFFFF;\n",
              "    }\n",
              "  </style>\n",
              "\n",
              "      <script>\n",
              "        const buttonEl =\n",
              "          document.querySelector('#df-a2d5c259-a160-4b59-baac-cbedb34df33a button.colab-df-convert');\n",
              "        buttonEl.style.display =\n",
              "          google.colab.kernel.accessAllowed ? 'block' : 'none';\n",
              "\n",
              "        async function convertToInteractive(key) {\n",
              "          const element = document.querySelector('#df-a2d5c259-a160-4b59-baac-cbedb34df33a');\n",
              "          const dataTable =\n",
              "            await google.colab.kernel.invokeFunction('convertToInteractive',\n",
              "                                                     [key], {});\n",
              "          if (!dataTable) return;\n",
              "\n",
              "          const docLinkHtml = 'Like what you see? Visit the ' +\n",
              "            '<a target=\"_blank\" href=https://colab.research.google.com/notebooks/data_table.ipynb>data table notebook</a>'\n",
              "            + ' to learn more about interactive tables.';\n",
              "          element.innerHTML = '';\n",
              "          dataTable['output_type'] = 'display_data';\n",
              "          await google.colab.output.renderOutput(dataTable, element);\n",
              "          const docLink = document.createElement('div');\n",
              "          docLink.innerHTML = docLinkHtml;\n",
              "          element.appendChild(docLink);\n",
              "        }\n",
              "      </script>\n",
              "    </div>\n",
              "  </div>\n",
              "  "
            ]
          },
          "metadata": {},
          "execution_count": 81
        }
      ],
      "source": [
        "#first 5 rows\n",
        "df.head()"
      ]
    },
    {
      "cell_type": "code",
      "execution_count": null,
      "metadata": {
        "colab": {
          "base_uri": "https://localhost:8080/",
          "height": 206
        },
        "id": "peNSclpL735M",
        "outputId": "b36baf2a-9aa0-4bce-ce89-f7f44aac80e5"
      },
      "outputs": [
        {
          "data": {
            "text/html": [
              "\n",
              "  <div id=\"df-b97cb43a-3266-405d-a83c-4d0cbcee33a2\">\n",
              "    <div class=\"colab-df-container\">\n",
              "      <div>\n",
              "<style scoped>\n",
              "    .dataframe tbody tr th:only-of-type {\n",
              "        vertical-align: middle;\n",
              "    }\n",
              "\n",
              "    .dataframe tbody tr th {\n",
              "        vertical-align: top;\n",
              "    }\n",
              "\n",
              "    .dataframe thead th {\n",
              "        text-align: right;\n",
              "    }\n",
              "</style>\n",
              "<table border=\"1\" class=\"dataframe\">\n",
              "  <thead>\n",
              "    <tr style=\"text-align: right;\">\n",
              "      <th></th>\n",
              "      <th>id</th>\n",
              "      <th>Gender</th>\n",
              "      <th>Age</th>\n",
              "      <th>Driving_License</th>\n",
              "      <th>Region_Code</th>\n",
              "      <th>Previously_Insured</th>\n",
              "      <th>Vehicle_Age</th>\n",
              "      <th>Vehicle_Damage</th>\n",
              "      <th>Annual_Premium</th>\n",
              "      <th>Policy_Sales_Channel</th>\n",
              "      <th>Vintage</th>\n",
              "      <th>Response</th>\n",
              "    </tr>\n",
              "  </thead>\n",
              "  <tbody>\n",
              "    <tr>\n",
              "      <th>381104</th>\n",
              "      <td>381105</td>\n",
              "      <td>Male</td>\n",
              "      <td>74</td>\n",
              "      <td>1</td>\n",
              "      <td>26.0</td>\n",
              "      <td>1</td>\n",
              "      <td>1-2 Year</td>\n",
              "      <td>No</td>\n",
              "      <td>30170.0</td>\n",
              "      <td>26.0</td>\n",
              "      <td>88</td>\n",
              "      <td>0</td>\n",
              "    </tr>\n",
              "    <tr>\n",
              "      <th>381105</th>\n",
              "      <td>381106</td>\n",
              "      <td>Male</td>\n",
              "      <td>30</td>\n",
              "      <td>1</td>\n",
              "      <td>37.0</td>\n",
              "      <td>1</td>\n",
              "      <td>&lt; 1 Year</td>\n",
              "      <td>No</td>\n",
              "      <td>40016.0</td>\n",
              "      <td>152.0</td>\n",
              "      <td>131</td>\n",
              "      <td>0</td>\n",
              "    </tr>\n",
              "    <tr>\n",
              "      <th>381106</th>\n",
              "      <td>381107</td>\n",
              "      <td>Male</td>\n",
              "      <td>21</td>\n",
              "      <td>1</td>\n",
              "      <td>30.0</td>\n",
              "      <td>1</td>\n",
              "      <td>&lt; 1 Year</td>\n",
              "      <td>No</td>\n",
              "      <td>35118.0</td>\n",
              "      <td>160.0</td>\n",
              "      <td>161</td>\n",
              "      <td>0</td>\n",
              "    </tr>\n",
              "    <tr>\n",
              "      <th>381107</th>\n",
              "      <td>381108</td>\n",
              "      <td>Female</td>\n",
              "      <td>68</td>\n",
              "      <td>1</td>\n",
              "      <td>14.0</td>\n",
              "      <td>0</td>\n",
              "      <td>&gt; 2 Years</td>\n",
              "      <td>Yes</td>\n",
              "      <td>44617.0</td>\n",
              "      <td>124.0</td>\n",
              "      <td>74</td>\n",
              "      <td>0</td>\n",
              "    </tr>\n",
              "    <tr>\n",
              "      <th>381108</th>\n",
              "      <td>381109</td>\n",
              "      <td>Male</td>\n",
              "      <td>46</td>\n",
              "      <td>1</td>\n",
              "      <td>29.0</td>\n",
              "      <td>0</td>\n",
              "      <td>1-2 Year</td>\n",
              "      <td>No</td>\n",
              "      <td>41777.0</td>\n",
              "      <td>26.0</td>\n",
              "      <td>237</td>\n",
              "      <td>0</td>\n",
              "    </tr>\n",
              "  </tbody>\n",
              "</table>\n",
              "</div>\n",
              "      <button class=\"colab-df-convert\" onclick=\"convertToInteractive('df-b97cb43a-3266-405d-a83c-4d0cbcee33a2')\"\n",
              "              title=\"Convert this dataframe to an interactive table.\"\n",
              "              style=\"display:none;\">\n",
              "        \n",
              "  <svg xmlns=\"http://www.w3.org/2000/svg\" height=\"24px\"viewBox=\"0 0 24 24\"\n",
              "       width=\"24px\">\n",
              "    <path d=\"M0 0h24v24H0V0z\" fill=\"none\"/>\n",
              "    <path d=\"M18.56 5.44l.94 2.06.94-2.06 2.06-.94-2.06-.94-.94-2.06-.94 2.06-2.06.94zm-11 1L8.5 8.5l.94-2.06 2.06-.94-2.06-.94L8.5 2.5l-.94 2.06-2.06.94zm10 10l.94 2.06.94-2.06 2.06-.94-2.06-.94-.94-2.06-.94 2.06-2.06.94z\"/><path d=\"M17.41 7.96l-1.37-1.37c-.4-.4-.92-.59-1.43-.59-.52 0-1.04.2-1.43.59L10.3 9.45l-7.72 7.72c-.78.78-.78 2.05 0 2.83L4 21.41c.39.39.9.59 1.41.59.51 0 1.02-.2 1.41-.59l7.78-7.78 2.81-2.81c.8-.78.8-2.07 0-2.86zM5.41 20L4 18.59l7.72-7.72 1.47 1.35L5.41 20z\"/>\n",
              "  </svg>\n",
              "      </button>\n",
              "      \n",
              "  <style>\n",
              "    .colab-df-container {\n",
              "      display:flex;\n",
              "      flex-wrap:wrap;\n",
              "      gap: 12px;\n",
              "    }\n",
              "\n",
              "    .colab-df-convert {\n",
              "      background-color: #E8F0FE;\n",
              "      border: none;\n",
              "      border-radius: 50%;\n",
              "      cursor: pointer;\n",
              "      display: none;\n",
              "      fill: #1967D2;\n",
              "      height: 32px;\n",
              "      padding: 0 0 0 0;\n",
              "      width: 32px;\n",
              "    }\n",
              "\n",
              "    .colab-df-convert:hover {\n",
              "      background-color: #E2EBFA;\n",
              "      box-shadow: 0px 1px 2px rgba(60, 64, 67, 0.3), 0px 1px 3px 1px rgba(60, 64, 67, 0.15);\n",
              "      fill: #174EA6;\n",
              "    }\n",
              "\n",
              "    [theme=dark] .colab-df-convert {\n",
              "      background-color: #3B4455;\n",
              "      fill: #D2E3FC;\n",
              "    }\n",
              "\n",
              "    [theme=dark] .colab-df-convert:hover {\n",
              "      background-color: #434B5C;\n",
              "      box-shadow: 0px 1px 3px 1px rgba(0, 0, 0, 0.15);\n",
              "      filter: drop-shadow(0px 1px 2px rgba(0, 0, 0, 0.3));\n",
              "      fill: #FFFFFF;\n",
              "    }\n",
              "  </style>\n",
              "\n",
              "      <script>\n",
              "        const buttonEl =\n",
              "          document.querySelector('#df-b97cb43a-3266-405d-a83c-4d0cbcee33a2 button.colab-df-convert');\n",
              "        buttonEl.style.display =\n",
              "          google.colab.kernel.accessAllowed ? 'block' : 'none';\n",
              "\n",
              "        async function convertToInteractive(key) {\n",
              "          const element = document.querySelector('#df-b97cb43a-3266-405d-a83c-4d0cbcee33a2');\n",
              "          const dataTable =\n",
              "            await google.colab.kernel.invokeFunction('convertToInteractive',\n",
              "                                                     [key], {});\n",
              "          if (!dataTable) return;\n",
              "\n",
              "          const docLinkHtml = 'Like what you see? Visit the ' +\n",
              "            '<a target=\"_blank\" href=https://colab.research.google.com/notebooks/data_table.ipynb>data table notebook</a>'\n",
              "            + ' to learn more about interactive tables.';\n",
              "          element.innerHTML = '';\n",
              "          dataTable['output_type'] = 'display_data';\n",
              "          await google.colab.output.renderOutput(dataTable, element);\n",
              "          const docLink = document.createElement('div');\n",
              "          docLink.innerHTML = docLinkHtml;\n",
              "          element.appendChild(docLink);\n",
              "        }\n",
              "      </script>\n",
              "    </div>\n",
              "  </div>\n",
              "  "
            ],
            "text/plain": [
              "            id  Gender  Age  Driving_License  Region_Code  Previously_Insured  \\\n",
              "381104  381105    Male   74                1         26.0                   1   \n",
              "381105  381106    Male   30                1         37.0                   1   \n",
              "381106  381107    Male   21                1         30.0                   1   \n",
              "381107  381108  Female   68                1         14.0                   0   \n",
              "381108  381109    Male   46                1         29.0                   0   \n",
              "\n",
              "       Vehicle_Age Vehicle_Damage  Annual_Premium  Policy_Sales_Channel  \\\n",
              "381104    1-2 Year             No         30170.0                  26.0   \n",
              "381105    < 1 Year             No         40016.0                 152.0   \n",
              "381106    < 1 Year             No         35118.0                 160.0   \n",
              "381107   > 2 Years            Yes         44617.0                 124.0   \n",
              "381108    1-2 Year             No         41777.0                  26.0   \n",
              "\n",
              "        Vintage  Response  \n",
              "381104       88         0  \n",
              "381105      131         0  \n",
              "381106      161         0  \n",
              "381107       74         0  \n",
              "381108      237         0  "
            ]
          },
          "execution_count": 16,
          "metadata": {},
          "output_type": "execute_result"
        }
      ],
      "source": [
        "#last 5 rows\n",
        "df.tail()"
      ]
    },
    {
      "cell_type": "markdown",
      "source": [
        "###Summary of the dataset"
      ],
      "metadata": {
        "id": "n5Uwx9LC-o4r"
      }
    },
    {
      "cell_type": "code",
      "execution_count": null,
      "metadata": {
        "colab": {
          "base_uri": "https://localhost:8080/"
        },
        "id": "qoY0IL5376uV",
        "outputId": "e682b204-bce4-47cb-8a2a-afdf3de528a7"
      },
      "outputs": [
        {
          "name": "stdout",
          "output_type": "stream",
          "text": [
            "<class 'pandas.core.frame.DataFrame'>\n",
            "RangeIndex: 381109 entries, 0 to 381108\n",
            "Data columns (total 12 columns):\n",
            " #   Column                Non-Null Count   Dtype  \n",
            "---  ------                --------------   -----  \n",
            " 0   id                    381109 non-null  int64  \n",
            " 1   Gender                381109 non-null  object \n",
            " 2   Age                   381109 non-null  int64  \n",
            " 3   Driving_License       381109 non-null  int64  \n",
            " 4   Region_Code           381109 non-null  float64\n",
            " 5   Previously_Insured    381109 non-null  int64  \n",
            " 6   Vehicle_Age           381109 non-null  object \n",
            " 7   Vehicle_Damage        381109 non-null  object \n",
            " 8   Annual_Premium        381109 non-null  float64\n",
            " 9   Policy_Sales_Channel  381109 non-null  float64\n",
            " 10  Vintage               381109 non-null  int64  \n",
            " 11  Response              381109 non-null  int64  \n",
            "dtypes: float64(3), int64(6), object(3)\n",
            "memory usage: 34.9+ MB\n"
          ]
        }
      ],
      "source": [
        "#summary of dataset\n",
        "df.info()"
      ]
    },
    {
      "cell_type": "markdown",
      "source": [
        "The dataset has 3 different dtype kinds. They are-- object, int, and float. There are 3 categorical features and the rest are numerical."
      ],
      "metadata": {
        "id": "_9TKO8qxFVJp"
      }
    },
    {
      "cell_type": "markdown",
      "source": [
        "###Statistical Details"
      ],
      "metadata": {
        "id": "R9zChtXt-Tph"
      }
    },
    {
      "cell_type": "code",
      "execution_count": null,
      "metadata": {
        "colab": {
          "base_uri": "https://localhost:8080/",
          "height": 300
        },
        "id": "3-Ap15V-8ENd",
        "outputId": "51cdaaf4-3b9a-4528-b87d-32f798b8bb9f"
      },
      "outputs": [
        {
          "data": {
            "text/html": [
              "\n",
              "  <div id=\"df-d3d764ba-02c2-40e8-b2b4-8a56c1925f59\">\n",
              "    <div class=\"colab-df-container\">\n",
              "      <div>\n",
              "<style scoped>\n",
              "    .dataframe tbody tr th:only-of-type {\n",
              "        vertical-align: middle;\n",
              "    }\n",
              "\n",
              "    .dataframe tbody tr th {\n",
              "        vertical-align: top;\n",
              "    }\n",
              "\n",
              "    .dataframe thead th {\n",
              "        text-align: right;\n",
              "    }\n",
              "</style>\n",
              "<table border=\"1\" class=\"dataframe\">\n",
              "  <thead>\n",
              "    <tr style=\"text-align: right;\">\n",
              "      <th></th>\n",
              "      <th>id</th>\n",
              "      <th>Age</th>\n",
              "      <th>Driving_License</th>\n",
              "      <th>Region_Code</th>\n",
              "      <th>Previously_Insured</th>\n",
              "      <th>Annual_Premium</th>\n",
              "      <th>Policy_Sales_Channel</th>\n",
              "      <th>Vintage</th>\n",
              "      <th>Response</th>\n",
              "    </tr>\n",
              "  </thead>\n",
              "  <tbody>\n",
              "    <tr>\n",
              "      <th>count</th>\n",
              "      <td>381109.000000</td>\n",
              "      <td>381109.000000</td>\n",
              "      <td>381109.000000</td>\n",
              "      <td>381109.000000</td>\n",
              "      <td>381109.000000</td>\n",
              "      <td>381109.000000</td>\n",
              "      <td>381109.000000</td>\n",
              "      <td>381109.000000</td>\n",
              "      <td>381109.000000</td>\n",
              "    </tr>\n",
              "    <tr>\n",
              "      <th>mean</th>\n",
              "      <td>190555.000000</td>\n",
              "      <td>38.822584</td>\n",
              "      <td>0.997869</td>\n",
              "      <td>26.388807</td>\n",
              "      <td>0.458210</td>\n",
              "      <td>30564.389581</td>\n",
              "      <td>112.034295</td>\n",
              "      <td>154.347397</td>\n",
              "      <td>0.122563</td>\n",
              "    </tr>\n",
              "    <tr>\n",
              "      <th>std</th>\n",
              "      <td>110016.836208</td>\n",
              "      <td>15.511611</td>\n",
              "      <td>0.046110</td>\n",
              "      <td>13.229888</td>\n",
              "      <td>0.498251</td>\n",
              "      <td>17213.155057</td>\n",
              "      <td>54.203995</td>\n",
              "      <td>83.671304</td>\n",
              "      <td>0.327936</td>\n",
              "    </tr>\n",
              "    <tr>\n",
              "      <th>min</th>\n",
              "      <td>1.000000</td>\n",
              "      <td>20.000000</td>\n",
              "      <td>0.000000</td>\n",
              "      <td>0.000000</td>\n",
              "      <td>0.000000</td>\n",
              "      <td>2630.000000</td>\n",
              "      <td>1.000000</td>\n",
              "      <td>10.000000</td>\n",
              "      <td>0.000000</td>\n",
              "    </tr>\n",
              "    <tr>\n",
              "      <th>25%</th>\n",
              "      <td>95278.000000</td>\n",
              "      <td>25.000000</td>\n",
              "      <td>1.000000</td>\n",
              "      <td>15.000000</td>\n",
              "      <td>0.000000</td>\n",
              "      <td>24405.000000</td>\n",
              "      <td>29.000000</td>\n",
              "      <td>82.000000</td>\n",
              "      <td>0.000000</td>\n",
              "    </tr>\n",
              "    <tr>\n",
              "      <th>50%</th>\n",
              "      <td>190555.000000</td>\n",
              "      <td>36.000000</td>\n",
              "      <td>1.000000</td>\n",
              "      <td>28.000000</td>\n",
              "      <td>0.000000</td>\n",
              "      <td>31669.000000</td>\n",
              "      <td>133.000000</td>\n",
              "      <td>154.000000</td>\n",
              "      <td>0.000000</td>\n",
              "    </tr>\n",
              "    <tr>\n",
              "      <th>75%</th>\n",
              "      <td>285832.000000</td>\n",
              "      <td>49.000000</td>\n",
              "      <td>1.000000</td>\n",
              "      <td>35.000000</td>\n",
              "      <td>1.000000</td>\n",
              "      <td>39400.000000</td>\n",
              "      <td>152.000000</td>\n",
              "      <td>227.000000</td>\n",
              "      <td>0.000000</td>\n",
              "    </tr>\n",
              "    <tr>\n",
              "      <th>max</th>\n",
              "      <td>381109.000000</td>\n",
              "      <td>85.000000</td>\n",
              "      <td>1.000000</td>\n",
              "      <td>52.000000</td>\n",
              "      <td>1.000000</td>\n",
              "      <td>540165.000000</td>\n",
              "      <td>163.000000</td>\n",
              "      <td>299.000000</td>\n",
              "      <td>1.000000</td>\n",
              "    </tr>\n",
              "  </tbody>\n",
              "</table>\n",
              "</div>\n",
              "      <button class=\"colab-df-convert\" onclick=\"convertToInteractive('df-d3d764ba-02c2-40e8-b2b4-8a56c1925f59')\"\n",
              "              title=\"Convert this dataframe to an interactive table.\"\n",
              "              style=\"display:none;\">\n",
              "        \n",
              "  <svg xmlns=\"http://www.w3.org/2000/svg\" height=\"24px\"viewBox=\"0 0 24 24\"\n",
              "       width=\"24px\">\n",
              "    <path d=\"M0 0h24v24H0V0z\" fill=\"none\"/>\n",
              "    <path d=\"M18.56 5.44l.94 2.06.94-2.06 2.06-.94-2.06-.94-.94-2.06-.94 2.06-2.06.94zm-11 1L8.5 8.5l.94-2.06 2.06-.94-2.06-.94L8.5 2.5l-.94 2.06-2.06.94zm10 10l.94 2.06.94-2.06 2.06-.94-2.06-.94-.94-2.06-.94 2.06-2.06.94z\"/><path d=\"M17.41 7.96l-1.37-1.37c-.4-.4-.92-.59-1.43-.59-.52 0-1.04.2-1.43.59L10.3 9.45l-7.72 7.72c-.78.78-.78 2.05 0 2.83L4 21.41c.39.39.9.59 1.41.59.51 0 1.02-.2 1.41-.59l7.78-7.78 2.81-2.81c.8-.78.8-2.07 0-2.86zM5.41 20L4 18.59l7.72-7.72 1.47 1.35L5.41 20z\"/>\n",
              "  </svg>\n",
              "      </button>\n",
              "      \n",
              "  <style>\n",
              "    .colab-df-container {\n",
              "      display:flex;\n",
              "      flex-wrap:wrap;\n",
              "      gap: 12px;\n",
              "    }\n",
              "\n",
              "    .colab-df-convert {\n",
              "      background-color: #E8F0FE;\n",
              "      border: none;\n",
              "      border-radius: 50%;\n",
              "      cursor: pointer;\n",
              "      display: none;\n",
              "      fill: #1967D2;\n",
              "      height: 32px;\n",
              "      padding: 0 0 0 0;\n",
              "      width: 32px;\n",
              "    }\n",
              "\n",
              "    .colab-df-convert:hover {\n",
              "      background-color: #E2EBFA;\n",
              "      box-shadow: 0px 1px 2px rgba(60, 64, 67, 0.3), 0px 1px 3px 1px rgba(60, 64, 67, 0.15);\n",
              "      fill: #174EA6;\n",
              "    }\n",
              "\n",
              "    [theme=dark] .colab-df-convert {\n",
              "      background-color: #3B4455;\n",
              "      fill: #D2E3FC;\n",
              "    }\n",
              "\n",
              "    [theme=dark] .colab-df-convert:hover {\n",
              "      background-color: #434B5C;\n",
              "      box-shadow: 0px 1px 3px 1px rgba(0, 0, 0, 0.15);\n",
              "      filter: drop-shadow(0px 1px 2px rgba(0, 0, 0, 0.3));\n",
              "      fill: #FFFFFF;\n",
              "    }\n",
              "  </style>\n",
              "\n",
              "      <script>\n",
              "        const buttonEl =\n",
              "          document.querySelector('#df-d3d764ba-02c2-40e8-b2b4-8a56c1925f59 button.colab-df-convert');\n",
              "        buttonEl.style.display =\n",
              "          google.colab.kernel.accessAllowed ? 'block' : 'none';\n",
              "\n",
              "        async function convertToInteractive(key) {\n",
              "          const element = document.querySelector('#df-d3d764ba-02c2-40e8-b2b4-8a56c1925f59');\n",
              "          const dataTable =\n",
              "            await google.colab.kernel.invokeFunction('convertToInteractive',\n",
              "                                                     [key], {});\n",
              "          if (!dataTable) return;\n",
              "\n",
              "          const docLinkHtml = 'Like what you see? Visit the ' +\n",
              "            '<a target=\"_blank\" href=https://colab.research.google.com/notebooks/data_table.ipynb>data table notebook</a>'\n",
              "            + ' to learn more about interactive tables.';\n",
              "          element.innerHTML = '';\n",
              "          dataTable['output_type'] = 'display_data';\n",
              "          await google.colab.output.renderOutput(dataTable, element);\n",
              "          const docLink = document.createElement('div');\n",
              "          docLink.innerHTML = docLinkHtml;\n",
              "          element.appendChild(docLink);\n",
              "        }\n",
              "      </script>\n",
              "    </div>\n",
              "  </div>\n",
              "  "
            ],
            "text/plain": [
              "                  id            Age  Driving_License    Region_Code  \\\n",
              "count  381109.000000  381109.000000    381109.000000  381109.000000   \n",
              "mean   190555.000000      38.822584         0.997869      26.388807   \n",
              "std    110016.836208      15.511611         0.046110      13.229888   \n",
              "min         1.000000      20.000000         0.000000       0.000000   \n",
              "25%     95278.000000      25.000000         1.000000      15.000000   \n",
              "50%    190555.000000      36.000000         1.000000      28.000000   \n",
              "75%    285832.000000      49.000000         1.000000      35.000000   \n",
              "max    381109.000000      85.000000         1.000000      52.000000   \n",
              "\n",
              "       Previously_Insured  Annual_Premium  Policy_Sales_Channel  \\\n",
              "count       381109.000000   381109.000000         381109.000000   \n",
              "mean             0.458210    30564.389581            112.034295   \n",
              "std              0.498251    17213.155057             54.203995   \n",
              "min              0.000000     2630.000000              1.000000   \n",
              "25%              0.000000    24405.000000             29.000000   \n",
              "50%              0.000000    31669.000000            133.000000   \n",
              "75%              1.000000    39400.000000            152.000000   \n",
              "max              1.000000   540165.000000            163.000000   \n",
              "\n",
              "             Vintage       Response  \n",
              "count  381109.000000  381109.000000  \n",
              "mean      154.347397       0.122563  \n",
              "std        83.671304       0.327936  \n",
              "min        10.000000       0.000000  \n",
              "25%        82.000000       0.000000  \n",
              "50%       154.000000       0.000000  \n",
              "75%       227.000000       0.000000  \n",
              "max       299.000000       1.000000  "
            ]
          },
          "execution_count": 146,
          "metadata": {},
          "output_type": "execute_result"
        }
      ],
      "source": [
        "df.describe()"
      ]
    },
    {
      "cell_type": "markdown",
      "metadata": {
        "id": "vR7uLWbV1NA9"
      },
      "source": [
        "###Checking the null values"
      ]
    },
    {
      "cell_type": "code",
      "execution_count": null,
      "metadata": {
        "colab": {
          "base_uri": "https://localhost:8080/",
          "height": 426
        },
        "id": "nwzPvJK71HIP",
        "outputId": "b40d8d90-86b9-4c82-c3b8-3b24e7e09e40"
      },
      "outputs": [
        {
          "data": {
            "text/html": [
              "\n",
              "  <div id=\"df-60439575-0e89-4637-a084-dd7c55ea1d59\">\n",
              "    <div class=\"colab-df-container\">\n",
              "      <div>\n",
              "<style scoped>\n",
              "    .dataframe tbody tr th:only-of-type {\n",
              "        vertical-align: middle;\n",
              "    }\n",
              "\n",
              "    .dataframe tbody tr th {\n",
              "        vertical-align: top;\n",
              "    }\n",
              "\n",
              "    .dataframe thead th {\n",
              "        text-align: right;\n",
              "    }\n",
              "</style>\n",
              "<table border=\"1\" class=\"dataframe\">\n",
              "  <thead>\n",
              "    <tr style=\"text-align: right;\">\n",
              "      <th></th>\n",
              "      <th>Missing Value</th>\n",
              "    </tr>\n",
              "  </thead>\n",
              "  <tbody>\n",
              "    <tr>\n",
              "      <th>id</th>\n",
              "      <td>0</td>\n",
              "    </tr>\n",
              "    <tr>\n",
              "      <th>Gender</th>\n",
              "      <td>0</td>\n",
              "    </tr>\n",
              "    <tr>\n",
              "      <th>Age</th>\n",
              "      <td>0</td>\n",
              "    </tr>\n",
              "    <tr>\n",
              "      <th>Driving_License</th>\n",
              "      <td>0</td>\n",
              "    </tr>\n",
              "    <tr>\n",
              "      <th>Region_Code</th>\n",
              "      <td>0</td>\n",
              "    </tr>\n",
              "    <tr>\n",
              "      <th>Previously_Insured</th>\n",
              "      <td>0</td>\n",
              "    </tr>\n",
              "    <tr>\n",
              "      <th>Vehicle_Age</th>\n",
              "      <td>0</td>\n",
              "    </tr>\n",
              "    <tr>\n",
              "      <th>Vehicle_Damage</th>\n",
              "      <td>0</td>\n",
              "    </tr>\n",
              "    <tr>\n",
              "      <th>Annual_Premium</th>\n",
              "      <td>0</td>\n",
              "    </tr>\n",
              "    <tr>\n",
              "      <th>Policy_Sales_Channel</th>\n",
              "      <td>0</td>\n",
              "    </tr>\n",
              "    <tr>\n",
              "      <th>Vintage</th>\n",
              "      <td>0</td>\n",
              "    </tr>\n",
              "    <tr>\n",
              "      <th>Response</th>\n",
              "      <td>0</td>\n",
              "    </tr>\n",
              "  </tbody>\n",
              "</table>\n",
              "</div>\n",
              "      <button class=\"colab-df-convert\" onclick=\"convertToInteractive('df-60439575-0e89-4637-a084-dd7c55ea1d59')\"\n",
              "              title=\"Convert this dataframe to an interactive table.\"\n",
              "              style=\"display:none;\">\n",
              "        \n",
              "  <svg xmlns=\"http://www.w3.org/2000/svg\" height=\"24px\"viewBox=\"0 0 24 24\"\n",
              "       width=\"24px\">\n",
              "    <path d=\"M0 0h24v24H0V0z\" fill=\"none\"/>\n",
              "    <path d=\"M18.56 5.44l.94 2.06.94-2.06 2.06-.94-2.06-.94-.94-2.06-.94 2.06-2.06.94zm-11 1L8.5 8.5l.94-2.06 2.06-.94-2.06-.94L8.5 2.5l-.94 2.06-2.06.94zm10 10l.94 2.06.94-2.06 2.06-.94-2.06-.94-.94-2.06-.94 2.06-2.06.94z\"/><path d=\"M17.41 7.96l-1.37-1.37c-.4-.4-.92-.59-1.43-.59-.52 0-1.04.2-1.43.59L10.3 9.45l-7.72 7.72c-.78.78-.78 2.05 0 2.83L4 21.41c.39.39.9.59 1.41.59.51 0 1.02-.2 1.41-.59l7.78-7.78 2.81-2.81c.8-.78.8-2.07 0-2.86zM5.41 20L4 18.59l7.72-7.72 1.47 1.35L5.41 20z\"/>\n",
              "  </svg>\n",
              "      </button>\n",
              "      \n",
              "  <style>\n",
              "    .colab-df-container {\n",
              "      display:flex;\n",
              "      flex-wrap:wrap;\n",
              "      gap: 12px;\n",
              "    }\n",
              "\n",
              "    .colab-df-convert {\n",
              "      background-color: #E8F0FE;\n",
              "      border: none;\n",
              "      border-radius: 50%;\n",
              "      cursor: pointer;\n",
              "      display: none;\n",
              "      fill: #1967D2;\n",
              "      height: 32px;\n",
              "      padding: 0 0 0 0;\n",
              "      width: 32px;\n",
              "    }\n",
              "\n",
              "    .colab-df-convert:hover {\n",
              "      background-color: #E2EBFA;\n",
              "      box-shadow: 0px 1px 2px rgba(60, 64, 67, 0.3), 0px 1px 3px 1px rgba(60, 64, 67, 0.15);\n",
              "      fill: #174EA6;\n",
              "    }\n",
              "\n",
              "    [theme=dark] .colab-df-convert {\n",
              "      background-color: #3B4455;\n",
              "      fill: #D2E3FC;\n",
              "    }\n",
              "\n",
              "    [theme=dark] .colab-df-convert:hover {\n",
              "      background-color: #434B5C;\n",
              "      box-shadow: 0px 1px 3px 1px rgba(0, 0, 0, 0.15);\n",
              "      filter: drop-shadow(0px 1px 2px rgba(0, 0, 0, 0.3));\n",
              "      fill: #FFFFFF;\n",
              "    }\n",
              "  </style>\n",
              "\n",
              "      <script>\n",
              "        const buttonEl =\n",
              "          document.querySelector('#df-60439575-0e89-4637-a084-dd7c55ea1d59 button.colab-df-convert');\n",
              "        buttonEl.style.display =\n",
              "          google.colab.kernel.accessAllowed ? 'block' : 'none';\n",
              "\n",
              "        async function convertToInteractive(key) {\n",
              "          const element = document.querySelector('#df-60439575-0e89-4637-a084-dd7c55ea1d59');\n",
              "          const dataTable =\n",
              "            await google.colab.kernel.invokeFunction('convertToInteractive',\n",
              "                                                     [key], {});\n",
              "          if (!dataTable) return;\n",
              "\n",
              "          const docLinkHtml = 'Like what you see? Visit the ' +\n",
              "            '<a target=\"_blank\" href=https://colab.research.google.com/notebooks/data_table.ipynb>data table notebook</a>'\n",
              "            + ' to learn more about interactive tables.';\n",
              "          element.innerHTML = '';\n",
              "          dataTable['output_type'] = 'display_data';\n",
              "          await google.colab.output.renderOutput(dataTable, element);\n",
              "          const docLink = document.createElement('div');\n",
              "          docLink.innerHTML = docLinkHtml;\n",
              "          element.appendChild(docLink);\n",
              "        }\n",
              "      </script>\n",
              "    </div>\n",
              "  </div>\n",
              "  "
            ],
            "text/plain": [
              "                      Missing Value \n",
              "id                                 0\n",
              "Gender                             0\n",
              "Age                                0\n",
              "Driving_License                    0\n",
              "Region_Code                        0\n",
              "Previously_Insured                 0\n",
              "Vehicle_Age                        0\n",
              "Vehicle_Damage                     0\n",
              "Annual_Premium                     0\n",
              "Policy_Sales_Channel               0\n",
              "Vintage                            0\n",
              "Response                           0"
            ]
          },
          "execution_count": 239,
          "metadata": {},
          "output_type": "execute_result"
        }
      ],
      "source": [
        "# Checking for NUll Values\n",
        "df.isna().sum().to_frame().rename(columns={0:'Missing Value '})"
      ]
    },
    {
      "cell_type": "markdown",
      "metadata": {
        "id": "C8B8eTle1Y6a"
      },
      "source": [
        " No null values found in this dataset."
      ]
    },
    {
      "cell_type": "markdown",
      "metadata": {
        "id": "jqcD4xJS1smP"
      },
      "source": [
        "###Checking Duplicates in the dataset"
      ]
    },
    {
      "cell_type": "code",
      "execution_count": null,
      "metadata": {
        "colab": {
          "base_uri": "https://localhost:8080/"
        },
        "id": "POpVa88K1sG5",
        "outputId": "196b2ff8-d15f-421e-ae86-c12788c9ba37"
      },
      "outputs": [
        {
          "data": {
            "text/plain": [
              "0"
            ]
          },
          "execution_count": 241,
          "metadata": {},
          "output_type": "execute_result"
        }
      ],
      "source": [
        "#Finding Duplicate values\n",
        "len(df[df.duplicated()])"
      ]
    },
    {
      "cell_type": "markdown",
      "metadata": {
        "id": "BUEulShb14Ke"
      },
      "source": [
        "No Duplicate Values found"
      ]
    },
    {
      "cell_type": "markdown",
      "metadata": {
        "id": "n4oZJkJ3Xr6A"
      },
      "source": [
        "\n",
        "#**EXPLORATORY DATA ANALYSIS**"
      ]
    },
    {
      "cell_type": "markdown",
      "metadata": {
        "id": "M8kCQAtWawSJ"
      },
      "source": [
        "**Target Variable**"
      ]
    },
    {
      "cell_type": "code",
      "execution_count": null,
      "metadata": {
        "colab": {
          "base_uri": "https://localhost:8080/"
        },
        "id": "K9kTZL8TRgHl",
        "outputId": "ff133a48-0dba-40b2-d535-59ff7b1551ab"
      },
      "outputs": [
        {
          "data": {
            "text/plain": [
              "0    334399\n",
              "1     46710\n",
              "Name: Response, dtype: int64"
            ]
          },
          "execution_count": 158,
          "metadata": {},
          "output_type": "execute_result"
        }
      ],
      "source": [
        "#value count of target variable\n",
        "df ['Response'].value_counts()"
      ]
    },
    {
      "cell_type": "code",
      "execution_count": null,
      "metadata": {
        "colab": {
          "base_uri": "https://localhost:8080/"
        },
        "id": "rqvySJhQUaM9",
        "outputId": "249a72e9-c533-4f61-979e-3b0ca427ddb9"
      },
      "outputs": [
        {
          "data": {
            "text/plain": [
              "0    87.743664\n",
              "1    12.256336\n",
              "Name: Response, dtype: float64"
            ]
          },
          "execution_count": 159,
          "metadata": {},
          "output_type": "execute_result"
        }
      ],
      "source": [
        "# Percentage For Response Column\n",
        "(df['Response'].value_counts() / df['Response'].count()) * 100"
      ]
    },
    {
      "cell_type": "code",
      "execution_count": null,
      "metadata": {
        "colab": {
          "base_uri": "https://localhost:8080/",
          "height": 360
        },
        "id": "dJxxjJXHXz-c",
        "outputId": "369334ad-9332-477e-fcb6-5482723f311b"
      },
      "outputs": [
        {
          "name": "stderr",
          "output_type": "stream",
          "text": [
            "/usr/local/lib/python3.7/dist-packages/seaborn/_decorators.py:43: FutureWarning: Pass the following variable as a keyword arg: x. From version 0.12, the only valid positional argument will be `data`, and passing other arguments without an explicit keyword will result in an error or misinterpretation.\n",
            "  FutureWarning\n"
          ]
        },
        {
          "data": {
            "text/plain": [
              "<matplotlib.axes._subplots.AxesSubplot at 0x7f4600ac3150>"
            ]
          },
          "execution_count": 147,
          "metadata": {},
          "output_type": "execute_result"
        },
        {
          "data": {
            "image/png": "[encoded data removed]",
            "text/plain": [
              "<Figure size 432x288 with 1 Axes>"
            ]
          },
          "metadata": {},
          "output_type": "display_data"
        }
      ],
      "source": [
        "#plot the count of the target variable\n",
        "sns.set_theme(style=\"darkgrid\")\n",
        "sns.countplot(df['Response'], data=df)"
      ]
    },
    {
      "cell_type": "markdown",
      "metadata": {
        "id": "EKwR9lzBahaj"
      },
      "source": [
        "\n",
        "\n",
        "*   The data is highly imbalanced.\n",
        "\n",
        "\n"
      ]
    },
    {
      "cell_type": "markdown",
      "metadata": {
        "id": "8sIX6X7IM8oG"
      },
      "source": [
        "**Univariate and Bivariate Analysis**"
      ]
    },
    {
      "cell_type": "markdown",
      "metadata": {
        "id": "r4o5u_33NFqc"
      },
      "source": [
        "Let us go through variables and analyse them."
      ]
    },
    {
      "cell_type": "markdown",
      "metadata": {
        "id": "ur2F4DZRbuHa"
      },
      "source": [
        "**Gender**"
      ]
    },
    {
      "cell_type": "code",
      "execution_count": null,
      "metadata": {
        "colab": {
          "base_uri": "https://localhost:8080/"
        },
        "id": "TBERfo__NTvO",
        "outputId": "aaf3ceb7-efdb-4970-a7dd-fb65b5849b21"
      },
      "outputs": [
        {
          "data": {
            "text/plain": [
              "Male      54.07613\n",
              "Female    45.92387\n",
              "Name: Gender, dtype: float64"
            ]
          },
          "execution_count": 148,
          "metadata": {},
          "output_type": "execute_result"
        }
      ],
      "source": [
        "# Percentage of 'Gender' with respect to 'Response'\n",
        "(df['Gender'].value_counts() / df['Gender'].count()) * 100"
      ]
    },
    {
      "cell_type": "code",
      "execution_count": null,
      "metadata": {
        "colab": {
          "base_uri": "https://localhost:8080/",
          "height": 357
        },
        "id": "N7t8v4k8acRs",
        "outputId": "6b4df031-3220-4b03-fa0a-f770d714eab1"
      },
      "outputs": [
        {
          "name": "stderr",
          "output_type": "stream",
          "text": [
            "/usr/local/lib/python3.7/dist-packages/seaborn/_decorators.py:43: FutureWarning: Pass the following variable as a keyword arg: x. From version 0.12, the only valid positional argument will be `data`, and passing other arguments without an explicit keyword will result in an error or misinterpretation.\n",
            "  FutureWarning\n"
          ]
        },
        {
          "data": {
            "text/plain": [
              "<matplotlib.axes._subplots.AxesSubplot at 0x7f4600a1d290>"
            ]
          },
          "execution_count": 149,
          "metadata": {},
          "output_type": "execute_result"
        },
        {
          "data": {
            "image/png": "[encoded data removed]",
            "text/plain": [
              "<Figure size 432x288 with 1 Axes>"
            ]
          },
          "metadata": {},
          "output_type": "display_data"
        }
      ],
      "source": [
        "#countplot of 'Gender'\n",
        "sns.set_theme(style=\"darkgrid\")\n",
        "sns.countplot(df['Gender'], data=df)"
      ]
    },
    {
      "cell_type": "markdown",
      "metadata": {
        "id": "PwcqPqq2NkP9"
      },
      "source": [
        "we see that Males are more interested in buying a insurance rather than females."
      ]
    },
    {
      "cell_type": "code",
      "execution_count": null,
      "metadata": {
        "colab": {
          "base_uri": "https://localhost:8080/",
          "height": 411
        },
        "id": "UzuTZPYCsTqM",
        "outputId": "a161e822-73f8-4477-9dc4-4ed50ea49a71"
      },
      "outputs": [
        {
          "name": "stderr",
          "output_type": "stream",
          "text": [
            "/usr/local/lib/python3.7/dist-packages/seaborn/_decorators.py:43: FutureWarning: Pass the following variable as a keyword arg: x. From version 0.12, the only valid positional argument will be `data`, and passing other arguments without an explicit keyword will result in an error or misinterpretation.\n",
            "  FutureWarning\n"
          ]
        },
        {
          "data": {
            "text/plain": [
              "<matplotlib.axes._subplots.AxesSubplot at 0x7f46009f69d0>"
            ]
          },
          "execution_count": 150,
          "metadata": {},
          "output_type": "execute_result"
        },
        {
          "data": {
            "image/png": "[encoded data removed]",
            "text/plain": [
              "<Figure size 720x360 with 1 Axes>"
            ]
          },
          "metadata": {},
          "output_type": "display_data"
        }
      ],
      "source": [
        "#Gender vs response\n",
        "plt.figure(figsize=(10,5))\n",
        "sns.countplot(df['Gender'],hue=df['Response'],data=df)"
      ]
    },
    {
      "cell_type": "markdown",
      "metadata": {
        "id": "Zhs2pXBLtQKx"
      },
      "source": [
        "\n",
        "\n",
        "*   The gender variable in the dataset is almost equally distributed.\n",
        "\n",
        "*   Male category is slightly greater than that of female and chances of   buying  the insurance is also little high.\n",
        " \n",
        "\n",
        "\n",
        "\n",
        "\n",
        "\n",
        "\n"
      ]
    },
    {
      "cell_type": "markdown",
      "metadata": {
        "id": "u8NPOJoKN1dF"
      },
      "source": [
        "**Age**"
      ]
    },
    {
      "cell_type": "code",
      "execution_count": null,
      "metadata": {
        "colab": {
          "base_uri": "https://localhost:8080/",
          "height": 683
        },
        "id": "3lWioGvy-WAr",
        "outputId": "1a3c16a6-2384-43d6-fe36-b7da2b3c4f7e"
      },
      "outputs": [
        {
          "name": "stderr",
          "output_type": "stream",
          "text": [
            "/usr/local/lib/python3.7/dist-packages/seaborn/_decorators.py:43: FutureWarning: Pass the following variable as a keyword arg: x. From version 0.12, the only valid positional argument will be `data`, and passing other arguments without an explicit keyword will result in an error or misinterpretation.\n",
            "  FutureWarning\n"
          ]
        },
        {
          "data": {
            "text/plain": [
              "<matplotlib.axes._subplots.AxesSubplot at 0x7f46009594d0>"
            ]
          },
          "execution_count": 151,
          "metadata": {},
          "output_type": "execute_result"
        },
        {
          "data": {
            "image/png": "[encoded data removed]",
            "text/plain": [
              "<Figure size 1440x720 with 1 Axes>"
            ]
          },
          "metadata": {},
          "output_type": "display_data"
        }
      ],
      "source": [
        "#age vs response\n",
        "plt.figure(figsize=(20,10))\n",
        "sns.countplot(df[\"Age\"],hue=df[\"Response\"],data=df)"
      ]
    },
    {
      "cell_type": "markdown",
      "metadata": {
        "id": "QUUWBimkOYU7"
      },
      "source": [
        "**Vehicle Age**"
      ]
    },
    {
      "cell_type": "code",
      "execution_count": null,
      "metadata": {
        "colab": {
          "base_uri": "https://localhost:8080/"
        },
        "id": "nZrlTWFROuQ7",
        "outputId": "f272485c-3d69-4797-ba80-3e65194fd27c"
      },
      "outputs": [
        {
          "data": {
            "text/plain": [
              "1-2 Year     200316\n",
              "< 1 Year     164786\n",
              "> 2 Years     16007\n",
              "Name: Vehicle_Age, dtype: int64"
            ]
          },
          "execution_count": 152,
          "metadata": {},
          "output_type": "execute_result"
        }
      ],
      "source": [
        "#value count of 'Vehicle Age\"\n",
        "df[\"Vehicle_Age\"].value_counts()"
      ]
    },
    {
      "cell_type": "code",
      "execution_count": null,
      "metadata": {
        "colab": {
          "base_uri": "https://localhost:8080/",
          "height": 356
        },
        "id": "v9pU4xc-UrvG",
        "outputId": "b9a4b13b-d541-49cb-b77b-12706a6e4100"
      },
      "outputs": [
        {
          "name": "stderr",
          "output_type": "stream",
          "text": [
            "/usr/local/lib/python3.7/dist-packages/seaborn/_decorators.py:43: FutureWarning: Pass the following variable as a keyword arg: x. From version 0.12, the only valid positional argument will be `data`, and passing other arguments without an explicit keyword will result in an error or misinterpretation.\n",
            "  FutureWarning\n"
          ]
        },
        {
          "data": {
            "image/png": "[encoded data removed]",
            "text/plain": [
              "<Figure size 576x288 with 1 Axes>"
            ]
          },
          "metadata": {},
          "output_type": "display_data"
        }
      ],
      "source": [
        "# Ploting count plot for Vechile Age column\n",
        "\n",
        "plt.figure(figsize = (8, 4))\n",
        "\n",
        "sns.countplot(df['Response'])\n",
        "\n",
        "plt.title('Responses')\n",
        "\n",
        "plt.xlabel('Count for each Response(Yes - 1/No - 0)')\n",
        "plt.ylabel('Frequency')\n",
        "\n",
        "plt.show()"
      ]
    },
    {
      "cell_type": "code",
      "execution_count": null,
      "metadata": {
        "colab": {
          "base_uri": "https://localhost:8080/",
          "height": 411
        },
        "id": "7D07Woe_uh0Y",
        "outputId": "b5323cc2-1ece-43be-a4c0-147d65201095"
      },
      "outputs": [
        {
          "name": "stderr",
          "output_type": "stream",
          "text": [
            "/usr/local/lib/python3.7/dist-packages/seaborn/_decorators.py:43: FutureWarning: Pass the following variable as a keyword arg: x. From version 0.12, the only valid positional argument will be `data`, and passing other arguments without an explicit keyword will result in an error or misinterpretation.\n",
            "  FutureWarning\n"
          ]
        },
        {
          "data": {
            "text/plain": [
              "<matplotlib.axes._subplots.AxesSubplot at 0x7f4600c46190>"
            ]
          },
          "execution_count": 153,
          "metadata": {},
          "output_type": "execute_result"
        },
        {
          "data": {
            "image/png": "[encoded data removed]",
            "text/plain": [
              "<Figure size 720x360 with 1 Axes>"
            ]
          },
          "metadata": {},
          "output_type": "display_data"
        }
      ],
      "source": [
        "#countplot of Vehicle Age vs response\n",
        "plt.figure(figsize=(10,5))\n",
        "sns.countplot(df['Vehicle_Age'],hue=df['Response'],data=df)"
      ]
    },
    {
      "cell_type": "markdown",
      "metadata": {
        "id": "_uILNcBH7SQ4"
      },
      "source": [
        "\n",
        "*  95 % of health insurance customers have vehichle that's less than 2 years of age \n",
        "\n",
        "*   Customers with vechicle age 1-2 years are more likely to interested as compared to the other two\n",
        "\n",
        "*   Customers with Vehicle_Age >2 years have very less chance of buying Insurance"
      ]
    },
    {
      "cell_type": "markdown",
      "metadata": {
        "id": "t7IO-HBAPASa"
      },
      "source": [
        "**Vehicle Damage**"
      ]
    },
    {
      "cell_type": "code",
      "execution_count": null,
      "metadata": {
        "colab": {
          "base_uri": "https://localhost:8080/"
        },
        "id": "8OdLquSsPLcB",
        "outputId": "69cb6cf0-5c5c-43af-82cc-3c366b4765e9"
      },
      "outputs": [
        {
          "data": {
            "text/plain": [
              "Yes    192413\n",
              "No     188696\n",
              "Name: Vehicle_Damage, dtype: int64"
            ]
          },
          "execution_count": 154,
          "metadata": {},
          "output_type": "execute_result"
        }
      ],
      "source": [
        "#value count of 'Vehicle Damage'\n",
        "df['Vehicle_Damage'].value_counts()"
      ]
    },
    {
      "cell_type": "code",
      "execution_count": null,
      "metadata": {
        "colab": {
          "base_uri": "https://localhost:8080/"
        },
        "id": "gXFJYKPwPPTp",
        "outputId": "63fec0bf-5c4d-4abb-ae77-5f1c55c41855"
      },
      "outputs": [
        {
          "data": {
            "text/plain": [
              "Yes    50.487656\n",
              "No     49.512344\n",
              "Name: Vehicle_Damage, dtype: float64"
            ]
          },
          "execution_count": 155,
          "metadata": {},
          "output_type": "execute_result"
        }
      ],
      "source": [
        "# Percentage For Vechile Damage\n",
        "(df['Vehicle_Damage'].value_counts() / df['Vehicle_Damage'].count()) * 100"
      ]
    },
    {
      "cell_type": "code",
      "execution_count": null,
      "metadata": {
        "colab": {
          "base_uri": "https://localhost:8080/",
          "height": 427
        },
        "id": "vD9MwQp08adJ",
        "outputId": "f4fb6f2d-7db0-48cc-ccf9-ea3529e06702"
      },
      "outputs": [
        {
          "name": "stderr",
          "output_type": "stream",
          "text": [
            "/usr/local/lib/python3.7/dist-packages/seaborn/_decorators.py:43: FutureWarning: Pass the following variable as a keyword arg: x. From version 0.12, the only valid positional argument will be `data`, and passing other arguments without an explicit keyword will result in an error or misinterpretation.\n",
            "  FutureWarning\n"
          ]
        },
        {
          "data": {
            "text/plain": [
              "Text(0.5, 1.0, 'Vechile Damage(Yes/No)')"
            ]
          },
          "execution_count": 156,
          "metadata": {},
          "output_type": "execute_result"
        },
        {
          "data": {
            "image/png": "[encoded data removed]",
            "text/plain": [
              "<Figure size 720x360 with 1 Axes>"
            ]
          },
          "metadata": {},
          "output_type": "display_data"
        }
      ],
      "source": [
        "#plot the count of 'Vehicle Damage'\n",
        "plt.figure(figsize = (10 ,5))\n",
        "sns.countplot(df['Vehicle_Damage'], palette = 'pastel')\n",
        "plt.title('Vechile Damage(Yes/No)')\n"
      ]
    },
    {
      "cell_type": "markdown",
      "metadata": {
        "id": "drWOfkwGxz4s"
      },
      "source": [
        "\n",
        "\n",
        "\n",
        "\n",
        "*   half of the health insurance customer have had their vehicle damaged and half have not.\n",
        "\n",
        "\n",
        "\n"
      ]
    },
    {
      "cell_type": "code",
      "source": [
        "#countplot of Vehicle Damage vs response\n",
        "plt.figure(figsize=(10,5))\n",
        "sns.countplot(df['Vehicle_Damage'],hue=df['Response'],data=df)"
      ],
      "metadata": {
        "colab": {
          "base_uri": "https://localhost:8080/",
          "height": 410
        },
        "id": "xx9jZ4OZmnQq",
        "outputId": "8b0d93e3-47a4-4f49-cc8c-d393f711f21f"
      },
      "execution_count": null,
      "outputs": [
        {
          "output_type": "stream",
          "name": "stderr",
          "text": [
            "/usr/local/lib/python3.7/dist-packages/seaborn/_decorators.py:43: FutureWarning: Pass the following variable as a keyword arg: x. From version 0.12, the only valid positional argument will be `data`, and passing other arguments without an explicit keyword will result in an error or misinterpretation.\n",
            "  FutureWarning\n"
          ]
        },
        {
          "output_type": "execute_result",
          "data": {
            "text/plain": [
              "<matplotlib.axes._subplots.AxesSubplot at 0x7f2d1531a650>"
            ]
          },
          "metadata": {},
          "execution_count": 5
        },
        {
          "output_type": "display_data",
          "data": {
            "text/plain": [
              "<Figure size 720x360 with 1 Axes>"
            ],
            "image/png": "[encoded data removed]"
          },
          "metadata": {
            "needs_background": "light"
          }
        }
      ]
    },
    {
      "cell_type": "markdown",
      "metadata": {
        "id": "-vTlvdnJQyP2"
      },
      "source": [
        "**Driving License**"
      ]
    },
    {
      "cell_type": "code",
      "execution_count": null,
      "metadata": {
        "colab": {
          "base_uri": "https://localhost:8080/",
          "height": 361
        },
        "id": "rh223W89vtRc",
        "outputId": "a1777a0b-e2b8-4dc3-8650-4588fc688799"
      },
      "outputs": [
        {
          "name": "stderr",
          "output_type": "stream",
          "text": [
            "/usr/local/lib/python3.7/dist-packages/seaborn/_decorators.py:43: FutureWarning: Pass the following variable as a keyword arg: x. From version 0.12, the only valid positional argument will be `data`, and passing other arguments without an explicit keyword will result in an error or misinterpretation.\n",
            "  FutureWarning\n"
          ]
        },
        {
          "data": {
            "text/plain": [
              "<matplotlib.axes._subplots.AxesSubplot at 0x7f4600d8b150>"
            ]
          },
          "execution_count": 157,
          "metadata": {},
          "output_type": "execute_result"
        },
        {
          "data": {
            "image/png": "[encoded data removed]",
            "text/plain": [
              "<Figure size 432x288 with 1 Axes>"
            ]
          },
          "metadata": {},
          "output_type": "display_data"
        }
      ],
      "source": [
        "#Driving license vs Response\n",
        "sns.countplot(df['Driving_License'],hue=df['Response'])"
      ]
    },
    {
      "cell_type": "markdown",
      "metadata": {
        "id": "bZt5PYOEwIng"
      },
      "source": [
        "\n",
        "\n",
        "*   Customers who are interested in Vehicle Insurance almost all have driving license.\n",
        "\n"
      ]
    },
    {
      "cell_type": "markdown",
      "metadata": {
        "id": "SR9c5GrB0bmF"
      },
      "source": [
        "**Previously insured**"
      ]
    },
    {
      "cell_type": "code",
      "execution_count": null,
      "metadata": {
        "colab": {
          "base_uri": "https://localhost:8080/",
          "height": 355
        },
        "id": "2fALrb8a0f8b",
        "outputId": "83b3426d-a3bc-402f-ca1c-b6de19c648e8"
      },
      "outputs": [
        {
          "output_type": "stream",
          "name": "stderr",
          "text": [
            "/usr/local/lib/python3.7/dist-packages/seaborn/_decorators.py:43: FutureWarning: Pass the following variable as a keyword arg: x. From version 0.12, the only valid positional argument will be `data`, and passing other arguments without an explicit keyword will result in an error or misinterpretation.\n",
            "  FutureWarning\n"
          ]
        },
        {
          "output_type": "execute_result",
          "data": {
            "text/plain": [
              "<matplotlib.axes._subplots.AxesSubplot at 0x7f80f2444a50>"
            ]
          },
          "metadata": {},
          "execution_count": 6
        },
        {
          "output_type": "display_data",
          "data": {
            "text/plain": [
              "<Figure size 432x288 with 1 Axes>"
            ],
            "image/png": "[encoded data removed]"
          },
          "metadata": {
            "needs_background": "light"
          }
        }
      ],
      "source": [
        "#previously insured vs response\n",
        "sns.countplot(df['Previously_Insured'],hue=df['Response']) "
      ]
    },
    {
      "cell_type": "code",
      "execution_count": null,
      "metadata": {
        "colab": {
          "base_uri": "https://localhost:8080/",
          "height": 382
        },
        "id": "kaC_PfSFU35z",
        "outputId": "5530bf84-9dff-41f5-8dab-7633eb3b7640"
      },
      "outputs": [
        {
          "data": {
            "image/png": "[encoded data removed]",
            "text/plain": [
              "<Figure size 432x576 with 1 Axes>"
            ]
          },
          "metadata": {},
          "output_type": "display_data"
        }
      ],
      "source": [
        "#Calculating percentage of interested and not interested people for insurance\n",
        "\n",
        "interested = abs(len(df[df['Response'] == 1])/len(df)*100)\n",
        "\n",
        "not_interested = abs(len(df[df['Response'] == 0])/len(df)*100)\n",
        "\n",
        "total_prcentage = [interested, not_interested]\n",
        "\n",
        "# Creating a pie chart\n",
        "plt.figure(figsize = (6,8))\n",
        "\n",
        "plt.pie(total_prcentage, labels = ['Interested People','Not Interested People'], autopct = '%.1f%%')\n",
        "\n",
        "plt.title('Positive and negative samples (Percentages)')\n",
        "\n",
        "plt.show()"
      ]
    },
    {
      "cell_type": "markdown",
      "metadata": {
        "id": "EwQm-q1tV0LQ"
      },
      "source": [
        "* Only 12% are interested in purchasing vehicle insurance.\n",
        "* This is also showing the data imbalance as our response as yes is very less i.e 12% which will lead our model to a biased model.\n",
        "* We will use Resampling technique to over come this data imbalance.\n",
        "\n",
        "\n",
        "\n"
      ]
    },
    {
      "cell_type": "markdown",
      "metadata": {
        "id": "DOElUZ0r8lLg"
      },
      "source": [
        "**Checking for outliers in numerical columns**"
      ]
    },
    {
      "cell_type": "code",
      "execution_count": null,
      "metadata": {
        "colab": {
          "base_uri": "https://localhost:8080/",
          "height": 711
        },
        "id": "KSPaz94Z8ZC5",
        "outputId": "09e49ee3-d590-4a27-caee-b6c792f7c0e8"
      },
      "outputs": [
        {
          "name": "stderr",
          "output_type": "stream",
          "text": [
            "/usr/local/lib/python3.7/dist-packages/seaborn/_decorators.py:43: FutureWarning: Pass the following variable as a keyword arg: x. From version 0.12, the only valid positional argument will be `data`, and passing other arguments without an explicit keyword will result in an error or misinterpretation.\n",
            "  FutureWarning\n"
          ]
        },
        {
          "data": {
            "image/png": "[encoded data removed]",
            "text/plain": [
              "<Figure size 360x360 with 1 Axes>"
            ]
          },
          "metadata": {},
          "output_type": "display_data"
        },
        {
          "name": "stderr",
          "output_type": "stream",
          "text": [
            "/usr/local/lib/python3.7/dist-packages/seaborn/_decorators.py:43: FutureWarning: Pass the following variable as a keyword arg: x. From version 0.12, the only valid positional argument will be `data`, and passing other arguments without an explicit keyword will result in an error or misinterpretation.\n",
            "  FutureWarning\n"
          ]
        },
        {
          "data": {
            "image/png": "[encoded data removed]",
            "text/plain": [
              "<Figure size 360x360 with 1 Axes>"
            ]
          },
          "metadata": {},
          "output_type": "display_data"
        },
        {
          "name": "stderr",
          "output_type": "stream",
          "text": [
            "/usr/local/lib/python3.7/dist-packages/seaborn/_decorators.py:43: FutureWarning: Pass the following variable as a keyword arg: x. From version 0.12, the only valid positional argument will be `data`, and passing other arguments without an explicit keyword will result in an error or misinterpretation.\n",
            "  FutureWarning\n"
          ]
        },
        {
          "data": {
            "image/png": "[encoded data removed]",
            "text/plain": [
              "<Figure size 360x360 with 1 Axes>"
            ]
          },
          "metadata": {},
          "output_type": "display_data"
        }
      ],
      "source": [
        "# Plotting boxplots for checking outliers\n",
        "plt.figure(figsize=(5,5))\n",
        "plt.subplot(2,1,2)\n",
        "sns.boxplot(df['Age'])\n",
        "plt.title(\"Age\")\n",
        "plt.show()\n",
        "\n",
        "plt.figure(figsize=(5,5))\n",
        "plt.subplot(2,1,2)\n",
        "sns.boxplot(df['Annual_Premium'])\n",
        "plt.title(\"Annual premium\")\n",
        "plt.show()\n",
        "\n",
        "plt.figure(figsize=(5,5))\n",
        "plt.subplot(2,1,2)\n",
        "sns.boxplot(df['Vintage'])\n",
        "plt.title(\"Vintage\")\n",
        "plt.show()"
      ]
    },
    {
      "cell_type": "markdown",
      "metadata": {
        "id": "tFdynIZW-Ket"
      },
      "source": [
        "**Annual premium has outliers because the premium amount depends on various factors. New and expensive cars generally have high amounts.**"
      ]
    },
    {
      "cell_type": "markdown",
      "metadata": {
        "id": "zhsnis0DRIOI"
      },
      "source": [
        "**Annual Premium**"
      ]
    },
    {
      "cell_type": "code",
      "execution_count": null,
      "metadata": {
        "colab": {
          "base_uri": "https://localhost:8080/",
          "height": 334
        },
        "id": "6AeDMI25-a-0",
        "outputId": "7b5f1254-660a-4db0-d514-419e1e0fc408"
      },
      "outputs": [
        {
          "name": "stderr",
          "output_type": "stream",
          "text": [
            "/usr/local/lib/python3.7/dist-packages/seaborn/distributions.py:2619: FutureWarning: `distplot` is a deprecated function and will be removed in a future version. Please adapt your code to use either `displot` (a figure-level function with similar flexibility) or `histplot` (an axes-level function for histograms).\n",
            "  warnings.warn(msg, FutureWarning)\n"
          ]
        },
        {
          "data": {
            "image/png": "[encoded data removed]",
            "text/plain": [
              "<Figure size 432x288 with 1 Axes>"
            ]
          },
          "metadata": {},
          "output_type": "display_data"
        }
      ],
      "source": [
        "#plotting distribution for annual premium\n",
        "sns.distplot(x=df['Annual_Premium']);"
      ]
    },
    {
      "cell_type": "markdown",
      "metadata": {
        "id": "Esvz9uoE-xqa"
      },
      "source": [
        "* Right Skewed distribution.\n",
        "* We can apply log transformation to see better."
      ]
    },
    {
      "cell_type": "code",
      "execution_count": null,
      "metadata": {
        "colab": {
          "base_uri": "https://localhost:8080/",
          "height": 323
        },
        "id": "mcTV8XpH_c_O",
        "outputId": "e4de90e8-f793-4c84-cef6-75c55852011c"
      },
      "outputs": [
        {
          "name": "stderr",
          "output_type": "stream",
          "text": [
            "/usr/local/lib/python3.7/dist-packages/seaborn/distributions.py:2619: FutureWarning: `distplot` is a deprecated function and will be removed in a future version. Please adapt your code to use either `displot` (a figure-level function with similar flexibility) or `histplot` (an axes-level function for histograms).\n",
            "  warnings.warn(msg, FutureWarning)\n"
          ]
        },
        {
          "data": {
            "image/png": "[encoded data removed]",
            "text/plain": [
              "<Figure size 432x288 with 1 Axes>"
            ]
          },
          "metadata": {},
          "output_type": "display_data"
        }
      ],
      "source": [
        "# After applying log transformation\n",
        "sns.distplot(x=np.log10(df['Annual_Premium']));"
      ]
    },
    {
      "cell_type": "markdown",
      "metadata": {
        "id": "5IT1V2r5_jnw"
      },
      "source": [
        "**The distribution looks better now.**"
      ]
    },
    {
      "cell_type": "markdown",
      "metadata": {
        "id": "_fSJhokva6UK"
      },
      "source": [
        "# **FEATURE ENGINEERING**"
      ]
    },
    {
      "cell_type": "code",
      "execution_count": null,
      "metadata": {
        "colab": {
          "base_uri": "https://localhost:8080/"
        },
        "id": "bPoCZQO_8YbL",
        "outputId": "d3467582-155a-4d91-c42a-6134d7fd8ff2"
      },
      "outputs": [
        {
          "output_type": "stream",
          "name": "stderr",
          "text": [
            "/usr/local/lib/python3.7/dist-packages/sklearn/preprocessing/_label.py:115: DataConversionWarning: A column-vector y was passed when a 1d array was expected. Please change the shape of y to (n_samples, ), for example using ravel().\n",
            "  y = column_or_1d(y, warn=True)\n"
          ]
        }
      ],
      "source": [
        "from sklearn import preprocessing\n",
        "from sklearn.preprocessing import LabelEncoder\n",
        "from sklearn.preprocessing import OneHotEncoder\n",
        "\n",
        "#initialize\n",
        "le = LabelEncoder()\n",
        "ohe = OneHotEncoder()\n",
        "\n",
        "#mapping\n",
        "df[\"Vehicle_Age\"]=df[\"Vehicle_Age\"].map({\"> 2 Years\":2,\"1-2 Year\":1,\"< 1 Year\":0})\n",
        "\n",
        "\n",
        "#categorical to numerical\n",
        "df['Gender'] = ohe.fit_transform(df[[\"Gender\"]]).toarray()\n",
        "df['Vehicle_Age'] = le.fit_transform(df[['Vehicle_Age']])\n",
        "df['Vehicle_Damage'] = le.fit_transform(df[['Vehicle_Damage']])\n"
      ]
    },
    {
      "cell_type": "code",
      "execution_count": null,
      "metadata": {
        "colab": {
          "base_uri": "https://localhost:8080/",
          "height": 363
        },
        "id": "wj39AS_nzZbs",
        "outputId": "57839963-222b-4f66-841c-285f460a713e"
      },
      "outputs": [
        {
          "output_type": "execute_result",
          "data": {
            "text/plain": [
              "   id  Gender  Age  Driving_License  Region_Code  Previously_Insured  \\\n",
              "0   1     0.0   44                1         28.0                   0   \n",
              "1   2     0.0   76                1          3.0                   0   \n",
              "2   3     0.0   47                1         28.0                   0   \n",
              "3   4     0.0   21                1         11.0                   1   \n",
              "4   5     1.0   29                1         41.0                   1   \n",
              "5   6     1.0   24                1         33.0                   0   \n",
              "6   7     0.0   23                1         11.0                   0   \n",
              "7   8     1.0   56                1         28.0                   0   \n",
              "8   9     1.0   24                1          3.0                   1   \n",
              "9  10     1.0   32                1          6.0                   1   \n",
              "\n",
              "   Vehicle_Age  Vehicle_Damage  Annual_Premium  Policy_Sales_Channel  Vintage  \\\n",
              "0            2               1         40454.0                  26.0      217   \n",
              "1            1               0         33536.0                  26.0      183   \n",
              "2            2               1         38294.0                  26.0       27   \n",
              "3            0               0         28619.0                 152.0      203   \n",
              "4            0               0         27496.0                 152.0       39   \n",
              "5            0               1          2630.0                 160.0      176   \n",
              "6            0               1         23367.0                 152.0      249   \n",
              "7            1               1         32031.0                  26.0       72   \n",
              "8            0               0         27619.0                 152.0       28   \n",
              "9            0               0         28771.0                 152.0       80   \n",
              "\n",
              "   Response  \n",
              "0         1  \n",
              "1         0  \n",
              "2         1  \n",
              "3         0  \n",
              "4         0  \n",
              "5         0  \n",
              "6         0  \n",
              "7         1  \n",
              "8         0  \n",
              "9         0  "
            ],
            "text/html": [
              "\n",
              "  <div id=\"df-22938de6-b5d8-46f1-831e-bbf9c693d47f\">\n",
              "    <div class=\"colab-df-container\">\n",
              "      <div>\n",
              "<style scoped>\n",
              "    .dataframe tbody tr th:only-of-type {\n",
              "        vertical-align: middle;\n",
              "    }\n",
              "\n",
              "    .dataframe tbody tr th {\n",
              "        vertical-align: top;\n",
              "    }\n",
              "\n",
              "    .dataframe thead th {\n",
              "        text-align: right;\n",
              "    }\n",
              "</style>\n",
              "<table border=\"1\" class=\"dataframe\">\n",
              "  <thead>\n",
              "    <tr style=\"text-align: right;\">\n",
              "      <th></th>\n",
              "      <th>id</th>\n",
              "      <th>Gender</th>\n",
              "      <th>Age</th>\n",
              "      <th>Driving_License</th>\n",
              "      <th>Region_Code</th>\n",
              "      <th>Previously_Insured</th>\n",
              "      <th>Vehicle_Age</th>\n",
              "      <th>Vehicle_Damage</th>\n",
              "      <th>Annual_Premium</th>\n",
              "      <th>Policy_Sales_Channel</th>\n",
              "      <th>Vintage</th>\n",
              "      <th>Response</th>\n",
              "    </tr>\n",
              "  </thead>\n",
              "  <tbody>\n",
              "    <tr>\n",
              "      <th>0</th>\n",
              "      <td>1</td>\n",
              "      <td>0.0</td>\n",
              "      <td>44</td>\n",
              "      <td>1</td>\n",
              "      <td>28.0</td>\n",
              "      <td>0</td>\n",
              "      <td>2</td>\n",
              "      <td>1</td>\n",
              "      <td>40454.0</td>\n",
              "      <td>26.0</td>\n",
              "      <td>217</td>\n",
              "      <td>1</td>\n",
              "    </tr>\n",
              "    <tr>\n",
              "      <th>1</th>\n",
              "      <td>2</td>\n",
              "      <td>0.0</td>\n",
              "      <td>76</td>\n",
              "      <td>1</td>\n",
              "      <td>3.0</td>\n",
              "      <td>0</td>\n",
              "      <td>1</td>\n",
              "      <td>0</td>\n",
              "      <td>33536.0</td>\n",
              "      <td>26.0</td>\n",
              "      <td>183</td>\n",
              "      <td>0</td>\n",
              "    </tr>\n",
              "    <tr>\n",
              "      <th>2</th>\n",
              "      <td>3</td>\n",
              "      <td>0.0</td>\n",
              "      <td>47</td>\n",
              "      <td>1</td>\n",
              "      <td>28.0</td>\n",
              "      <td>0</td>\n",
              "      <td>2</td>\n",
              "      <td>1</td>\n",
              "      <td>38294.0</td>\n",
              "      <td>26.0</td>\n",
              "      <td>27</td>\n",
              "      <td>1</td>\n",
              "    </tr>\n",
              "    <tr>\n",
              "      <th>3</th>\n",
              "      <td>4</td>\n",
              "      <td>0.0</td>\n",
              "      <td>21</td>\n",
              "      <td>1</td>\n",
              "      <td>11.0</td>\n",
              "      <td>1</td>\n",
              "      <td>0</td>\n",
              "      <td>0</td>\n",
              "      <td>28619.0</td>\n",
              "      <td>152.0</td>\n",
              "      <td>203</td>\n",
              "      <td>0</td>\n",
              "    </tr>\n",
              "    <tr>\n",
              "      <th>4</th>\n",
              "      <td>5</td>\n",
              "      <td>1.0</td>\n",
              "      <td>29</td>\n",
              "      <td>1</td>\n",
              "      <td>41.0</td>\n",
              "      <td>1</td>\n",
              "      <td>0</td>\n",
              "      <td>0</td>\n",
              "      <td>27496.0</td>\n",
              "      <td>152.0</td>\n",
              "      <td>39</td>\n",
              "      <td>0</td>\n",
              "    </tr>\n",
              "    <tr>\n",
              "      <th>5</th>\n",
              "      <td>6</td>\n",
              "      <td>1.0</td>\n",
              "      <td>24</td>\n",
              "      <td>1</td>\n",
              "      <td>33.0</td>\n",
              "      <td>0</td>\n",
              "      <td>0</td>\n",
              "      <td>1</td>\n",
              "      <td>2630.0</td>\n",
              "      <td>160.0</td>\n",
              "      <td>176</td>\n",
              "      <td>0</td>\n",
              "    </tr>\n",
              "    <tr>\n",
              "      <th>6</th>\n",
              "      <td>7</td>\n",
              "      <td>0.0</td>\n",
              "      <td>23</td>\n",
              "      <td>1</td>\n",
              "      <td>11.0</td>\n",
              "      <td>0</td>\n",
              "      <td>0</td>\n",
              "      <td>1</td>\n",
              "      <td>23367.0</td>\n",
              "      <td>152.0</td>\n",
              "      <td>249</td>\n",
              "      <td>0</td>\n",
              "    </tr>\n",
              "    <tr>\n",
              "      <th>7</th>\n",
              "      <td>8</td>\n",
              "      <td>1.0</td>\n",
              "      <td>56</td>\n",
              "      <td>1</td>\n",
              "      <td>28.0</td>\n",
              "      <td>0</td>\n",
              "      <td>1</td>\n",
              "      <td>1</td>\n",
              "      <td>32031.0</td>\n",
              "      <td>26.0</td>\n",
              "      <td>72</td>\n",
              "      <td>1</td>\n",
              "    </tr>\n",
              "    <tr>\n",
              "      <th>8</th>\n",
              "      <td>9</td>\n",
              "      <td>1.0</td>\n",
              "      <td>24</td>\n",
              "      <td>1</td>\n",
              "      <td>3.0</td>\n",
              "      <td>1</td>\n",
              "      <td>0</td>\n",
              "      <td>0</td>\n",
              "      <td>27619.0</td>\n",
              "      <td>152.0</td>\n",
              "      <td>28</td>\n",
              "      <td>0</td>\n",
              "    </tr>\n",
              "    <tr>\n",
              "      <th>9</th>\n",
              "      <td>10</td>\n",
              "      <td>1.0</td>\n",
              "      <td>32</td>\n",
              "      <td>1</td>\n",
              "      <td>6.0</td>\n",
              "      <td>1</td>\n",
              "      <td>0</td>\n",
              "      <td>0</td>\n",
              "      <td>28771.0</td>\n",
              "      <td>152.0</td>\n",
              "      <td>80</td>\n",
              "      <td>0</td>\n",
              "    </tr>\n",
              "  </tbody>\n",
              "</table>\n",
              "</div>\n",
              "      <button class=\"colab-df-convert\" onclick=\"convertToInteractive('df-22938de6-b5d8-46f1-831e-bbf9c693d47f')\"\n",
              "              title=\"Convert this dataframe to an interactive table.\"\n",
              "              style=\"display:none;\">\n",
              "        \n",
              "  <svg xmlns=\"http://www.w3.org/2000/svg\" height=\"24px\"viewBox=\"0 0 24 24\"\n",
              "       width=\"24px\">\n",
              "    <path d=\"M0 0h24v24H0V0z\" fill=\"none\"/>\n",
              "    <path d=\"M18.56 5.44l.94 2.06.94-2.06 2.06-.94-2.06-.94-.94-2.06-.94 2.06-2.06.94zm-11 1L8.5 8.5l.94-2.06 2.06-.94-2.06-.94L8.5 2.5l-.94 2.06-2.06.94zm10 10l.94 2.06.94-2.06 2.06-.94-2.06-.94-.94-2.06-.94 2.06-2.06.94z\"/><path d=\"M17.41 7.96l-1.37-1.37c-.4-.4-.92-.59-1.43-.59-.52 0-1.04.2-1.43.59L10.3 9.45l-7.72 7.72c-.78.78-.78 2.05 0 2.83L4 21.41c.39.39.9.59 1.41.59.51 0 1.02-.2 1.41-.59l7.78-7.78 2.81-2.81c.8-.78.8-2.07 0-2.86zM5.41 20L4 18.59l7.72-7.72 1.47 1.35L5.41 20z\"/>\n",
              "  </svg>\n",
              "      </button>\n",
              "      \n",
              "  <style>\n",
              "    .colab-df-container {\n",
              "      display:flex;\n",
              "      flex-wrap:wrap;\n",
              "      gap: 12px;\n",
              "    }\n",
              "\n",
              "    .colab-df-convert {\n",
              "      background-color: #E8F0FE;\n",
              "      border: none;\n",
              "      border-radius: 50%;\n",
              "      cursor: pointer;\n",
              "      display: none;\n",
              "      fill: #1967D2;\n",
              "      height: 32px;\n",
              "      padding: 0 0 0 0;\n",
              "      width: 32px;\n",
              "    }\n",
              "\n",
              "    .colab-df-convert:hover {\n",
              "      background-color: #E2EBFA;\n",
              "      box-shadow: 0px 1px 2px rgba(60, 64, 67, 0.3), 0px 1px 3px 1px rgba(60, 64, 67, 0.15);\n",
              "      fill: #174EA6;\n",
              "    }\n",
              "\n",
              "    [theme=dark] .colab-df-convert {\n",
              "      background-color: #3B4455;\n",
              "      fill: #D2E3FC;\n",
              "    }\n",
              "\n",
              "    [theme=dark] .colab-df-convert:hover {\n",
              "      background-color: #434B5C;\n",
              "      box-shadow: 0px 1px 3px 1px rgba(0, 0, 0, 0.15);\n",
              "      filter: drop-shadow(0px 1px 2px rgba(0, 0, 0, 0.3));\n",
              "      fill: #FFFFFF;\n",
              "    }\n",
              "  </style>\n",
              "\n",
              "      <script>\n",
              "        const buttonEl =\n",
              "          document.querySelector('#df-22938de6-b5d8-46f1-831e-bbf9c693d47f button.colab-df-convert');\n",
              "        buttonEl.style.display =\n",
              "          google.colab.kernel.accessAllowed ? 'block' : 'none';\n",
              "\n",
              "        async function convertToInteractive(key) {\n",
              "          const element = document.querySelector('#df-22938de6-b5d8-46f1-831e-bbf9c693d47f');\n",
              "          const dataTable =\n",
              "            await google.colab.kernel.invokeFunction('convertToInteractive',\n",
              "                                                     [key], {});\n",
              "          if (!dataTable) return;\n",
              "\n",
              "          const docLinkHtml = 'Like what you see? Visit the ' +\n",
              "            '<a target=\"_blank\" href=https://colab.research.google.com/notebooks/data_table.ipynb>data table notebook</a>'\n",
              "            + ' to learn more about interactive tables.';\n",
              "          element.innerHTML = '';\n",
              "          dataTable['output_type'] = 'display_data';\n",
              "          await google.colab.output.renderOutput(dataTable, element);\n",
              "          const docLink = document.createElement('div');\n",
              "          docLink.innerHTML = docLinkHtml;\n",
              "          element.appendChild(docLink);\n",
              "        }\n",
              "      </script>\n",
              "    </div>\n",
              "  </div>\n",
              "  "
            ]
          },
          "metadata": {},
          "execution_count": 8
        }
      ],
      "source": [
        "#first 10 rows after encoding\n",
        "df.head(10)"
      ]
    },
    {
      "cell_type": "markdown",
      "metadata": {
        "id": "jKhQaPYP0Pvs"
      },
      "source": [
        "##Feature Selection"
      ]
    },
    {
      "cell_type": "code",
      "execution_count": null,
      "metadata": {
        "id": "ZCGd65bZtYtL"
      },
      "outputs": [],
      "source": [
        "#importing important libraries for feature selection\n",
        "from sklearn.feature_selection import SelectKBest\n",
        "from sklearn.feature_selection import f_classif"
      ]
    },
    {
      "cell_type": "code",
      "execution_count": null,
      "metadata": {
        "id": "bcFR44jztxid"
      },
      "outputs": [],
      "source": [
        "independent = df.drop(['Response'], axis=1) #Contain all independent variables\n",
        "dependent = df['Response'] #Contain Dependent variable"
      ]
    },
    {
      "cell_type": "code",
      "execution_count": null,
      "metadata": {
        "colab": {
          "base_uri": "https://localhost:8080/"
        },
        "id": "HJkxfrZxtiBw",
        "outputId": "d0cb0e13-a6cc-4370-9ebe-c6bf07b9735d"
      },
      "outputs": [
        {
          "output_type": "execute_result",
          "data": {
            "text/plain": [
              "(array([7.13370735e-01, 1.05091307e+03, 4.76694479e+03, 3.93066928e+01,\n",
              "        4.25827356e+01, 5.02033540e+04, 1.97325562e+04, 5.47422454e+04,\n",
              "        1.94317587e+02, 7.51301151e+03, 4.20468707e-01]),\n",
              " array([3.98327606e-001, 3.18074235e-230, 0.00000000e+000, 3.62583444e-010,\n",
              "        6.78391651e-011, 0.00000000e+000, 0.00000000e+000, 0.00000000e+000,\n",
              "        3.72231514e-044, 0.00000000e+000, 5.16703652e-001]))"
            ]
          },
          "metadata": {},
          "execution_count": 11
        }
      ],
      "source": [
        "#Finding scores of each feature\n",
        "f_scores = f_classif(independent, dependent)\n",
        "f_scores"
      ]
    },
    {
      "cell_type": "code",
      "execution_count": null,
      "metadata": {
        "colab": {
          "base_uri": "https://localhost:8080/",
          "height": 432
        },
        "id": "up8yV6-bt8AQ",
        "outputId": "ef5a45fa-faaf-45d7-ab4a-7a6cf9265eaf"
      },
      "outputs": [
        {
          "output_type": "display_data",
          "data": {
            "text/plain": [
              "<Figure size 1152x360 with 1 Axes>"
            ],
            "image/png": "[encoded data removed]"
          },
          "metadata": {
            "needs_background": "light"
          }
        }
      ],
      "source": [
        "#The Second array consists of p-values that we need.\n",
        "p_values = pd.Series(f_scores[1], index= independent.columns)\n",
        "p_values.plot(kind='bar', color='blue', figsize=(16,5))\n",
        "plt.title('p-value scores for numerical features')\n",
        "plt.show()\n"
      ]
    },
    {
      "cell_type": "code",
      "execution_count": null,
      "metadata": {
        "id": "G8JirFJq0bz9"
      },
      "outputs": [],
      "source": [
        "#dropping id and vintage column\n",
        "df.drop([\"id\",\"Vintage\"],axis=1,inplace=True)"
      ]
    },
    {
      "cell_type": "markdown",
      "source": [
        "###Correlation of Features"
      ],
      "metadata": {
        "id": "TJCFudW_szF8"
      }
    },
    {
      "cell_type": "code",
      "source": [
        "#correlation\n",
        "corr = df.corr()\n",
        "\n",
        "f, ax = plt.subplots(figsize=(18,10))\n",
        "\n",
        "sns.heatmap(corr, ax=ax, annot=True,linewidths=3,cmap='YlGn')\n",
        "\n",
        "plt.title(\"Correlation of Features\", y=1.05, size=15)"
      ],
      "metadata": {
        "colab": {
          "base_uri": "https://localhost:8080/",
          "height": 724
        },
        "id": "ASHH4zKCry3d",
        "outputId": "92977e65-afe5-4bad-c714-8a79f4a92cc8"
      },
      "execution_count": null,
      "outputs": [
        {
          "output_type": "execute_result",
          "data": {
            "text/plain": [
              "Text(0.5, 1.05, 'Correlation of Features')"
            ]
          },
          "metadata": {},
          "execution_count": 16
        },
        {
          "output_type": "display_data",
          "data": {
            "text/plain": [
              "<Figure size 1296x720 with 2 Axes>"
            ],
            "image/png": "[encoded data removed]"
          },
          "metadata": {
            "needs_background": "light"
          }
        }
      ]
    },
    {
      "cell_type": "markdown",
      "source": [
        "Observations based on correlation plot:-\n",
        "\n",
        "*  Previously insured and vechicle_damage have high correlations with dependent variable\n"
      ],
      "metadata": {
        "id": "tGD7lUIvsneD"
      }
    },
    {
      "cell_type": "code",
      "execution_count": null,
      "metadata": {
        "id": "HbuGiNPEi9xt"
      },
      "outputs": [],
      "source": [
        "X=df.drop(['Response'],axis=1) #contain all  independent variable\n",
        "y=df['Response']           #dependent variable"
      ]
    },
    {
      "cell_type": "markdown",
      "metadata": {
        "id": "hIUR4L3JbKji"
      },
      "source": [
        "## Train-Test Split"
      ]
    },
    {
      "cell_type": "code",
      "execution_count": null,
      "metadata": {
        "id": "w5DTCuwT0ykW"
      },
      "outputs": [],
      "source": [
        "from sklearn.model_selection import train_test_split"
      ]
    },
    {
      "cell_type": "code",
      "execution_count": null,
      "metadata": {
        "id": "7jSZqITw4F-1"
      },
      "outputs": [],
      "source": [
        "#Splitting data into Testing and Training datasets\n",
        "Xtrain,X_test,ytrain,y_test = train_test_split(X,y,test_size=0.20,random_state = 1)"
      ]
    },
    {
      "cell_type": "code",
      "source": [
        "#Make a list to get most important Features\n",
        "train_col_list = list(Xtrain.columns)\n",
        "train_col_list"
      ],
      "metadata": {
        "colab": {
          "base_uri": "https://localhost:8080/"
        },
        "id": "tHLQvloNL5Vw",
        "outputId": "ca867751-ea44-4d90-af24-50ca2d56fe3c"
      },
      "execution_count": null,
      "outputs": [
        {
          "output_type": "execute_result",
          "data": {
            "text/plain": [
              "['Gender',\n",
              " 'Age',\n",
              " 'Driving_License',\n",
              " 'Region_Code',\n",
              " 'Previously_Insured',\n",
              " 'Vehicle_Age',\n",
              " 'Vehicle_Damage',\n",
              " 'Annual_Premium',\n",
              " 'Policy_Sales_Channel']"
            ]
          },
          "metadata": {},
          "execution_count": 139
        }
      ]
    },
    {
      "cell_type": "code",
      "source": [
        "ytrain = ytrain.values.reshape(-1,1)"
      ],
      "metadata": {
        "id": "fxjSPe8pL_E-"
      },
      "execution_count": null,
      "outputs": []
    },
    {
      "cell_type": "code",
      "source": [
        "y_test = y_test.values.reshape(-1,1)"
      ],
      "metadata": {
        "id": "2qd29jysMCnN"
      },
      "execution_count": null,
      "outputs": []
    },
    {
      "cell_type": "code",
      "source": [
        "ytrain.shape"
      ],
      "metadata": {
        "colab": {
          "base_uri": "https://localhost:8080/"
        },
        "id": "hUG3w3zQMFPS",
        "outputId": "9c304b40-d9ef-4c11-84b2-77f39507b502"
      },
      "execution_count": null,
      "outputs": [
        {
          "output_type": "execute_result",
          "data": {
            "text/plain": [
              "(304887, 1)"
            ]
          },
          "metadata": {},
          "execution_count": 142
        }
      ]
    },
    {
      "cell_type": "code",
      "source": [
        "y_test.shape"
      ],
      "metadata": {
        "colab": {
          "base_uri": "https://localhost:8080/"
        },
        "id": "00mUlsCmMIga",
        "outputId": "14976d9c-f7f6-4023-e0da-1f4d76fe0acc"
      },
      "execution_count": null,
      "outputs": [
        {
          "output_type": "execute_result",
          "data": {
            "text/plain": [
              "(76222, 1)"
            ]
          },
          "metadata": {},
          "execution_count": 143
        }
      ]
    },
    {
      "cell_type": "code",
      "execution_count": null,
      "metadata": {
        "colab": {
          "base_uri": "https://localhost:8080/"
        },
        "id": "xat-vvuC5OJe",
        "outputId": "45fc4e54-cbb1-4baf-8bfa-97f3f717162c"
      },
      "outputs": [
        {
          "output_type": "execute_result",
          "data": {
            "text/plain": [
              "(304887, 9)"
            ]
          },
          "metadata": {},
          "execution_count": 144
        }
      ],
      "source": [
        "#Checking shape of training dataset\n",
        "Xtrain.shape"
      ]
    },
    {
      "cell_type": "code",
      "execution_count": null,
      "metadata": {
        "colab": {
          "base_uri": "https://localhost:8080/"
        },
        "id": "q-a2Y3YL5WYh",
        "outputId": "8f7b3cd7-7087-4a0a-c94e-3d002ad7c8c0"
      },
      "outputs": [
        {
          "output_type": "execute_result",
          "data": {
            "text/plain": [
              "(76222, 9)"
            ]
          },
          "metadata": {},
          "execution_count": 145
        }
      ],
      "source": [
        "#Checking shape of testing dataset\n",
        "X_test.shape"
      ]
    },
    {
      "cell_type": "markdown",
      "metadata": {
        "id": "kede8NXtZr5b"
      },
      "source": [
        "##Using oversampling technique"
      ]
    },
    {
      "cell_type": "markdown",
      "source": [
        "* As we previously seen that our class data is imbalanced let us use Oversampling techique to balance our data before we go through model building.\n",
        "* We will use Random Oversampling to balance our data."
      ],
      "metadata": {
        "id": "EnDWlPAV8mK3"
      }
    },
    {
      "cell_type": "code",
      "execution_count": null,
      "metadata": {
        "colab": {
          "base_uri": "https://localhost:8080/"
        },
        "id": "gqUaQJHzWEkX",
        "outputId": "28636e99-f870-4eca-a297-4e1d80852b28"
      },
      "outputs": [
        {
          "output_type": "stream",
          "name": "stdout",
          "text": [
            "Original dataset shape 381109\n",
            "Resampled dataset shape 534694\n",
            "Resampled dataset shape 534694\n",
            "Resampled dataset shape 304887\n",
            "Resampled dataset shape 304887\n"
          ]
        }
      ],
      "source": [
        "from imblearn.over_sampling import RandomOverSampler\n",
        "\n",
        "train = RandomOverSampler(random_state = 42)\n",
        "X_train, y_train = train.fit_resample(Xtrain, ytrain)\n",
        "\n",
        "print('Original dataset shape', len(df))\n",
        "print('Resampled dataset shape', len(y_train))\n",
        "print('Resampled dataset shape', len(X_train))\n",
        "print('Resampled dataset shape', len(ytrain))\n",
        "print('Resampled dataset shape', len(Xtrain))"
      ]
    },
    {
      "cell_type": "markdown",
      "metadata": {
        "id": "RrG10pTfZ6gL"
      },
      "source": [
        "##Feature scaling"
      ]
    },
    {
      "cell_type": "code",
      "execution_count": null,
      "metadata": {
        "id": "0JfprczN1POL"
      },
      "outputs": [],
      "source": [
        "#feature scaling\n",
        "from sklearn.preprocessing import MinMaxScaler\n",
        "scaler = MinMaxScaler()\n",
        "X_train = scaler.fit_transform(X_train)\n",
        "X_test = scaler.transform(X_test)"
      ]
    },
    {
      "cell_type": "markdown",
      "metadata": {
        "id": "ztjEMGIpZ3Ti"
      },
      "source": [
        "The dataset has now been balanced using the oversampling technique, and it is ready for training the model."
      ]
    },
    {
      "cell_type": "markdown",
      "metadata": {
        "id": "eDElbTe0BjcM"
      },
      "source": [
        "# **MODEL TRAINING**"
      ]
    },
    {
      "cell_type": "markdown",
      "metadata": {
        "id": "gKhUYhPWCEGT"
      },
      "source": [
        "# **1. Logistic Regression**"
      ]
    },
    {
      "cell_type": "code",
      "execution_count": null,
      "metadata": {
        "colab": {
          "base_uri": "https://localhost:8080/"
        },
        "id": "pOGsWliBBolS",
        "outputId": "88f59b74-fae2-4b08-ab68-f7d707fe5b79"
      },
      "outputs": [
        {
          "output_type": "stream",
          "name": "stderr",
          "text": [
            "/usr/local/lib/python3.7/dist-packages/sklearn/linear_model/_logistic.py:818: ConvergenceWarning: lbfgs failed to converge (status=1):\n",
            "STOP: TOTAL NO. of ITERATIONS REACHED LIMIT.\n",
            "\n",
            "Increase the number of iterations (max_iter) or scale the data as shown in:\n",
            "    https://scikit-learn.org/stable/modules/preprocessing.html\n",
            "Please also refer to the documentation for alternative solver options:\n",
            "    https://scikit-learn.org/stable/modules/linear_model.html#logistic-regression\n",
            "  extra_warning_msg=_LOGISTIC_SOLVER_CONVERGENCE_MSG,\n",
            "/usr/local/lib/python3.7/dist-packages/sklearn/base.py:451: UserWarning: X does not have valid feature names, but LogisticRegression was fitted with feature names\n",
            "  \"X does not have valid feature names, but\"\n"
          ]
        },
        {
          "output_type": "stream",
          "name": "stdout",
          "text": [
            "Accuracy :  58.838655506284276\n",
            "              precision    recall  f1-score   support\n",
            "\n",
            "           0       1.00      0.53      0.70     67052\n",
            "           1       0.22      0.99      0.37      9170\n",
            "\n",
            "    accuracy                           0.59     76222\n",
            "   macro avg       0.61      0.76      0.53     76222\n",
            "weighted avg       0.90      0.59      0.66     76222\n",
            "\n",
            "Confusion matrix\n",
            " [[35776 31276]\n",
            " [   98  9072]]\n"
          ]
        }
      ],
      "source": [
        "from sklearn.linear_model import LogisticRegression\n",
        "from sklearn.metrics import precision_score,recall_score,accuracy_score,f1_score,confusion_matrix,roc_auc_score,classification_report\n",
        "model=LogisticRegression(max_iter = 100)\n",
        "model=model.fit(X_train,y_train)\n",
        "pred=model.predict(X_test)\n",
        "\n",
        "accu_logreg = accuracy_score(y_test,pred)\n",
        "recall_logreg = recall_score(y_test,pred)\n",
        "prec_logreg = precision_score(y_test,pred)\n",
        "\n",
        "\n",
        "#print accuracy and Auc values of model\n",
        "print(\"Accuracy : \", accuracy_score(y_test,pred)*100)\n",
        "print(classification_report(y_test,pred))\n",
        "print(\"Confusion matrix\\n\", confusion_matrix(y_test,pred))"
      ]
    },
    {
      "cell_type": "markdown",
      "metadata": {
        "id": "wto0k7GWCLoh"
      },
      "source": [
        "# **2. Decission Tree**"
      ]
    },
    {
      "cell_type": "code",
      "execution_count": null,
      "metadata": {
        "colab": {
          "base_uri": "https://localhost:8080/"
        },
        "id": "7pqLyMXyCSwf",
        "outputId": "8496806d-1039-405f-853a-8c5b41747748"
      },
      "outputs": [
        {
          "output_type": "stream",
          "name": "stderr",
          "text": [
            "/usr/local/lib/python3.7/dist-packages/sklearn/base.py:451: UserWarning: X does not have valid feature names, but DecisionTreeClassifier was fitted with feature names\n",
            "  \"X does not have valid feature names, but\"\n"
          ]
        },
        {
          "output_type": "stream",
          "name": "stdout",
          "text": [
            "86.4514182257091\n",
            "              precision    recall  f1-score   support\n",
            "\n",
            "           0       0.88      0.98      0.93     67052\n",
            "           1       0.01      0.00      0.00      9170\n",
            "\n",
            "    accuracy                           0.86     76222\n",
            "   macro avg       0.44      0.49      0.46     76222\n",
            "weighted avg       0.77      0.86      0.82     76222\n",
            "\n",
            "Confusion matrix\n",
            " [[65885  1167]\n",
            " [ 9160    10]]\n"
          ]
        }
      ],
      "source": [
        "from sklearn.tree import DecisionTreeClassifier\n",
        "from sklearn.metrics import accuracy_score,confusion_matrix,classification_report\n",
        "dtree = DecisionTreeClassifier()\n",
        "dtree = dtree.fit(X_train, y_train)\n",
        "pred = dtree.predict(X_test)\n",
        "\n",
        "accu_dtree = accuracy_score(y_test,pred)\n",
        "recall_dtree = recall_score(y_test,pred)\n",
        "prec_dtree = precision_score(y_test,pred)\n",
        "\n",
        "\n",
        "print(accuracy_score(y_test, pred)*100)\n",
        "print(classification_report(y_test, pred))\n",
        "print(\"Confusion matrix\\n\", confusion_matrix(y_test, pred))\n"
      ]
    },
    {
      "cell_type": "markdown",
      "metadata": {
        "id": "cmcCTgB0Ck4d"
      },
      "source": [
        "# **3. Random Forest**"
      ]
    },
    {
      "cell_type": "code",
      "execution_count": null,
      "metadata": {
        "colab": {
          "base_uri": "https://localhost:8080/"
        },
        "id": "LfGPBY6jCqG3",
        "outputId": "83040d70-bcee-4ddc-c172-dd31ab1b240b"
      },
      "outputs": [
        {
          "output_type": "stream",
          "name": "stdout",
          "text": [
            "82.86059143029571\n",
            "              precision    recall  f1-score   support\n",
            "\n",
            "           0       0.91      0.90      0.90     67052\n",
            "           1       0.31      0.34      0.32      9170\n",
            "\n",
            "    accuracy                           0.83     76222\n",
            "   macro avg       0.61      0.62      0.61     76222\n",
            "weighted avg       0.84      0.83      0.83     76222\n",
            "\n",
            "Confusion matrix\n",
            " [[60018  7034]\n",
            " [ 6030  3140]]\n"
          ]
        }
      ],
      "source": [
        "from sklearn.ensemble import RandomForestClassifier\n",
        "Rtree = RandomForestClassifier(n_estimators=120,)\n",
        "Rtree.fit(X_train, y_train)\n",
        "pred = Rtree.predict(X_test)\n",
        "\n",
        "accu_Rtree = accuracy_score(y_test,pred)\n",
        "recall_Rtree = recall_score(y_test,pred)\n",
        "prec_Rtree = precision_score(y_test,pred)\n",
        "\n",
        "\n",
        "print(accuracy_score(y_test, pred)*100)\n",
        "print(classification_report(y_test, pred))\n",
        "print(\"Confusion matrix\\n\", confusion_matrix(y_test, pred))\n"
      ]
    },
    {
      "cell_type": "markdown",
      "metadata": {
        "id": "D3-5dMgpD94p"
      },
      "source": [
        "# **4. XG Boost**"
      ]
    },
    {
      "cell_type": "code",
      "execution_count": null,
      "metadata": {
        "colab": {
          "base_uri": "https://localhost:8080/"
        },
        "id": "dppBPaE1EB4m",
        "outputId": "6ec6bc8f-4e25-4e43-e3fe-ad88bb8c6db4"
      },
      "outputs": [
        {
          "output_type": "stream",
          "name": "stdout",
          "text": [
            "69.91288604339955\n",
            "              precision    recall  f1-score   support\n",
            "\n",
            "           0       0.99      0.67      0.80     67052\n",
            "           1       0.28      0.93      0.43      9170\n",
            "\n",
            "    accuracy                           0.70     76222\n",
            "   macro avg       0.63      0.80      0.61     76222\n",
            "weighted avg       0.90      0.70      0.75     76222\n",
            "\n",
            "Confusion matrix\n",
            " [[44774 22278]\n",
            " [  655  8515]]\n"
          ]
        }
      ],
      "source": [
        "import xgboost as xgb\n",
        "xgb_model=xgb.XGBClassifier()\n",
        "xgb_model.fit(X_train,y_train)\n",
        "pred = xgb_model.predict(X_test)\n",
        "\n",
        "accu_xgb = accuracy_score(y_test,pred)\n",
        "recall_xgb = recall_score(y_test,pred)\n",
        "prec_xgb = precision_score(y_test,pred)\n",
        "\n",
        "\n",
        "print(accuracy_score(y_test, pred)*100)\n",
        "print(classification_report(y_test, pred))\n",
        "print(\"Confusion matrix\\n\", confusion_matrix(y_test, pred))\n"
      ]
    },
    {
      "cell_type": "markdown",
      "metadata": {
        "id": "L5joIq9n40sx"
      },
      "source": [
        "# **5. LGBM Classifier**"
      ]
    },
    {
      "cell_type": "code",
      "execution_count": null,
      "metadata": {
        "colab": {
          "base_uri": "https://localhost:8080/"
        },
        "id": "h9iT3KXT4zUQ",
        "outputId": "f4e98acd-c576-40fb-90da-011f564079f7"
      },
      "outputs": [
        {
          "output_type": "stream",
          "name": "stdout",
          "text": [
            "70.4652200152187\n",
            "              precision    recall  f1-score   support\n",
            "\n",
            "           0       0.99      0.67      0.80     67052\n",
            "           1       0.28      0.93      0.43      9170\n",
            "\n",
            "    accuracy                           0.70     76222\n",
            "   macro avg       0.63      0.80      0.62     76222\n",
            "weighted avg       0.90      0.70      0.76     76222\n",
            "\n",
            "Confusion matrix\n",
            " [[45180 21872]\n",
            " [  640  8530]]\n"
          ]
        }
      ],
      "source": [
        "from lightgbm import LGBMClassifier\n",
        "lgbm=LGBMClassifier()\n",
        "lgbm.fit(X_train,y_train)\n",
        "y_pred=lgbm.predict(X_test)\n",
        "\n",
        "accu_lgbm = accuracy_score(y_test,pred)\n",
        "recall_lgbm = recall_score(y_test,pred)\n",
        "prec_lgbm = precision_score(y_test,pred)\n",
        "\n",
        "\n",
        "print(accuracy_score(y_test,y_pred)*100)\n",
        "print(classification_report(y_test,y_pred))\n",
        "print('Confusion matrix\\n',confusion_matrix(y_test,y_pred))\n"
      ]
    },
    {
      "cell_type": "markdown",
      "metadata": {
        "id": "R8-elkOQEeE_"
      },
      "source": [
        "# **6. Gradient Boosting Classifier**"
      ]
    },
    {
      "cell_type": "code",
      "execution_count": null,
      "metadata": {
        "colab": {
          "base_uri": "https://localhost:8080/"
        },
        "id": "KrdvR-acEWNa",
        "outputId": "be6f52f3-1387-4f89-992a-a6411845f578"
      },
      "outputs": [
        {
          "output_type": "stream",
          "name": "stderr",
          "text": [
            "/usr/local/lib/python3.7/dist-packages/sklearn/base.py:451: UserWarning: X does not have valid feature names, but GradientBoostingClassifier was fitted with feature names\n",
            "  \"X does not have valid feature names, but\"\n"
          ]
        },
        {
          "output_type": "stream",
          "name": "stdout",
          "text": [
            "87.96935268032851\n",
            "              precision    recall  f1-score   support\n",
            "\n",
            "           0       0.88      1.00      0.94     67052\n",
            "           1       0.00      0.00      0.00      9170\n",
            "\n",
            "    accuracy                           0.88     76222\n",
            "   macro avg       0.44      0.50      0.47     76222\n",
            "weighted avg       0.77      0.88      0.82     76222\n",
            "\n",
            "Confusion matrix\n",
            " [[67052     0]\n",
            " [ 9170     0]]\n"
          ]
        },
        {
          "output_type": "stream",
          "name": "stderr",
          "text": [
            "/usr/local/lib/python3.7/dist-packages/sklearn/metrics/_classification.py:1318: UndefinedMetricWarning: Precision and F-score are ill-defined and being set to 0.0 in labels with no predicted samples. Use `zero_division` parameter to control this behavior.\n",
            "  _warn_prf(average, modifier, msg_start, len(result))\n",
            "/usr/local/lib/python3.7/dist-packages/sklearn/metrics/_classification.py:1318: UndefinedMetricWarning: Precision and F-score are ill-defined and being set to 0.0 in labels with no predicted samples. Use `zero_division` parameter to control this behavior.\n",
            "  _warn_prf(average, modifier, msg_start, len(result))\n",
            "/usr/local/lib/python3.7/dist-packages/sklearn/metrics/_classification.py:1318: UndefinedMetricWarning: Precision and F-score are ill-defined and being set to 0.0 in labels with no predicted samples. Use `zero_division` parameter to control this behavior.\n",
            "  _warn_prf(average, modifier, msg_start, len(result))\n"
          ]
        }
      ],
      "source": [
        "from sklearn.ensemble import GradientBoostingClassifier\n",
        "gb = GradientBoostingClassifier()\n",
        "gb.fit(X_train,y_train)\n",
        "y_pred = gb.predict(X_test)\n",
        "\n",
        "accu_gb = accuracy_score(y_test,pred)\n",
        "recall_gb = recall_score(y_test,pred)\n",
        "prec_gb = precision_score(y_test,pred)\n",
        "\n",
        "\n",
        "print(accuracy_score(y_test,y_pred)*100)\n",
        "print(classification_report(y_test,y_pred))\n",
        "print('Confusion matrix\\n',confusion_matrix(y_test,y_pred))"
      ]
    },
    {
      "cell_type": "markdown",
      "metadata": {
        "id": "gl32hAbbE0eo"
      },
      "source": [
        "# **7. K Neighbours Classifier**"
      ]
    },
    {
      "cell_type": "code",
      "execution_count": null,
      "metadata": {
        "colab": {
          "base_uri": "https://localhost:8080/"
        },
        "id": "JAp-GSUiEvpe",
        "outputId": "ddc4f68d-f170-48b0-b748-6344e9c9fdea"
      },
      "outputs": [
        {
          "output_type": "stream",
          "name": "stderr",
          "text": [
            "/usr/local/lib/python3.7/dist-packages/sklearn/base.py:451: UserWarning: X does not have valid feature names, but KNeighborsClassifier was fitted with feature names\n",
            "  \"X does not have valid feature names, but\"\n"
          ]
        },
        {
          "output_type": "stream",
          "name": "stdout",
          "text": [
            "Accuracy: 12.030647319671486\n",
            "              precision    recall  f1-score   support\n",
            "\n",
            "           0       0.00      0.00      0.00     67052\n",
            "           1       0.12      1.00      0.21      9170\n",
            "\n",
            "    accuracy                           0.12     76222\n",
            "   macro avg       0.06      0.50      0.11     76222\n",
            "weighted avg       0.01      0.12      0.03     76222\n",
            "\n",
            "Confusion matrix\n",
            " [[    0 67052]\n",
            " [    0  9170]]\n"
          ]
        },
        {
          "output_type": "stream",
          "name": "stderr",
          "text": [
            "/usr/local/lib/python3.7/dist-packages/sklearn/metrics/_classification.py:1318: UndefinedMetricWarning: Precision and F-score are ill-defined and being set to 0.0 in labels with no predicted samples. Use `zero_division` parameter to control this behavior.\n",
            "  _warn_prf(average, modifier, msg_start, len(result))\n",
            "/usr/local/lib/python3.7/dist-packages/sklearn/metrics/_classification.py:1318: UndefinedMetricWarning: Precision and F-score are ill-defined and being set to 0.0 in labels with no predicted samples. Use `zero_division` parameter to control this behavior.\n",
            "  _warn_prf(average, modifier, msg_start, len(result))\n",
            "/usr/local/lib/python3.7/dist-packages/sklearn/metrics/_classification.py:1318: UndefinedMetricWarning: Precision and F-score are ill-defined and being set to 0.0 in labels with no predicted samples. Use `zero_division` parameter to control this behavior.\n",
            "  _warn_prf(average, modifier, msg_start, len(result))\n"
          ]
        }
      ],
      "source": [
        "from sklearn.neighbors import KNeighborsClassifier\n",
        "knc=KNeighborsClassifier()\n",
        "knc.fit(X_train,y_train)\n",
        "y_pred=knc.predict(X_test)\n",
        "\n",
        "accu_knc = accuracy_score(y_test,pred)\n",
        "recall_knc = recall_score(y_test,pred)\n",
        "prec_knc = precision_score(y_test,pred)\n",
        "\n",
        "\n",
        "print(\"Accuracy:\" ,accuracy_score(y_test,y_pred)*100)\n",
        "print(classification_report(y_test,y_pred))\n",
        "print('Confusion matrix\\n',confusion_matrix(y_test,y_pred))"
      ]
    },
    {
      "cell_type": "markdown",
      "source": [
        "**We can observe from the above results that Lgbm Classifier and XG Boost Classifier are the top models.**"
      ],
      "metadata": {
        "id": "Vt3z7ryUCW_5"
      }
    },
    {
      "cell_type": "markdown",
      "metadata": {
        "id": "CXPjP7e0d7iE"
      },
      "source": [
        "## Let's perform Cross Validation and Hyper parameter tuning on these models to get better results."
      ]
    },
    {
      "cell_type": "code",
      "execution_count": null,
      "metadata": {
        "colab": {
          "base_uri": "https://localhost:8080/"
        },
        "id": "QvLykyG28Pae",
        "outputId": "9aca3ade-2287-4373-a111-aac907ec7fc4"
      },
      "outputs": [
        {
          "output_type": "stream",
          "name": "stdout",
          "text": [
            "Looking in indexes: https://pypi.org/simple, https://us-python.pkg.dev/colab-wheels/public/simple/\n",
            "Requirement already satisfied: scikit-optimize in /usr/local/lib/python3.7/dist-packages (0.9.0)\n",
            "Requirement already satisfied: numpy>=1.13.3 in /usr/local/lib/python3.7/dist-packages (from scikit-optimize) (1.21.6)\n",
            "Requirement already satisfied: joblib>=0.11 in /usr/local/lib/python3.7/dist-packages (from scikit-optimize) (1.1.0)\n",
            "Requirement already satisfied: pyaml>=16.9 in /usr/local/lib/python3.7/dist-packages (from scikit-optimize) (21.10.1)\n",
            "Requirement already satisfied: scipy>=0.19.1 in /usr/local/lib/python3.7/dist-packages (from scikit-optimize) (1.7.3)\n",
            "Requirement already satisfied: scikit-learn>=0.20.0 in /usr/local/lib/python3.7/dist-packages (from scikit-optimize) (1.0.2)\n",
            "Requirement already satisfied: PyYAML in /usr/local/lib/python3.7/dist-packages (from pyaml>=16.9->scikit-optimize) (3.13)\n",
            "Requirement already satisfied: threadpoolctl>=2.0.0 in /usr/local/lib/python3.7/dist-packages (from scikit-learn>=0.20.0->scikit-optimize) (3.1.0)\n"
          ]
        }
      ],
      "source": [
        "pip install scikit-optimize "
      ]
    },
    {
      "cell_type": "code",
      "execution_count": null,
      "metadata": {
        "id": "G9fhPtV4iE71"
      },
      "outputs": [],
      "source": [
        "from sklearn.model_selection import GridSearchCV\n",
        "from skopt import BayesSearchCV\n",
        "from skopt.space import Real, Categorical, Integer"
      ]
    },
    {
      "cell_type": "markdown",
      "metadata": {
        "id": "iipMN1AyvTXz"
      },
      "source": [
        "# Hyper parameter tuning on Lgbm"
      ]
    },
    {
      "cell_type": "code",
      "execution_count": null,
      "metadata": {
        "colab": {
          "base_uri": "https://localhost:8080/"
        },
        "id": "gwCIvJWVuDZr",
        "outputId": "ead8a62b-daa7-43a3-a713-4368db65ba41"
      },
      "outputs": [
        {
          "output_type": "stream",
          "name": "stdout",
          "text": [
            "Fitting 5 folds for each of 1 candidates, totalling 5 fits\n",
            "[CV] END max_depth=80, min_split_gain=7, n_estimators=127, n_jobs=20, num_leaves=8; total time=   5.2s\n",
            "[CV] END max_depth=80, min_split_gain=7, n_estimators=127, n_jobs=20, num_leaves=8; total time=   5.3s\n",
            "[CV] END max_depth=80, min_split_gain=7, n_estimators=127, n_jobs=20, num_leaves=8; total time=   5.3s\n",
            "[CV] END max_depth=80, min_split_gain=7, n_estimators=127, n_jobs=20, num_leaves=8; total time=   5.3s\n",
            "[CV] END max_depth=80, min_split_gain=7, n_estimators=127, n_jobs=20, num_leaves=8; total time=   5.3s\n",
            "Fitting 5 folds for each of 1 candidates, totalling 5 fits\n",
            "[CV] END max_depth=22, min_split_gain=6, n_estimators=191, n_jobs=22, num_leaves=81; total time=   9.7s\n",
            "[CV] END max_depth=22, min_split_gain=6, n_estimators=191, n_jobs=22, num_leaves=81; total time=  10.8s\n",
            "[CV] END max_depth=22, min_split_gain=6, n_estimators=191, n_jobs=22, num_leaves=81; total time=   9.6s\n",
            "[CV] END max_depth=22, min_split_gain=6, n_estimators=191, n_jobs=22, num_leaves=81; total time=   9.6s\n",
            "[CV] END max_depth=22, min_split_gain=6, n_estimators=191, n_jobs=22, num_leaves=81; total time=   9.7s\n",
            "Fitting 5 folds for each of 1 candidates, totalling 5 fits\n",
            "[CV] END max_depth=19, min_split_gain=8, n_estimators=149, n_jobs=8, num_leaves=65; total time=   5.5s\n",
            "[CV] END max_depth=19, min_split_gain=8, n_estimators=149, n_jobs=8, num_leaves=65; total time=   5.5s\n",
            "[CV] END max_depth=19, min_split_gain=8, n_estimators=149, n_jobs=8, num_leaves=65; total time=   5.5s\n",
            "[CV] END max_depth=19, min_split_gain=8, n_estimators=149, n_jobs=8, num_leaves=65; total time=   5.4s\n",
            "[CV] END max_depth=19, min_split_gain=8, n_estimators=149, n_jobs=8, num_leaves=65; total time=   5.5s\n",
            "Fitting 5 folds for each of 1 candidates, totalling 5 fits\n",
            "[CV] END max_depth=65, min_split_gain=3, n_estimators=134, n_jobs=10, num_leaves=131; total time=   7.6s\n",
            "[CV] END max_depth=65, min_split_gain=3, n_estimators=134, n_jobs=10, num_leaves=131; total time=   7.9s\n",
            "[CV] END max_depth=65, min_split_gain=3, n_estimators=134, n_jobs=10, num_leaves=131; total time=   7.9s\n",
            "[CV] END max_depth=65, min_split_gain=3, n_estimators=134, n_jobs=10, num_leaves=131; total time=   7.8s\n",
            "[CV] END max_depth=65, min_split_gain=3, n_estimators=134, n_jobs=10, num_leaves=131; total time=   7.9s\n",
            "Fitting 5 folds for each of 1 candidates, totalling 5 fits\n",
            "[CV] END max_depth=76, min_split_gain=7, n_estimators=184, n_jobs=2, num_leaves=40; total time=   5.0s\n",
            "[CV] END max_depth=76, min_split_gain=7, n_estimators=184, n_jobs=2, num_leaves=40; total time=   5.0s\n",
            "[CV] END max_depth=76, min_split_gain=7, n_estimators=184, n_jobs=2, num_leaves=40; total time=   5.1s\n",
            "[CV] END max_depth=76, min_split_gain=7, n_estimators=184, n_jobs=2, num_leaves=40; total time=   5.1s\n",
            "[CV] END max_depth=76, min_split_gain=7, n_estimators=184, n_jobs=2, num_leaves=40; total time=   7.1s\n",
            "Fitting 5 folds for each of 1 candidates, totalling 5 fits\n",
            "[CV] END max_depth=29, min_split_gain=9, n_estimators=15, n_jobs=10, num_leaves=29; total time=   1.1s\n",
            "[CV] END max_depth=29, min_split_gain=9, n_estimators=15, n_jobs=10, num_leaves=29; total time=   1.2s\n",
            "[CV] END max_depth=29, min_split_gain=9, n_estimators=15, n_jobs=10, num_leaves=29; total time=   1.1s\n",
            "[CV] END max_depth=29, min_split_gain=9, n_estimators=15, n_jobs=10, num_leaves=29; total time=   1.2s\n",
            "[CV] END max_depth=29, min_split_gain=9, n_estimators=15, n_jobs=10, num_leaves=29; total time=   1.2s\n",
            "Fitting 5 folds for each of 1 candidates, totalling 5 fits\n",
            "[CV] END max_depth=71, min_split_gain=2, n_estimators=70, n_jobs=1, num_leaves=89; total time=   4.3s\n",
            "[CV] END max_depth=71, min_split_gain=2, n_estimators=70, n_jobs=1, num_leaves=89; total time=   4.4s\n",
            "[CV] END max_depth=71, min_split_gain=2, n_estimators=70, n_jobs=1, num_leaves=89; total time=   4.4s\n",
            "[CV] END max_depth=71, min_split_gain=2, n_estimators=70, n_jobs=1, num_leaves=89; total time=   4.4s\n",
            "[CV] END max_depth=71, min_split_gain=2, n_estimators=70, n_jobs=1, num_leaves=89; total time=   4.4s\n",
            "Fitting 5 folds for each of 1 candidates, totalling 5 fits\n",
            "[CV] END max_depth=82, min_split_gain=4, n_estimators=3, n_jobs=19, num_leaves=12; total time=   0.4s\n",
            "[CV] END max_depth=82, min_split_gain=4, n_estimators=3, n_jobs=19, num_leaves=12; total time=   0.5s\n",
            "[CV] END max_depth=82, min_split_gain=4, n_estimators=3, n_jobs=19, num_leaves=12; total time=   0.5s\n",
            "[CV] END max_depth=82, min_split_gain=4, n_estimators=3, n_jobs=19, num_leaves=12; total time=   0.5s\n",
            "[CV] END max_depth=82, min_split_gain=4, n_estimators=3, n_jobs=19, num_leaves=12; total time=   0.4s\n",
            "Fitting 5 folds for each of 1 candidates, totalling 5 fits\n",
            "[CV] END max_depth=28, min_split_gain=3, n_estimators=167, n_jobs=12, num_leaves=109; total time=   8.4s\n",
            "[CV] END max_depth=28, min_split_gain=3, n_estimators=167, n_jobs=12, num_leaves=109; total time=   8.9s\n",
            "[CV] END max_depth=28, min_split_gain=3, n_estimators=167, n_jobs=12, num_leaves=109; total time=   8.9s\n",
            "[CV] END max_depth=28, min_split_gain=3, n_estimators=167, n_jobs=12, num_leaves=109; total time=   8.8s\n",
            "[CV] END max_depth=28, min_split_gain=3, n_estimators=167, n_jobs=12, num_leaves=109; total time=   8.5s\n",
            "Fitting 5 folds for each of 1 candidates, totalling 5 fits\n",
            "[CV] END max_depth=11, min_split_gain=7, n_estimators=119, n_jobs=26, num_leaves=152; total time=   9.9s\n",
            "[CV] END max_depth=11, min_split_gain=7, n_estimators=119, n_jobs=26, num_leaves=152; total time=  10.3s\n",
            "[CV] END max_depth=11, min_split_gain=7, n_estimators=119, n_jobs=26, num_leaves=152; total time=  10.2s\n",
            "[CV] END max_depth=11, min_split_gain=7, n_estimators=119, n_jobs=26, num_leaves=152; total time=   9.9s\n",
            "[CV] END max_depth=11, min_split_gain=7, n_estimators=119, n_jobs=26, num_leaves=152; total time=  10.2s\n"
          ]
        },
        {
          "output_type": "execute_result",
          "data": {
            "text/plain": [
              "BayesSearchCV(cv=5, estimator=LGBMClassifier(), n_iter=10, scoring='accuracy',\n",
              "              search_spaces={'max_depth': Integer(low=4, high=100, prior='uniform', transform='normalize'),\n",
              "                             'min_split_gain': Integer(low=1.0, high=10.0, prior='uniform', transform='normalize'),\n",
              "                             'n_estimators': Integer(low=3, high=200, prior='uniform', transform='normalize'),\n",
              "                             'n_jobs': Integer(low=1, high=30, prior='uniform', transform='normalize'),\n",
              "                             'num_leaves': Integer(low=3, high=200, prior='uniform', transform='normalize')},\n",
              "              verbose=2)"
            ]
          },
          "metadata": {},
          "execution_count": 151
        }
      ],
      "source": [
        "lgbm = LGBMClassifier()\n",
        "#Cross validation and hyperparameter tuning\n",
        "lg_bayes = BayesSearchCV(estimator= lgbm,\n",
        "                         search_spaces = {\n",
        "                          'max_depth':Integer(4,100) ,\n",
        "                          'num_leaves': Integer(3,200),\n",
        "                          'n_estimators': Integer(3,200),\n",
        "                          'min_split_gain': Integer(1.0,10.0),\n",
        "                          'n_jobs': Integer(1,30),\n",
        "                        },\n",
        "                       cv = 5, verbose=2, scoring='accuracy', n_iter=10)\n",
        "\n",
        "lg_bayes.fit(X_train,y_train)"
      ]
    },
    {
      "cell_type": "code",
      "execution_count": null,
      "metadata": {
        "colab": {
          "base_uri": "https://localhost:8080/"
        },
        "id": "7y0C9RhRwQTX",
        "outputId": "af41a486-cb9a-4ad4-e67d-2775d70fd92b"
      },
      "outputs": [
        {
          "output_type": "execute_result",
          "data": {
            "text/plain": [
              "OrderedDict([('max_depth', 58),\n",
              "             ('min_split_gain', 6),\n",
              "             ('n_estimators', 121),\n",
              "             ('n_jobs', 25),\n",
              "             ('num_leaves', 153)])"
            ]
          },
          "metadata": {},
          "execution_count": 33
        }
      ],
      "source": [
        "lg_bayes.best_params_"
      ]
    },
    {
      "cell_type": "code",
      "execution_count": null,
      "metadata": {
        "colab": {
          "base_uri": "https://localhost:8080/"
        },
        "id": "dfYIhqemwTrH",
        "outputId": "b56d7f5c-a031-4bda-c71a-ad1dfe837146"
      },
      "outputs": [
        {
          "output_type": "execute_result",
          "data": {
            "text/plain": [
              "LGBMClassifier(max_depth=65, min_split_gain=3, n_estimators=134, n_jobs=10,\n",
              "               num_leaves=131)"
            ]
          },
          "metadata": {},
          "execution_count": 152
        }
      ],
      "source": [
        "lg_bayes.best_estimator_"
      ]
    },
    {
      "cell_type": "code",
      "execution_count": null,
      "metadata": {
        "id": "IV8gONHbwW-T"
      },
      "outputs": [],
      "source": [
        "#make prediction\n",
        "lgtrain_pred=lg_bayes.best_estimator_.predict(X_train)\n",
        "lgtest_pred=lg_bayes.best_estimator_.predict(X_test)"
      ]
    },
    {
      "cell_type": "code",
      "execution_count": null,
      "metadata": {
        "colab": {
          "base_uri": "https://localhost:8080/"
        },
        "id": "TMnCWqQvwa1m",
        "outputId": "d93fc101-0c53-46d1-b2dc-86462bbb4bb4"
      },
      "outputs": [
        {
          "output_type": "stream",
          "name": "stdout",
          "text": [
            "The accuracy on train dataset is 0.8136709968692374\n",
            "The accuracy on test dataset is 0.710424811734145\n"
          ]
        }
      ],
      "source": [
        "# Calculating accuracy on train and test\n",
        "train_accuracy = accuracy_score(y_train, lgtrain_pred)\n",
        "test_accuracy = accuracy_score(y_test, lgtest_pred)\n",
        "\n",
        "print(\"The accuracy on train dataset is\", train_accuracy)\n",
        "print(\"The accuracy on test dataset is\", test_accuracy)"
      ]
    },
    {
      "cell_type": "code",
      "execution_count": null,
      "metadata": {
        "id": "SPtW-Z0Rwenu"
      },
      "outputs": [],
      "source": [
        "# Get the confusion matrices for train and test\n",
        "train_cm = confusion_matrix(y_train, lgtrain_pred)\n",
        "test_cm = confusion_matrix(y_test, lgtest_pred)"
      ]
    },
    {
      "cell_type": "code",
      "execution_count": null,
      "metadata": {
        "colab": {
          "base_uri": "https://localhost:8080/"
        },
        "id": "uUVd8-fQwh3j",
        "outputId": "8fc617b9-9662-4d4f-ac6d-be5b276f4ce4"
      },
      "outputs": [
        {
          "output_type": "stream",
          "name": "stdout",
          "text": [
            "              precision    recall  f1-score   support\n",
            "\n",
            "           0       0.93      0.68      0.79    267347\n",
            "           1       0.75      0.95      0.84    267347\n",
            "\n",
            "    accuracy                           0.81    534694\n",
            "   macro avg       0.84      0.81      0.81    534694\n",
            "weighted avg       0.84      0.81      0.81    534694\n",
            "\n",
            "\n",
            "\n",
            "              precision    recall  f1-score   support\n",
            "\n",
            "           0       0.98      0.68      0.81     67052\n",
            "           1       0.28      0.92      0.43      9170\n",
            "\n",
            "    accuracy                           0.71     76222\n",
            "   macro avg       0.63      0.80      0.62     76222\n",
            "weighted avg       0.90      0.71      0.76     76222\n",
            "\n"
          ]
        }
      ],
      "source": [
        "# Print the classification report for train and test\n",
        "print(classification_report(y_train,lgtrain_pred))\n",
        "print(\"\\n\")\n",
        "print(classification_report(y_test,lgtest_pred))"
      ]
    },
    {
      "cell_type": "markdown",
      "source": [
        "###Roc Curve for Train data"
      ],
      "metadata": {
        "id": "kVol2bt3CuTE"
      }
    },
    {
      "cell_type": "code",
      "source": [
        "from sklearn import metrics\n",
        "metrics.plot_roc_curve(lg_bayes, X_train, y_train) "
      ],
      "metadata": {
        "colab": {
          "base_uri": "https://localhost:8080/",
          "height": 351
        },
        "id": "VhuQtzzCC48k",
        "outputId": "57a6981f-fc69-4e8f-93fd-a0809d506d26"
      },
      "execution_count": null,
      "outputs": [
        {
          "output_type": "stream",
          "name": "stderr",
          "text": [
            "/usr/local/lib/python3.7/dist-packages/sklearn/utils/deprecation.py:87: FutureWarning: Function plot_roc_curve is deprecated; Function :func:`plot_roc_curve` is deprecated in 1.0 and will be removed in 1.2. Use one of the class methods: :meth:`sklearn.metric.RocCurveDisplay.from_predictions` or :meth:`sklearn.metric.RocCurveDisplay.from_estimator`.\n",
            "  warnings.warn(msg, category=FutureWarning)\n"
          ]
        },
        {
          "output_type": "execute_result",
          "data": {
            "text/plain": [
              "<sklearn.metrics._plot.roc_curve.RocCurveDisplay at 0x7f17e0e278d0>"
            ]
          },
          "metadata": {},
          "execution_count": 170
        },
        {
          "output_type": "display_data",
          "data": {
            "text/plain": [
              "<Figure size 432x288 with 1 Axes>"
            ],
            "image/png": "[encoded data removed]"
          },
          "metadata": {
            "needs_background": "light"
          }
        }
      ]
    },
    {
      "cell_type": "code",
      "source": [
        "metrics.plot_precision_recall_curve(lg_bayes, X_train, y_train)"
      ],
      "metadata": {
        "colab": {
          "base_uri": "https://localhost:8080/",
          "height": 351
        },
        "id": "TKKuqQIoDtnT",
        "outputId": "26c86699-c939-4745-a52b-9ebff4f065b4"
      },
      "execution_count": null,
      "outputs": [
        {
          "output_type": "stream",
          "name": "stderr",
          "text": [
            "/usr/local/lib/python3.7/dist-packages/sklearn/utils/deprecation.py:87: FutureWarning: Function plot_precision_recall_curve is deprecated; Function `plot_precision_recall_curve` is deprecated in 1.0 and will be removed in 1.2. Use one of the class methods: PrecisionRecallDisplay.from_predictions or PrecisionRecallDisplay.from_estimator.\n",
            "  warnings.warn(msg, category=FutureWarning)\n"
          ]
        },
        {
          "output_type": "execute_result",
          "data": {
            "text/plain": [
              "<sklearn.metrics._plot.precision_recall_curve.PrecisionRecallDisplay at 0x7f17f1045c10>"
            ]
          },
          "metadata": {},
          "execution_count": 171
        },
        {
          "output_type": "display_data",
          "data": {
            "text/plain": [
              "<Figure size 432x288 with 1 Axes>"
            ],
            "image/png": "[encoded data removed]"
          },
          "metadata": {
            "needs_background": "light"
          }
        }
      ]
    },
    {
      "cell_type": "markdown",
      "source": [
        "###Roc Curve for Test data"
      ],
      "metadata": {
        "id": "06ymg7kuEEmZ"
      }
    },
    {
      "cell_type": "code",
      "source": [
        "metrics.plot_roc_curve(lg_bayes, X_test, y_test)"
      ],
      "metadata": {
        "colab": {
          "base_uri": "https://localhost:8080/",
          "height": 351
        },
        "id": "8iLpkGVOEI8B",
        "outputId": "33c23412-5b19-4444-8aa1-ee0f17858c9a"
      },
      "execution_count": null,
      "outputs": [
        {
          "output_type": "stream",
          "name": "stderr",
          "text": [
            "/usr/local/lib/python3.7/dist-packages/sklearn/utils/deprecation.py:87: FutureWarning: Function plot_roc_curve is deprecated; Function :func:`plot_roc_curve` is deprecated in 1.0 and will be removed in 1.2. Use one of the class methods: :meth:`sklearn.metric.RocCurveDisplay.from_predictions` or :meth:`sklearn.metric.RocCurveDisplay.from_estimator`.\n",
            "  warnings.warn(msg, category=FutureWarning)\n"
          ]
        },
        {
          "output_type": "execute_result",
          "data": {
            "text/plain": [
              "<sklearn.metrics._plot.roc_curve.RocCurveDisplay at 0x7f17f0ffe6d0>"
            ]
          },
          "metadata": {},
          "execution_count": 174
        },
        {
          "output_type": "display_data",
          "data": {
            "text/plain": [
              "<Figure size 432x288 with 1 Axes>"
            ],
            "image/png": "[encoded data removed]"
          },
          "metadata": {
            "needs_background": "light"
          }
        }
      ]
    },
    {
      "cell_type": "code",
      "source": [
        "metrics.plot_precision_recall_curve(lg_bayes, X_test, y_test)"
      ],
      "metadata": {
        "colab": {
          "base_uri": "https://localhost:8080/",
          "height": 351
        },
        "id": "59p4Mj6qEaZe",
        "outputId": "d0135e19-fae0-4396-fb00-bb3bd276599b"
      },
      "execution_count": null,
      "outputs": [
        {
          "output_type": "stream",
          "name": "stderr",
          "text": [
            "/usr/local/lib/python3.7/dist-packages/sklearn/utils/deprecation.py:87: FutureWarning: Function plot_precision_recall_curve is deprecated; Function `plot_precision_recall_curve` is deprecated in 1.0 and will be removed in 1.2. Use one of the class methods: PrecisionRecallDisplay.from_predictions or PrecisionRecallDisplay.from_estimator.\n",
            "  warnings.warn(msg, category=FutureWarning)\n"
          ]
        },
        {
          "output_type": "execute_result",
          "data": {
            "text/plain": [
              "<sklearn.metrics._plot.precision_recall_curve.PrecisionRecallDisplay at 0x7f17e0b938d0>"
            ]
          },
          "metadata": {},
          "execution_count": 175
        },
        {
          "output_type": "display_data",
          "data": {
            "text/plain": [
              "<Figure size 432x288 with 1 Axes>"
            ],
            "image/png": "[encoded data removed]"
          },
          "metadata": {
            "needs_background": "light"
          }
        }
      ]
    },
    {
      "cell_type": "markdown",
      "source": [
        "# Hyper-parameter tuning on XG Boost Classifier"
      ],
      "metadata": {
        "id": "MZyUWb2JAsp6"
      }
    },
    {
      "cell_type": "code",
      "execution_count": null,
      "metadata": {
        "colab": {
          "base_uri": "https://localhost:8080/"
        },
        "id": "BoBJOnb4T6r5",
        "outputId": "4e48a52c-4d61-49d5-b793-2a7e3ff88859"
      },
      "outputs": [
        {
          "output_type": "stream",
          "name": "stdout",
          "text": [
            "Fitting 5 folds for each of 1 candidates, totalling 5 fits\n",
            "[CV] END max_depth=86, max_features=sqrt, min_samples_leaf=35, min_samples_split=13, n_estimators=91; total time= 9.8min\n",
            "[CV] END max_depth=86, max_features=sqrt, min_samples_leaf=35, min_samples_split=13, n_estimators=91; total time= 9.9min\n",
            "[CV] END max_depth=86, max_features=sqrt, min_samples_leaf=35, min_samples_split=13, n_estimators=91; total time= 9.8min\n",
            "[CV] END max_depth=86, max_features=sqrt, min_samples_leaf=35, min_samples_split=13, n_estimators=91; total time= 9.9min\n",
            "[CV] END max_depth=86, max_features=sqrt, min_samples_leaf=35, min_samples_split=13, n_estimators=91; total time= 9.8min\n",
            "Fitting 5 folds for each of 1 candidates, totalling 5 fits\n",
            "[CV] END max_depth=2, max_features=sqrt, min_samples_leaf=6, min_samples_split=20, n_estimators=97; total time=  14.9s\n",
            "[CV] END max_depth=2, max_features=sqrt, min_samples_leaf=6, min_samples_split=20, n_estimators=97; total time=  14.9s\n",
            "[CV] END max_depth=2, max_features=sqrt, min_samples_leaf=6, min_samples_split=20, n_estimators=97; total time=  14.9s\n",
            "[CV] END max_depth=2, max_features=sqrt, min_samples_leaf=6, min_samples_split=20, n_estimators=97; total time=  16.1s\n",
            "[CV] END max_depth=2, max_features=sqrt, min_samples_leaf=6, min_samples_split=20, n_estimators=97; total time=  14.9s\n",
            "Fitting 5 folds for each of 1 candidates, totalling 5 fits\n",
            "[CV] END max_depth=97, max_features=auto, min_samples_leaf=86, min_samples_split=74, n_estimators=116; total time=13.7min\n",
            "[CV] END max_depth=97, max_features=auto, min_samples_leaf=86, min_samples_split=74, n_estimators=116; total time=14.4min\n",
            "[CV] END max_depth=97, max_features=auto, min_samples_leaf=86, min_samples_split=74, n_estimators=116; total time=14.2min\n",
            "[CV] END max_depth=97, max_features=auto, min_samples_leaf=86, min_samples_split=74, n_estimators=116; total time=14.2min\n",
            "[CV] END max_depth=97, max_features=auto, min_samples_leaf=86, min_samples_split=74, n_estimators=116; total time=14.1min\n",
            "Fitting 5 folds for each of 1 candidates, totalling 5 fits\n",
            "[CV] END max_depth=24, max_features=log2, min_samples_leaf=81, min_samples_split=24, n_estimators=127; total time= 3.9min\n",
            "[CV] END max_depth=24, max_features=log2, min_samples_leaf=81, min_samples_split=24, n_estimators=127; total time= 4.0min\n",
            "[CV] END max_depth=24, max_features=log2, min_samples_leaf=81, min_samples_split=24, n_estimators=127; total time= 3.9min\n",
            "[CV] END max_depth=24, max_features=log2, min_samples_leaf=81, min_samples_split=24, n_estimators=127; total time= 4.0min\n",
            "[CV] END max_depth=24, max_features=log2, min_samples_leaf=81, min_samples_split=24, n_estimators=127; total time= 4.0min\n"
          ]
        },
        {
          "output_type": "execute_result",
          "data": {
            "text/plain": [
              "BayesSearchCV(cv=5, estimator=XGBClassifier(), n_iter=4, scoring='accuracy',\n",
              "              search_spaces={'max_depth': Integer(low=2, high=100, prior='uniform', transform='normalize'),\n",
              "                             'max_features': ['auto', 'sqrt', 'log2'],\n",
              "                             'min_samples_leaf': Integer(low=1, high=100, prior='uniform', transform='normalize'),\n",
              "                             'min_samples_split': Integer(low=2, high=100, prior='uniform', transform='normalize'),\n",
              "                             'n_estimators': Integer(low=1, high=140, prior='uniform', transform='normalize')},\n",
              "              verbose=2)"
            ]
          },
          "metadata": {},
          "execution_count": 158
        }
      ],
      "source": [
        "#hyper parameter tuning\n",
        "xgb_model=xgb.XGBClassifier()\n",
        "#xgb = XGBoostClassifier()\n",
        "#Cross validation and hyperparameter tuning\n",
        "xgb_bayes = BayesSearchCV(estimator= xgb_model,\n",
        "                         search_spaces = {\n",
        "                          'max_depth': Integer(2,100),\n",
        "                          'min_samples_leaf': Integer(1,100),\n",
        "                          'min_samples_split': Integer(2,100),\n",
        "                          'n_estimators': Integer(1,140),\n",
        "                          'max_features': [\"auto\", \"sqrt\", \"log2\"]\n",
        "                        },\n",
        "                       cv = 5, verbose=2, scoring='accuracy',n_iter=4)\n",
        "\n",
        "xgb_bayes.fit(X_train,y_train)"
      ]
    },
    {
      "cell_type": "code",
      "execution_count": null,
      "metadata": {
        "colab": {
          "base_uri": "https://localhost:8080/"
        },
        "id": "eiu2gH9bOjUW",
        "outputId": "3d530a55-cb55-4242-98fb-5cc730a0ae83"
      },
      "outputs": [
        {
          "output_type": "execute_result",
          "data": {
            "text/plain": [
              "OrderedDict([('max_depth', 97),\n",
              "             ('max_features', 'auto'),\n",
              "             ('min_samples_leaf', 86),\n",
              "             ('min_samples_split', 74),\n",
              "             ('n_estimators', 116)])"
            ]
          },
          "metadata": {},
          "execution_count": 159
        }
      ],
      "source": [
        "xgb_bayes.best_params_"
      ]
    },
    {
      "cell_type": "code",
      "execution_count": null,
      "metadata": {
        "colab": {
          "base_uri": "https://localhost:8080/"
        },
        "id": "WmhmyKigOkFc",
        "outputId": "a91a2afd-2cad-4b56-fad2-3b0a1a3d74f0"
      },
      "outputs": [
        {
          "output_type": "execute_result",
          "data": {
            "text/plain": [
              "XGBClassifier(max_depth=97, max_features='auto', min_samples_leaf=86,\n",
              "              min_samples_split=74, n_estimators=116)"
            ]
          },
          "metadata": {},
          "execution_count": 160
        }
      ],
      "source": [
        "xgb_bayes.best_estimator_"
      ]
    },
    {
      "cell_type": "code",
      "execution_count": null,
      "metadata": {
        "id": "qVDjcWFQOoqw"
      },
      "outputs": [],
      "source": [
        "#make prediction\n",
        "xgbtrain_pred=xgb_bayes.best_estimator_.predict(X_train)\n",
        "xgbtest_pred=xgb_bayes.best_estimator_.predict(X_test)"
      ]
    },
    {
      "cell_type": "code",
      "execution_count": null,
      "metadata": {
        "colab": {
          "base_uri": "https://localhost:8080/"
        },
        "id": "7KTb-qAuOtuZ",
        "outputId": "8e0967c7-172d-4eb1-bac2-5feca78ccc45"
      },
      "outputs": [
        {
          "output_type": "stream",
          "name": "stdout",
          "text": [
            "The accuracy on train dataset is 0.9847389347926103\n",
            "The accuracy on test dataset is 0.8242370969011571\n"
          ]
        }
      ],
      "source": [
        "# Calculating accuracy on train and test\n",
        "train_accuracy = accuracy_score(y_train, xgbtrain_pred)\n",
        "test_accuracy = accuracy_score(y_test, xgbtest_pred)\n",
        "\n",
        "print(\"The accuracy on train dataset is\", train_accuracy)\n",
        "print(\"The accuracy on test dataset is\", test_accuracy)"
      ]
    },
    {
      "cell_type": "code",
      "execution_count": null,
      "metadata": {
        "id": "PL1Zb8sIOxOE"
      },
      "outputs": [],
      "source": [
        "# Get the confusion matrices for train and test\n",
        "train_cm = confusion_matrix(y_train, xgbtrain_pred)\n",
        "test_cm = confusion_matrix(y_test, xgbtest_pred)"
      ]
    },
    {
      "cell_type": "code",
      "execution_count": null,
      "metadata": {
        "colab": {
          "base_uri": "https://localhost:8080/"
        },
        "id": "5dXRy1ImO2DR",
        "outputId": "4fd9ab12-382a-40c0-c549-f217b309020a"
      },
      "outputs": [
        {
          "output_type": "stream",
          "name": "stdout",
          "text": [
            "              precision    recall  f1-score   support\n",
            "\n",
            "           0       1.00      0.97      0.98    267347\n",
            "           1       0.97      1.00      0.98    267347\n",
            "\n",
            "    accuracy                           0.98    534694\n",
            "   macro avg       0.99      0.98      0.98    534694\n",
            "weighted avg       0.99      0.98      0.98    534694\n",
            "\n",
            "\n",
            "\n",
            "              precision    recall  f1-score   support\n",
            "\n",
            "           0       0.92      0.88      0.90     67052\n",
            "           1       0.32      0.40      0.36      9170\n",
            "\n",
            "    accuracy                           0.82     76222\n",
            "   macro avg       0.62      0.64      0.63     76222\n",
            "weighted avg       0.84      0.82      0.83     76222\n",
            "\n"
          ]
        }
      ],
      "source": [
        "# Print the classification report for train and test\n",
        "print(classification_report(y_train,xgbtrain_pred))\n",
        "print(\"\\n\")\n",
        "print(classification_report(y_test,xgbtest_pred))"
      ]
    },
    {
      "cell_type": "markdown",
      "source": [
        "###Roc Curve for Train data"
      ],
      "metadata": {
        "id": "I7khXARtEslr"
      }
    },
    {
      "cell_type": "code",
      "source": [
        "metrics.plot_roc_curve(xgb_bayes, X_train, y_train) "
      ],
      "metadata": {
        "colab": {
          "base_uri": "https://localhost:8080/",
          "height": 351
        },
        "id": "cUzRuKW9Ev8I",
        "outputId": "14ef53fb-9b78-46b9-c706-59f124e46042"
      },
      "execution_count": null,
      "outputs": [
        {
          "output_type": "stream",
          "name": "stderr",
          "text": [
            "/usr/local/lib/python3.7/dist-packages/sklearn/utils/deprecation.py:87: FutureWarning: Function plot_roc_curve is deprecated; Function :func:`plot_roc_curve` is deprecated in 1.0 and will be removed in 1.2. Use one of the class methods: :meth:`sklearn.metric.RocCurveDisplay.from_predictions` or :meth:`sklearn.metric.RocCurveDisplay.from_estimator`.\n",
            "  warnings.warn(msg, category=FutureWarning)\n"
          ]
        },
        {
          "output_type": "execute_result",
          "data": {
            "text/plain": [
              "<sklearn.metrics._plot.roc_curve.RocCurveDisplay at 0x7f17e02b20d0>"
            ]
          },
          "metadata": {},
          "execution_count": 176
        },
        {
          "output_type": "display_data",
          "data": {
            "text/plain": [
              "<Figure size 432x288 with 1 Axes>"
            ],
            "image/png": "[encoded data removed]"
          },
          "metadata": {
            "needs_background": "light"
          }
        }
      ]
    },
    {
      "cell_type": "code",
      "source": [
        "metrics.plot_precision_recall_curve(xgb_bayes, X_train, y_train)"
      ],
      "metadata": {
        "colab": {
          "base_uri": "https://localhost:8080/",
          "height": 351
        },
        "id": "FQD4gm52E4Ds",
        "outputId": "8f1de9e9-5373-42b3-e405-29974130170a"
      },
      "execution_count": null,
      "outputs": [
        {
          "output_type": "stream",
          "name": "stderr",
          "text": [
            "/usr/local/lib/python3.7/dist-packages/sklearn/utils/deprecation.py:87: FutureWarning: Function plot_precision_recall_curve is deprecated; Function `plot_precision_recall_curve` is deprecated in 1.0 and will be removed in 1.2. Use one of the class methods: PrecisionRecallDisplay.from_predictions or PrecisionRecallDisplay.from_estimator.\n",
            "  warnings.warn(msg, category=FutureWarning)\n"
          ]
        },
        {
          "output_type": "execute_result",
          "data": {
            "text/plain": [
              "<sklearn.metrics._plot.precision_recall_curve.PrecisionRecallDisplay at 0x7f17e02a5e10>"
            ]
          },
          "metadata": {},
          "execution_count": 180
        },
        {
          "output_type": "display_data",
          "data": {
            "text/plain": [
              "<Figure size 432x288 with 1 Axes>"
            ],
            "image/png": "[encoded data removed]"
          },
          "metadata": {
            "needs_background": "light"
          }
        }
      ]
    },
    {
      "cell_type": "markdown",
      "source": [
        "###Roc Curve for Test data"
      ],
      "metadata": {
        "id": "PQU90A8OFBag"
      }
    },
    {
      "cell_type": "code",
      "source": [
        "metrics.plot_roc_curve(xgb_bayes, X_test, y_test)"
      ],
      "metadata": {
        "colab": {
          "base_uri": "https://localhost:8080/",
          "height": 351
        },
        "id": "QPSuy47eE_dq",
        "outputId": "f797ef76-cf30-4f38-a869-2774c77d7db9"
      },
      "execution_count": null,
      "outputs": [
        {
          "output_type": "stream",
          "name": "stderr",
          "text": [
            "/usr/local/lib/python3.7/dist-packages/sklearn/utils/deprecation.py:87: FutureWarning: Function plot_roc_curve is deprecated; Function :func:`plot_roc_curve` is deprecated in 1.0 and will be removed in 1.2. Use one of the class methods: :meth:`sklearn.metric.RocCurveDisplay.from_predictions` or :meth:`sklearn.metric.RocCurveDisplay.from_estimator`.\n",
            "  warnings.warn(msg, category=FutureWarning)\n"
          ]
        },
        {
          "output_type": "execute_result",
          "data": {
            "text/plain": [
              "<sklearn.metrics._plot.roc_curve.RocCurveDisplay at 0x7f17e01cf4d0>"
            ]
          },
          "metadata": {},
          "execution_count": 181
        },
        {
          "output_type": "display_data",
          "data": {
            "text/plain": [
              "<Figure size 432x288 with 1 Axes>"
            ],
            "image/png": "[encoded data removed]"
          },
          "metadata": {
            "needs_background": "light"
          }
        }
      ]
    },
    {
      "cell_type": "code",
      "source": [
        "metrics.plot_precision_recall_curve(xgb_bayes, X_test, y_test)"
      ],
      "metadata": {
        "colab": {
          "base_uri": "https://localhost:8080/",
          "height": 351
        },
        "id": "ps2PGLM6FKSX",
        "outputId": "9277494c-1800-47e2-9dca-5e75786929a5"
      },
      "execution_count": null,
      "outputs": [
        {
          "output_type": "stream",
          "name": "stderr",
          "text": [
            "/usr/local/lib/python3.7/dist-packages/sklearn/utils/deprecation.py:87: FutureWarning: Function plot_precision_recall_curve is deprecated; Function `plot_precision_recall_curve` is deprecated in 1.0 and will be removed in 1.2. Use one of the class methods: PrecisionRecallDisplay.from_predictions or PrecisionRecallDisplay.from_estimator.\n",
            "  warnings.warn(msg, category=FutureWarning)\n"
          ]
        },
        {
          "output_type": "execute_result",
          "data": {
            "text/plain": [
              "<sklearn.metrics._plot.precision_recall_curve.PrecisionRecallDisplay at 0x7f17e01635d0>"
            ]
          },
          "metadata": {},
          "execution_count": 182
        },
        {
          "output_type": "display_data",
          "data": {
            "text/plain": [
              "<Figure size 432x288 with 1 Axes>"
            ],
            "image/png": "[encoded data removed]"
          },
          "metadata": {
            "needs_background": "light"
          }
        }
      ]
    },
    {
      "cell_type": "markdown",
      "source": [
        "#Observation"
      ],
      "metadata": {
        "id": "Ob-MAzVnGrJn"
      }
    },
    {
      "cell_type": "markdown",
      "source": [
        "* The ML model for the problem statement was created using python with the help of the dataset, and the ML model created with LGBM and XGBoost classifier performed better than other models.\n",
        "\n",
        "* In comparison to both models, the LGBM model performed well on the most essential evaluation metric, 'Recall,' on train data and test data. As a result, **we conclude LGBMClassifier is the best model for this dataset**."
      ],
      "metadata": {
        "id": "ZT4aNZCQGvnh"
      }
    },
    {
      "cell_type": "markdown",
      "source": [
        "###let us highlight the most important features that will be beneficial to the client."
      ],
      "metadata": {
        "id": "_YcCFfAwH50X"
      }
    },
    {
      "cell_type": "code",
      "source": [
        "important_features = lg_bayes.best_estimator_.feature_importances_\n",
        "important_feat_dict = {'Feature' : train_col_list,\n",
        "                   'Important Features' : important_features}\n",
        "important_feat_df = pd.DataFrame(important_feat_dict)"
      ],
      "metadata": {
        "id": "SA_8LZCGIdk2"
      },
      "execution_count": null,
      "outputs": []
    },
    {
      "cell_type": "code",
      "source": [
        "important_feat_df['Important Features'] = round(important_feat_df['Important Features'],2)"
      ],
      "metadata": {
        "id": "yaYxbCSkIiUc"
      },
      "execution_count": null,
      "outputs": []
    },
    {
      "cell_type": "code",
      "source": [
        "#Our top feature in descending order\n",
        "important_feat_df.sort_values(by=['Important Features'],ascending=False)"
      ],
      "metadata": {
        "colab": {
          "base_uri": "https://localhost:8080/",
          "height": 332
        },
        "id": "sKpEBgx8IlBa",
        "outputId": "e1d8a347-5e0b-4831-d184-c4de2d50bac4"
      },
      "execution_count": null,
      "outputs": [
        {
          "output_type": "execute_result",
          "data": {
            "text/plain": [
              "                Feature  Important Features\n",
              "7        Annual_Premium                2472\n",
              "1                   Age                1914\n",
              "3           Region_Code                1844\n",
              "8  Policy_Sales_Channel                1465\n",
              "5           Vehicle_Age                 206\n",
              "6        Vehicle_Damage                 120\n",
              "0                Gender                 110\n",
              "4    Previously_Insured                  83\n",
              "2       Driving_License                  48"
            ],
            "text/html": [
              "\n",
              "  <div id=\"df-bc852b2a-4b47-4dd0-a7b5-2e297cb5daca\">\n",
              "    <div class=\"colab-df-container\">\n",
              "      <div>\n",
              "<style scoped>\n",
              "    .dataframe tbody tr th:only-of-type {\n",
              "        vertical-align: middle;\n",
              "    }\n",
              "\n",
              "    .dataframe tbody tr th {\n",
              "        vertical-align: top;\n",
              "    }\n",
              "\n",
              "    .dataframe thead th {\n",
              "        text-align: right;\n",
              "    }\n",
              "</style>\n",
              "<table border=\"1\" class=\"dataframe\">\n",
              "  <thead>\n",
              "    <tr style=\"text-align: right;\">\n",
              "      <th></th>\n",
              "      <th>Feature</th>\n",
              "      <th>Important Features</th>\n",
              "    </tr>\n",
              "  </thead>\n",
              "  <tbody>\n",
              "    <tr>\n",
              "      <th>7</th>\n",
              "      <td>Annual_Premium</td>\n",
              "      <td>2472</td>\n",
              "    </tr>\n",
              "    <tr>\n",
              "      <th>1</th>\n",
              "      <td>Age</td>\n",
              "      <td>1914</td>\n",
              "    </tr>\n",
              "    <tr>\n",
              "      <th>3</th>\n",
              "      <td>Region_Code</td>\n",
              "      <td>1844</td>\n",
              "    </tr>\n",
              "    <tr>\n",
              "      <th>8</th>\n",
              "      <td>Policy_Sales_Channel</td>\n",
              "      <td>1465</td>\n",
              "    </tr>\n",
              "    <tr>\n",
              "      <th>5</th>\n",
              "      <td>Vehicle_Age</td>\n",
              "      <td>206</td>\n",
              "    </tr>\n",
              "    <tr>\n",
              "      <th>6</th>\n",
              "      <td>Vehicle_Damage</td>\n",
              "      <td>120</td>\n",
              "    </tr>\n",
              "    <tr>\n",
              "      <th>0</th>\n",
              "      <td>Gender</td>\n",
              "      <td>110</td>\n",
              "    </tr>\n",
              "    <tr>\n",
              "      <th>4</th>\n",
              "      <td>Previously_Insured</td>\n",
              "      <td>83</td>\n",
              "    </tr>\n",
              "    <tr>\n",
              "      <th>2</th>\n",
              "      <td>Driving_License</td>\n",
              "      <td>48</td>\n",
              "    </tr>\n",
              "  </tbody>\n",
              "</table>\n",
              "</div>\n",
              "      <button class=\"colab-df-convert\" onclick=\"convertToInteractive('df-bc852b2a-4b47-4dd0-a7b5-2e297cb5daca')\"\n",
              "              title=\"Convert this dataframe to an interactive table.\"\n",
              "              style=\"display:none;\">\n",
              "        \n",
              "  <svg xmlns=\"http://www.w3.org/2000/svg\" height=\"24px\"viewBox=\"0 0 24 24\"\n",
              "       width=\"24px\">\n",
              "    <path d=\"M0 0h24v24H0V0z\" fill=\"none\"/>\n",
              "    <path d=\"M18.56 5.44l.94 2.06.94-2.06 2.06-.94-2.06-.94-.94-2.06-.94 2.06-2.06.94zm-11 1L8.5 8.5l.94-2.06 2.06-.94-2.06-.94L8.5 2.5l-.94 2.06-2.06.94zm10 10l.94 2.06.94-2.06 2.06-.94-2.06-.94-.94-2.06-.94 2.06-2.06.94z\"/><path d=\"M17.41 7.96l-1.37-1.37c-.4-.4-.92-.59-1.43-.59-.52 0-1.04.2-1.43.59L10.3 9.45l-7.72 7.72c-.78.78-.78 2.05 0 2.83L4 21.41c.39.39.9.59 1.41.59.51 0 1.02-.2 1.41-.59l7.78-7.78 2.81-2.81c.8-.78.8-2.07 0-2.86zM5.41 20L4 18.59l7.72-7.72 1.47 1.35L5.41 20z\"/>\n",
              "  </svg>\n",
              "      </button>\n",
              "      \n",
              "  <style>\n",
              "    .colab-df-container {\n",
              "      display:flex;\n",
              "      flex-wrap:wrap;\n",
              "      gap: 12px;\n",
              "    }\n",
              "\n",
              "    .colab-df-convert {\n",
              "      background-color: #E8F0FE;\n",
              "      border: none;\n",
              "      border-radius: 50%;\n",
              "      cursor: pointer;\n",
              "      display: none;\n",
              "      fill: #1967D2;\n",
              "      height: 32px;\n",
              "      padding: 0 0 0 0;\n",
              "      width: 32px;\n",
              "    }\n",
              "\n",
              "    .colab-df-convert:hover {\n",
              "      background-color: #E2EBFA;\n",
              "      box-shadow: 0px 1px 2px rgba(60, 64, 67, 0.3), 0px 1px 3px 1px rgba(60, 64, 67, 0.15);\n",
              "      fill: #174EA6;\n",
              "    }\n",
              "\n",
              "    [theme=dark] .colab-df-convert {\n",
              "      background-color: #3B4455;\n",
              "      fill: #D2E3FC;\n",
              "    }\n",
              "\n",
              "    [theme=dark] .colab-df-convert:hover {\n",
              "      background-color: #434B5C;\n",
              "      box-shadow: 0px 1px 3px 1px rgba(0, 0, 0, 0.15);\n",
              "      filter: drop-shadow(0px 1px 2px rgba(0, 0, 0, 0.3));\n",
              "      fill: #FFFFFF;\n",
              "    }\n",
              "  </style>\n",
              "\n",
              "      <script>\n",
              "        const buttonEl =\n",
              "          document.querySelector('#df-bc852b2a-4b47-4dd0-a7b5-2e297cb5daca button.colab-df-convert');\n",
              "        buttonEl.style.display =\n",
              "          google.colab.kernel.accessAllowed ? 'block' : 'none';\n",
              "\n",
              "        async function convertToInteractive(key) {\n",
              "          const element = document.querySelector('#df-bc852b2a-4b47-4dd0-a7b5-2e297cb5daca');\n",
              "          const dataTable =\n",
              "            await google.colab.kernel.invokeFunction('convertToInteractive',\n",
              "                                                     [key], {});\n",
              "          if (!dataTable) return;\n",
              "\n",
              "          const docLinkHtml = 'Like what you see? Visit the ' +\n",
              "            '<a target=\"_blank\" href=https://colab.research.google.com/notebooks/data_table.ipynb>data table notebook</a>'\n",
              "            + ' to learn more about interactive tables.';\n",
              "          element.innerHTML = '';\n",
              "          dataTable['output_type'] = 'display_data';\n",
              "          await google.colab.output.renderOutput(dataTable, element);\n",
              "          const docLink = document.createElement('div');\n",
              "          docLink.innerHTML = docLinkHtml;\n",
              "          element.appendChild(docLink);\n",
              "        }\n",
              "      </script>\n",
              "    </div>\n",
              "  </div>\n",
              "  "
            ]
          },
          "metadata": {},
          "execution_count": 190
        }
      ]
    },
    {
      "cell_type": "markdown",
      "source": [
        "The most significant features are listed from top to bottom."
      ],
      "metadata": {
        "id": "qEU_WN7-Ioo7"
      }
    },
    {
      "cell_type": "markdown",
      "source": [
        "#Conclusion"
      ],
      "metadata": {
        "id": "AEo3oov2KGyG"
      }
    },
    {
      "cell_type": "markdown",
      "source": [
        "\n",
        "\n",
        "* Male customers are more tend to buy vehicle insurance than females.\n",
        "* The middle-aged customers would be more interested in the insurance offer.\n",
        "* Customers having a driving license are more prone to convert.\n",
        "* Those with new vehicles would be more interested in getting insurance.\n",
        "* The customers who already have vehicle insurance won’t be interested in getting another.\n",
        "* If the Customer got his/her vehicle damaged in the past, they would be more interested in buying insurance.\n",
        "* We can see that **LGBM model perform better** for this dataset.\n",
        " \n",
        "\n"
      ],
      "metadata": {
        "id": "3GXeYAgCKI2E"
      }
    },
    {
      "cell_type": "markdown",
      "source": [
        "#Challenges faced"
      ],
      "metadata": {
        "id": "5CqLaLo66l_d"
      }
    },
    {
      "cell_type": "markdown",
      "source": [
        "\n",
        "* Handling large dataset\n",
        "* Already available methods of hyper parameter tuning were taking a huge amount of time to process.\n",
        "* Memory Optimization during hyper parameter tuning.\n",
        "\n",
        "\n"
      ],
      "metadata": {
        "id": "szHUfDG16qW6"
      }
    }
  ],
  "metadata": {
    "colab": {
      "collapsed_sections": [
        "gKhUYhPWCEGT",
        "wto0k7GWCLoh",
        "cmcCTgB0Ck4d",
        "D3-5dMgpD94p",
        "L5joIq9n40sx"
      ],
      "name": "Copy of Shivangi Mishra|Capstone 3|Health insurance cross sell prediction.ipynb",
      "provenance": [],
      "include_colab_link": true
    },
    "kernelspec": {
      "display_name": "Python 3",
      "name": "python3"
    },
    "language_info": {
      "name": "python"
    }
  },
  "nbformat": 4,
  "nbformat_minor": 0
}
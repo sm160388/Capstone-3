{
  "cells": [
    {
      "cell_type": "markdown",
      "metadata": {
        "id": "view-in-github",
        "colab_type": "text"
      },
      "source": [
        "<a href=\"https://colab.research.google.com/github/sm160388/Capstone-3/blob/main/7thcommit.ipynb\" target=\"_parent\"><img src=\"https://colab.research.google.com/assets/colab-badge.svg\" alt=\"Open In Colab\"/></a>"
      ]
    },
    {
      "cell_type": "markdown",
      "metadata": {
        "id": "23-8Zi0h4bzH"
      },
      "source": [
        "# **Problem Statement**"
      ]
    },
    {
      "cell_type": "markdown",
      "metadata": {
        "id": "jItpSW9u4d8c"
      },
      "source": [
        "Our client is an Insurance company that has provided Health Insurance to its customers now they need your help in building a model to predict whether the policyholders (customers) from past year will also be interested in Vehicle Insurance provided by the company.\n",
        "\n",
        "An insurance policy is an arrangement by which a company undertakes to provide a guarantee of compensation for specified loss, damage, illness, or death in return for the payment of a specified premium. A premium is a sum of money that the customer needs to pay regularly to an insurance company for this guarantee.\n",
        "\n",
        "For example, you may pay a premium of Rs. 5000 each year for a health insurance cover of Rs. 200,000/- so that if, God forbid, you fall ill and need to be hospitalised in that year, the insurance provider company will bear the cost of hospitalisation etc. for upto Rs. 200,000. Now if you are wondering how can company bear such high hospitalisation cost when it charges a premium of only Rs. 5000/-, that is where the concept of probabilities comes in picture. For example, like you, there may be 100 customers who would be paying a premium of Rs. 5000 every year, but only a few of them (say 2-3) would get hospitalised that year and not everyone. This way everyone shares the risk of everyone else.\n",
        "\n",
        "Just like medical insurance, there is vehicle insurance where every year customer needs to pay a premium of certain amount to insurance provider company so that in case of unfortunate accident by the vehicle, the insurance provider company will provide a compensation (called ‘sum assured’) to the customer.\n",
        "\n",
        "Building a model to predict whether a customer would be interested in Vehicle Insurance is extremely helpful for the company because it can then accordingly plan its communication strategy to reach out to those customers and optimise its business model and revenue.\n",
        "\n",
        "Now, in order to predict, whether the customer would be interested in Vehicle insurance, you have information about demographics (gender, age, region code type), Vehicles (Vehicle Age, Damage), Policy (Premium, sourcing channel) etc."
      ]
    },
    {
      "cell_type": "markdown",
      "metadata": {
        "id": "tKCux_Wb4pCk"
      },
      "source": [
        "# **Attribute Information**"
      ]
    },
    {
      "cell_type": "markdown",
      "metadata": {
        "id": "bBTtTWw14yNr"
      },
      "source": [
        "1. id :\tUnique ID for the customer\n",
        "\n",
        "2. Gender\t: Gender of the customer\n",
        "\n",
        "3. Age :\tAge of the customer\n",
        "\n",
        "4. Driving_License\t0 : Customer does not have DL, 1 : Customer already has DL\n",
        "\n",
        "5. Region_Code :\tUnique code for the region of the customer\n",
        "\n",
        "6. Previously_Insured\t: 1 : Customer already has Vehicle Insurance, 0 : Customer doesn't have Vehicle Insurance\n",
        "\n",
        "7. Vehicle_Age :\tAge of the Vehicle\n",
        "\n",
        "8. Vehicle_Damage\t :1 : Customer got his/her vehicle damaged in the past. 0 : Customer didn't get his/her vehicle damaged in the past.\n",
        "\n",
        "9. Annual_Premium\t: The amount customer needs to pay as premium in the year\n",
        "\n",
        "10. PolicySalesChannel :\tAnonymized Code for the channel of outreaching to the customer ie. Different Agents, Over Mail, Over Phone, In Person, etc.\n",
        "\n",
        "11. Vintage :\tNumber of Days, Customer has been associated with the company\n",
        "\n",
        "12. Response :\t1 : Customer is interested, 0 : Customer is not interested"
      ]
    },
    {
      "cell_type": "markdown",
      "metadata": {
        "id": "Q3QK3YYc5DaK"
      },
      "source": [
        "# **Objective**"
      ]
    },
    {
      "cell_type": "markdown",
      "metadata": {
        "id": "rZyj1lil5G9z"
      },
      "source": [
        "We need to create a model that can predict, based on the data provided, whether current policyholders are also interested in vehicle insurance provided by the company.\n",
        "\n"
      ]
    },
    {
      "cell_type": "markdown",
      "metadata": {
        "id": "w1cLM3Ow5WF7"
      },
      "source": [
        "#**Importing the libraries**"
      ]
    },
    {
      "cell_type": "code",
      "execution_count": null,
      "metadata": {
        "id": "h9tJuAIqsjHO"
      },
      "outputs": [],
      "source": [
        "#importing libraries for data handelling\n",
        "import numpy as np\n",
        "import pandas as pd\n",
        "from numpy import math\n",
        "\n",
        "#importing libraries for data visualization\n",
        "import matplotlib.pyplot as plt\n",
        "%matplotlib inline\n",
        "import seaborn as sns"
      ]
    },
    {
      "cell_type": "code",
      "execution_count": null,
      "metadata": {
        "colab": {
          "base_uri": "https://localhost:8080/"
        },
        "id": "7xtJU9_17Nxb",
        "outputId": "af2572f9-ef23-4517-b42a-0ce1eee8b358"
      },
      "outputs": [
        {
          "output_type": "stream",
          "name": "stdout",
          "text": [
            "Drive already mounted at /content/drive; to attempt to forcibly remount, call drive.mount(\"/content/drive\", force_remount=True).\n"
          ]
        }
      ],
      "source": [
        "from google.colab import drive\n",
        "drive.mount('/content/drive')"
      ]
    },
    {
      "cell_type": "markdown",
      "metadata": {
        "id": "5BE5xswP5hWB"
      },
      "source": [
        "#**Loading the dataset**"
      ]
    },
    {
      "cell_type": "code",
      "execution_count": null,
      "metadata": {
        "id": "UIhB2caF7PhG"
      },
      "outputs": [],
      "source": [
        "path= \"/content/drive/MyDrive/Copy of TRAIN-HEALTH INSURANCE CROSS SELL PREDICTION.csv\""
      ]
    },
    {
      "cell_type": "code",
      "execution_count": null,
      "metadata": {
        "id": "jTcTCumM7Wyo"
      },
      "outputs": [],
      "source": [
        "df= pd.read_csv(path)"
      ]
    },
    {
      "cell_type": "code",
      "execution_count": null,
      "metadata": {
        "colab": {
          "base_uri": "https://localhost:8080/"
        },
        "id": "f6ja3bqB7k0J",
        "outputId": "470d6213-e4a0-4dc4-89ab-d0d125d29fc7"
      },
      "outputs": [
        {
          "output_type": "execute_result",
          "data": {
            "text/plain": [
              "(381109, 12)"
            ]
          },
          "metadata": {},
          "execution_count": 27
        }
      ],
      "source": [
        "df.shape"
      ]
    },
    {
      "cell_type": "code",
      "execution_count": null,
      "metadata": {
        "colab": {
          "base_uri": "https://localhost:8080/",
          "height": 206
        },
        "id": "eBG36sxf7vSl",
        "outputId": "521f6613-e6c3-4bfb-b30c-f21d09a97f06"
      },
      "outputs": [
        {
          "data": {
            "text/html": [
              "\n",
              "  <div id=\"df-90865397-6214-41b4-bc91-14fde3c8296b\">\n",
              "    <div class=\"colab-df-container\">\n",
              "      <div>\n",
              "<style scoped>\n",
              "    .dataframe tbody tr th:only-of-type {\n",
              "        vertical-align: middle;\n",
              "    }\n",
              "\n",
              "    .dataframe tbody tr th {\n",
              "        vertical-align: top;\n",
              "    }\n",
              "\n",
              "    .dataframe thead th {\n",
              "        text-align: right;\n",
              "    }\n",
              "</style>\n",
              "<table border=\"1\" class=\"dataframe\">\n",
              "  <thead>\n",
              "    <tr style=\"text-align: right;\">\n",
              "      <th></th>\n",
              "      <th>id</th>\n",
              "      <th>Gender</th>\n",
              "      <th>Age</th>\n",
              "      <th>Driving_License</th>\n",
              "      <th>Region_Code</th>\n",
              "      <th>Previously_Insured</th>\n",
              "      <th>Vehicle_Age</th>\n",
              "      <th>Vehicle_Damage</th>\n",
              "      <th>Annual_Premium</th>\n",
              "      <th>Policy_Sales_Channel</th>\n",
              "      <th>Vintage</th>\n",
              "      <th>Response</th>\n",
              "    </tr>\n",
              "  </thead>\n",
              "  <tbody>\n",
              "    <tr>\n",
              "      <th>0</th>\n",
              "      <td>1</td>\n",
              "      <td>Male</td>\n",
              "      <td>44</td>\n",
              "      <td>1</td>\n",
              "      <td>28.0</td>\n",
              "      <td>0</td>\n",
              "      <td>&gt; 2 Years</td>\n",
              "      <td>Yes</td>\n",
              "      <td>40454.0</td>\n",
              "      <td>26.0</td>\n",
              "      <td>217</td>\n",
              "      <td>1</td>\n",
              "    </tr>\n",
              "    <tr>\n",
              "      <th>1</th>\n",
              "      <td>2</td>\n",
              "      <td>Male</td>\n",
              "      <td>76</td>\n",
              "      <td>1</td>\n",
              "      <td>3.0</td>\n",
              "      <td>0</td>\n",
              "      <td>1-2 Year</td>\n",
              "      <td>No</td>\n",
              "      <td>33536.0</td>\n",
              "      <td>26.0</td>\n",
              "      <td>183</td>\n",
              "      <td>0</td>\n",
              "    </tr>\n",
              "    <tr>\n",
              "      <th>2</th>\n",
              "      <td>3</td>\n",
              "      <td>Male</td>\n",
              "      <td>47</td>\n",
              "      <td>1</td>\n",
              "      <td>28.0</td>\n",
              "      <td>0</td>\n",
              "      <td>&gt; 2 Years</td>\n",
              "      <td>Yes</td>\n",
              "      <td>38294.0</td>\n",
              "      <td>26.0</td>\n",
              "      <td>27</td>\n",
              "      <td>1</td>\n",
              "    </tr>\n",
              "    <tr>\n",
              "      <th>3</th>\n",
              "      <td>4</td>\n",
              "      <td>Male</td>\n",
              "      <td>21</td>\n",
              "      <td>1</td>\n",
              "      <td>11.0</td>\n",
              "      <td>1</td>\n",
              "      <td>&lt; 1 Year</td>\n",
              "      <td>No</td>\n",
              "      <td>28619.0</td>\n",
              "      <td>152.0</td>\n",
              "      <td>203</td>\n",
              "      <td>0</td>\n",
              "    </tr>\n",
              "    <tr>\n",
              "      <th>4</th>\n",
              "      <td>5</td>\n",
              "      <td>Female</td>\n",
              "      <td>29</td>\n",
              "      <td>1</td>\n",
              "      <td>41.0</td>\n",
              "      <td>1</td>\n",
              "      <td>&lt; 1 Year</td>\n",
              "      <td>No</td>\n",
              "      <td>27496.0</td>\n",
              "      <td>152.0</td>\n",
              "      <td>39</td>\n",
              "      <td>0</td>\n",
              "    </tr>\n",
              "  </tbody>\n",
              "</table>\n",
              "</div>\n",
              "      <button class=\"colab-df-convert\" onclick=\"convertToInteractive('df-90865397-6214-41b4-bc91-14fde3c8296b')\"\n",
              "              title=\"Convert this dataframe to an interactive table.\"\n",
              "              style=\"display:none;\">\n",
              "        \n",
              "  <svg xmlns=\"http://www.w3.org/2000/svg\" height=\"24px\"viewBox=\"0 0 24 24\"\n",
              "       width=\"24px\">\n",
              "    <path d=\"M0 0h24v24H0V0z\" fill=\"none\"/>\n",
              "    <path d=\"M18.56 5.44l.94 2.06.94-2.06 2.06-.94-2.06-.94-.94-2.06-.94 2.06-2.06.94zm-11 1L8.5 8.5l.94-2.06 2.06-.94-2.06-.94L8.5 2.5l-.94 2.06-2.06.94zm10 10l.94 2.06.94-2.06 2.06-.94-2.06-.94-.94-2.06-.94 2.06-2.06.94z\"/><path d=\"M17.41 7.96l-1.37-1.37c-.4-.4-.92-.59-1.43-.59-.52 0-1.04.2-1.43.59L10.3 9.45l-7.72 7.72c-.78.78-.78 2.05 0 2.83L4 21.41c.39.39.9.59 1.41.59.51 0 1.02-.2 1.41-.59l7.78-7.78 2.81-2.81c.8-.78.8-2.07 0-2.86zM5.41 20L4 18.59l7.72-7.72 1.47 1.35L5.41 20z\"/>\n",
              "  </svg>\n",
              "      </button>\n",
              "      \n",
              "  <style>\n",
              "    .colab-df-container {\n",
              "      display:flex;\n",
              "      flex-wrap:wrap;\n",
              "      gap: 12px;\n",
              "    }\n",
              "\n",
              "    .colab-df-convert {\n",
              "      background-color: #E8F0FE;\n",
              "      border: none;\n",
              "      border-radius: 50%;\n",
              "      cursor: pointer;\n",
              "      display: none;\n",
              "      fill: #1967D2;\n",
              "      height: 32px;\n",
              "      padding: 0 0 0 0;\n",
              "      width: 32px;\n",
              "    }\n",
              "\n",
              "    .colab-df-convert:hover {\n",
              "      background-color: #E2EBFA;\n",
              "      box-shadow: 0px 1px 2px rgba(60, 64, 67, 0.3), 0px 1px 3px 1px rgba(60, 64, 67, 0.15);\n",
              "      fill: #174EA6;\n",
              "    }\n",
              "\n",
              "    [theme=dark] .colab-df-convert {\n",
              "      background-color: #3B4455;\n",
              "      fill: #D2E3FC;\n",
              "    }\n",
              "\n",
              "    [theme=dark] .colab-df-convert:hover {\n",
              "      background-color: #434B5C;\n",
              "      box-shadow: 0px 1px 3px 1px rgba(0, 0, 0, 0.15);\n",
              "      filter: drop-shadow(0px 1px 2px rgba(0, 0, 0, 0.3));\n",
              "      fill: #FFFFFF;\n",
              "    }\n",
              "  </style>\n",
              "\n",
              "      <script>\n",
              "        const buttonEl =\n",
              "          document.querySelector('#df-90865397-6214-41b4-bc91-14fde3c8296b button.colab-df-convert');\n",
              "        buttonEl.style.display =\n",
              "          google.colab.kernel.accessAllowed ? 'block' : 'none';\n",
              "\n",
              "        async function convertToInteractive(key) {\n",
              "          const element = document.querySelector('#df-90865397-6214-41b4-bc91-14fde3c8296b');\n",
              "          const dataTable =\n",
              "            await google.colab.kernel.invokeFunction('convertToInteractive',\n",
              "                                                     [key], {});\n",
              "          if (!dataTable) return;\n",
              "\n",
              "          const docLinkHtml = 'Like what you see? Visit the ' +\n",
              "            '<a target=\"_blank\" href=https://colab.research.google.com/notebooks/data_table.ipynb>data table notebook</a>'\n",
              "            + ' to learn more about interactive tables.';\n",
              "          element.innerHTML = '';\n",
              "          dataTable['output_type'] = 'display_data';\n",
              "          await google.colab.output.renderOutput(dataTable, element);\n",
              "          const docLink = document.createElement('div');\n",
              "          docLink.innerHTML = docLinkHtml;\n",
              "          element.appendChild(docLink);\n",
              "        }\n",
              "      </script>\n",
              "    </div>\n",
              "  </div>\n",
              "  "
            ],
            "text/plain": [
              "   id  Gender  Age  Driving_License  Region_Code  Previously_Insured  \\\n",
              "0   1    Male   44                1         28.0                   0   \n",
              "1   2    Male   76                1          3.0                   0   \n",
              "2   3    Male   47                1         28.0                   0   \n",
              "3   4    Male   21                1         11.0                   1   \n",
              "4   5  Female   29                1         41.0                   1   \n",
              "\n",
              "  Vehicle_Age Vehicle_Damage  Annual_Premium  Policy_Sales_Channel  Vintage  \\\n",
              "0   > 2 Years            Yes         40454.0                  26.0      217   \n",
              "1    1-2 Year             No         33536.0                  26.0      183   \n",
              "2   > 2 Years            Yes         38294.0                  26.0       27   \n",
              "3    < 1 Year             No         28619.0                 152.0      203   \n",
              "4    < 1 Year             No         27496.0                 152.0       39   \n",
              "\n",
              "   Response  \n",
              "0         1  \n",
              "1         0  \n",
              "2         1  \n",
              "3         0  \n",
              "4         0  "
            ]
          },
          "execution_count": 143,
          "metadata": {},
          "output_type": "execute_result"
        }
      ],
      "source": [
        "df.head()"
      ]
    },
    {
      "cell_type": "code",
      "execution_count": null,
      "metadata": {
        "colab": {
          "base_uri": "https://localhost:8080/",
          "height": 206
        },
        "id": "peNSclpL735M",
        "outputId": "b36baf2a-9aa0-4bce-ce89-f7f44aac80e5"
      },
      "outputs": [
        {
          "data": {
            "text/html": [
              "\n",
              "  <div id=\"df-b97cb43a-3266-405d-a83c-4d0cbcee33a2\">\n",
              "    <div class=\"colab-df-container\">\n",
              "      <div>\n",
              "<style scoped>\n",
              "    .dataframe tbody tr th:only-of-type {\n",
              "        vertical-align: middle;\n",
              "    }\n",
              "\n",
              "    .dataframe tbody tr th {\n",
              "        vertical-align: top;\n",
              "    }\n",
              "\n",
              "    .dataframe thead th {\n",
              "        text-align: right;\n",
              "    }\n",
              "</style>\n",
              "<table border=\"1\" class=\"dataframe\">\n",
              "  <thead>\n",
              "    <tr style=\"text-align: right;\">\n",
              "      <th></th>\n",
              "      <th>id</th>\n",
              "      <th>Gender</th>\n",
              "      <th>Age</th>\n",
              "      <th>Driving_License</th>\n",
              "      <th>Region_Code</th>\n",
              "      <th>Previously_Insured</th>\n",
              "      <th>Vehicle_Age</th>\n",
              "      <th>Vehicle_Damage</th>\n",
              "      <th>Annual_Premium</th>\n",
              "      <th>Policy_Sales_Channel</th>\n",
              "      <th>Vintage</th>\n",
              "      <th>Response</th>\n",
              "    </tr>\n",
              "  </thead>\n",
              "  <tbody>\n",
              "    <tr>\n",
              "      <th>381104</th>\n",
              "      <td>381105</td>\n",
              "      <td>Male</td>\n",
              "      <td>74</td>\n",
              "      <td>1</td>\n",
              "      <td>26.0</td>\n",
              "      <td>1</td>\n",
              "      <td>1-2 Year</td>\n",
              "      <td>No</td>\n",
              "      <td>30170.0</td>\n",
              "      <td>26.0</td>\n",
              "      <td>88</td>\n",
              "      <td>0</td>\n",
              "    </tr>\n",
              "    <tr>\n",
              "      <th>381105</th>\n",
              "      <td>381106</td>\n",
              "      <td>Male</td>\n",
              "      <td>30</td>\n",
              "      <td>1</td>\n",
              "      <td>37.0</td>\n",
              "      <td>1</td>\n",
              "      <td>&lt; 1 Year</td>\n",
              "      <td>No</td>\n",
              "      <td>40016.0</td>\n",
              "      <td>152.0</td>\n",
              "      <td>131</td>\n",
              "      <td>0</td>\n",
              "    </tr>\n",
              "    <tr>\n",
              "      <th>381106</th>\n",
              "      <td>381107</td>\n",
              "      <td>Male</td>\n",
              "      <td>21</td>\n",
              "      <td>1</td>\n",
              "      <td>30.0</td>\n",
              "      <td>1</td>\n",
              "      <td>&lt; 1 Year</td>\n",
              "      <td>No</td>\n",
              "      <td>35118.0</td>\n",
              "      <td>160.0</td>\n",
              "      <td>161</td>\n",
              "      <td>0</td>\n",
              "    </tr>\n",
              "    <tr>\n",
              "      <th>381107</th>\n",
              "      <td>381108</td>\n",
              "      <td>Female</td>\n",
              "      <td>68</td>\n",
              "      <td>1</td>\n",
              "      <td>14.0</td>\n",
              "      <td>0</td>\n",
              "      <td>&gt; 2 Years</td>\n",
              "      <td>Yes</td>\n",
              "      <td>44617.0</td>\n",
              "      <td>124.0</td>\n",
              "      <td>74</td>\n",
              "      <td>0</td>\n",
              "    </tr>\n",
              "    <tr>\n",
              "      <th>381108</th>\n",
              "      <td>381109</td>\n",
              "      <td>Male</td>\n",
              "      <td>46</td>\n",
              "      <td>1</td>\n",
              "      <td>29.0</td>\n",
              "      <td>0</td>\n",
              "      <td>1-2 Year</td>\n",
              "      <td>No</td>\n",
              "      <td>41777.0</td>\n",
              "      <td>26.0</td>\n",
              "      <td>237</td>\n",
              "      <td>0</td>\n",
              "    </tr>\n",
              "  </tbody>\n",
              "</table>\n",
              "</div>\n",
              "      <button class=\"colab-df-convert\" onclick=\"convertToInteractive('df-b97cb43a-3266-405d-a83c-4d0cbcee33a2')\"\n",
              "              title=\"Convert this dataframe to an interactive table.\"\n",
              "              style=\"display:none;\">\n",
              "        \n",
              "  <svg xmlns=\"http://www.w3.org/2000/svg\" height=\"24px\"viewBox=\"0 0 24 24\"\n",
              "       width=\"24px\">\n",
              "    <path d=\"M0 0h24v24H0V0z\" fill=\"none\"/>\n",
              "    <path d=\"M18.56 5.44l.94 2.06.94-2.06 2.06-.94-2.06-.94-.94-2.06-.94 2.06-2.06.94zm-11 1L8.5 8.5l.94-2.06 2.06-.94-2.06-.94L8.5 2.5l-.94 2.06-2.06.94zm10 10l.94 2.06.94-2.06 2.06-.94-2.06-.94-.94-2.06-.94 2.06-2.06.94z\"/><path d=\"M17.41 7.96l-1.37-1.37c-.4-.4-.92-.59-1.43-.59-.52 0-1.04.2-1.43.59L10.3 9.45l-7.72 7.72c-.78.78-.78 2.05 0 2.83L4 21.41c.39.39.9.59 1.41.59.51 0 1.02-.2 1.41-.59l7.78-7.78 2.81-2.81c.8-.78.8-2.07 0-2.86zM5.41 20L4 18.59l7.72-7.72 1.47 1.35L5.41 20z\"/>\n",
              "  </svg>\n",
              "      </button>\n",
              "      \n",
              "  <style>\n",
              "    .colab-df-container {\n",
              "      display:flex;\n",
              "      flex-wrap:wrap;\n",
              "      gap: 12px;\n",
              "    }\n",
              "\n",
              "    .colab-df-convert {\n",
              "      background-color: #E8F0FE;\n",
              "      border: none;\n",
              "      border-radius: 50%;\n",
              "      cursor: pointer;\n",
              "      display: none;\n",
              "      fill: #1967D2;\n",
              "      height: 32px;\n",
              "      padding: 0 0 0 0;\n",
              "      width: 32px;\n",
              "    }\n",
              "\n",
              "    .colab-df-convert:hover {\n",
              "      background-color: #E2EBFA;\n",
              "      box-shadow: 0px 1px 2px rgba(60, 64, 67, 0.3), 0px 1px 3px 1px rgba(60, 64, 67, 0.15);\n",
              "      fill: #174EA6;\n",
              "    }\n",
              "\n",
              "    [theme=dark] .colab-df-convert {\n",
              "      background-color: #3B4455;\n",
              "      fill: #D2E3FC;\n",
              "    }\n",
              "\n",
              "    [theme=dark] .colab-df-convert:hover {\n",
              "      background-color: #434B5C;\n",
              "      box-shadow: 0px 1px 3px 1px rgba(0, 0, 0, 0.15);\n",
              "      filter: drop-shadow(0px 1px 2px rgba(0, 0, 0, 0.3));\n",
              "      fill: #FFFFFF;\n",
              "    }\n",
              "  </style>\n",
              "\n",
              "      <script>\n",
              "        const buttonEl =\n",
              "          document.querySelector('#df-b97cb43a-3266-405d-a83c-4d0cbcee33a2 button.colab-df-convert');\n",
              "        buttonEl.style.display =\n",
              "          google.colab.kernel.accessAllowed ? 'block' : 'none';\n",
              "\n",
              "        async function convertToInteractive(key) {\n",
              "          const element = document.querySelector('#df-b97cb43a-3266-405d-a83c-4d0cbcee33a2');\n",
              "          const dataTable =\n",
              "            await google.colab.kernel.invokeFunction('convertToInteractive',\n",
              "                                                     [key], {});\n",
              "          if (!dataTable) return;\n",
              "\n",
              "          const docLinkHtml = 'Like what you see? Visit the ' +\n",
              "            '<a target=\"_blank\" href=https://colab.research.google.com/notebooks/data_table.ipynb>data table notebook</a>'\n",
              "            + ' to learn more about interactive tables.';\n",
              "          element.innerHTML = '';\n",
              "          dataTable['output_type'] = 'display_data';\n",
              "          await google.colab.output.renderOutput(dataTable, element);\n",
              "          const docLink = document.createElement('div');\n",
              "          docLink.innerHTML = docLinkHtml;\n",
              "          element.appendChild(docLink);\n",
              "        }\n",
              "      </script>\n",
              "    </div>\n",
              "  </div>\n",
              "  "
            ],
            "text/plain": [
              "            id  Gender  Age  Driving_License  Region_Code  Previously_Insured  \\\n",
              "381104  381105    Male   74                1         26.0                   1   \n",
              "381105  381106    Male   30                1         37.0                   1   \n",
              "381106  381107    Male   21                1         30.0                   1   \n",
              "381107  381108  Female   68                1         14.0                   0   \n",
              "381108  381109    Male   46                1         29.0                   0   \n",
              "\n",
              "       Vehicle_Age Vehicle_Damage  Annual_Premium  Policy_Sales_Channel  \\\n",
              "381104    1-2 Year             No         30170.0                  26.0   \n",
              "381105    < 1 Year             No         40016.0                 152.0   \n",
              "381106    < 1 Year             No         35118.0                 160.0   \n",
              "381107   > 2 Years            Yes         44617.0                 124.0   \n",
              "381108    1-2 Year             No         41777.0                  26.0   \n",
              "\n",
              "        Vintage  Response  \n",
              "381104       88         0  \n",
              "381105      131         0  \n",
              "381106      161         0  \n",
              "381107       74         0  \n",
              "381108      237         0  "
            ]
          },
          "execution_count": 16,
          "metadata": {},
          "output_type": "execute_result"
        }
      ],
      "source": [
        "df.tail()"
      ]
    },
    {
      "cell_type": "code",
      "execution_count": null,
      "metadata": {
        "colab": {
          "base_uri": "https://localhost:8080/"
        },
        "id": "qoY0IL5376uV",
        "outputId": "e682b204-bce4-47cb-8a2a-afdf3de528a7"
      },
      "outputs": [
        {
          "name": "stdout",
          "output_type": "stream",
          "text": [
            "<class 'pandas.core.frame.DataFrame'>\n",
            "RangeIndex: 381109 entries, 0 to 381108\n",
            "Data columns (total 12 columns):\n",
            " #   Column                Non-Null Count   Dtype  \n",
            "---  ------                --------------   -----  \n",
            " 0   id                    381109 non-null  int64  \n",
            " 1   Gender                381109 non-null  object \n",
            " 2   Age                   381109 non-null  int64  \n",
            " 3   Driving_License       381109 non-null  int64  \n",
            " 4   Region_Code           381109 non-null  float64\n",
            " 5   Previously_Insured    381109 non-null  int64  \n",
            " 6   Vehicle_Age           381109 non-null  object \n",
            " 7   Vehicle_Damage        381109 non-null  object \n",
            " 8   Annual_Premium        381109 non-null  float64\n",
            " 9   Policy_Sales_Channel  381109 non-null  float64\n",
            " 10  Vintage               381109 non-null  int64  \n",
            " 11  Response              381109 non-null  int64  \n",
            "dtypes: float64(3), int64(6), object(3)\n",
            "memory usage: 34.9+ MB\n"
          ]
        }
      ],
      "source": [
        "df.info()"
      ]
    },
    {
      "cell_type": "code",
      "execution_count": null,
      "metadata": {
        "colab": {
          "base_uri": "https://localhost:8080/",
          "height": 300
        },
        "id": "3-Ap15V-8ENd",
        "outputId": "51cdaaf4-3b9a-4528-b87d-32f798b8bb9f"
      },
      "outputs": [
        {
          "data": {
            "text/html": [
              "\n",
              "  <div id=\"df-d3d764ba-02c2-40e8-b2b4-8a56c1925f59\">\n",
              "    <div class=\"colab-df-container\">\n",
              "      <div>\n",
              "<style scoped>\n",
              "    .dataframe tbody tr th:only-of-type {\n",
              "        vertical-align: middle;\n",
              "    }\n",
              "\n",
              "    .dataframe tbody tr th {\n",
              "        vertical-align: top;\n",
              "    }\n",
              "\n",
              "    .dataframe thead th {\n",
              "        text-align: right;\n",
              "    }\n",
              "</style>\n",
              "<table border=\"1\" class=\"dataframe\">\n",
              "  <thead>\n",
              "    <tr style=\"text-align: right;\">\n",
              "      <th></th>\n",
              "      <th>id</th>\n",
              "      <th>Age</th>\n",
              "      <th>Driving_License</th>\n",
              "      <th>Region_Code</th>\n",
              "      <th>Previously_Insured</th>\n",
              "      <th>Annual_Premium</th>\n",
              "      <th>Policy_Sales_Channel</th>\n",
              "      <th>Vintage</th>\n",
              "      <th>Response</th>\n",
              "    </tr>\n",
              "  </thead>\n",
              "  <tbody>\n",
              "    <tr>\n",
              "      <th>count</th>\n",
              "      <td>381109.000000</td>\n",
              "      <td>381109.000000</td>\n",
              "      <td>381109.000000</td>\n",
              "      <td>381109.000000</td>\n",
              "      <td>381109.000000</td>\n",
              "      <td>381109.000000</td>\n",
              "      <td>381109.000000</td>\n",
              "      <td>381109.000000</td>\n",
              "      <td>381109.000000</td>\n",
              "    </tr>\n",
              "    <tr>\n",
              "      <th>mean</th>\n",
              "      <td>190555.000000</td>\n",
              "      <td>38.822584</td>\n",
              "      <td>0.997869</td>\n",
              "      <td>26.388807</td>\n",
              "      <td>0.458210</td>\n",
              "      <td>30564.389581</td>\n",
              "      <td>112.034295</td>\n",
              "      <td>154.347397</td>\n",
              "      <td>0.122563</td>\n",
              "    </tr>\n",
              "    <tr>\n",
              "      <th>std</th>\n",
              "      <td>110016.836208</td>\n",
              "      <td>15.511611</td>\n",
              "      <td>0.046110</td>\n",
              "      <td>13.229888</td>\n",
              "      <td>0.498251</td>\n",
              "      <td>17213.155057</td>\n",
              "      <td>54.203995</td>\n",
              "      <td>83.671304</td>\n",
              "      <td>0.327936</td>\n",
              "    </tr>\n",
              "    <tr>\n",
              "      <th>min</th>\n",
              "      <td>1.000000</td>\n",
              "      <td>20.000000</td>\n",
              "      <td>0.000000</td>\n",
              "      <td>0.000000</td>\n",
              "      <td>0.000000</td>\n",
              "      <td>2630.000000</td>\n",
              "      <td>1.000000</td>\n",
              "      <td>10.000000</td>\n",
              "      <td>0.000000</td>\n",
              "    </tr>\n",
              "    <tr>\n",
              "      <th>25%</th>\n",
              "      <td>95278.000000</td>\n",
              "      <td>25.000000</td>\n",
              "      <td>1.000000</td>\n",
              "      <td>15.000000</td>\n",
              "      <td>0.000000</td>\n",
              "      <td>24405.000000</td>\n",
              "      <td>29.000000</td>\n",
              "      <td>82.000000</td>\n",
              "      <td>0.000000</td>\n",
              "    </tr>\n",
              "    <tr>\n",
              "      <th>50%</th>\n",
              "      <td>190555.000000</td>\n",
              "      <td>36.000000</td>\n",
              "      <td>1.000000</td>\n",
              "      <td>28.000000</td>\n",
              "      <td>0.000000</td>\n",
              "      <td>31669.000000</td>\n",
              "      <td>133.000000</td>\n",
              "      <td>154.000000</td>\n",
              "      <td>0.000000</td>\n",
              "    </tr>\n",
              "    <tr>\n",
              "      <th>75%</th>\n",
              "      <td>285832.000000</td>\n",
              "      <td>49.000000</td>\n",
              "      <td>1.000000</td>\n",
              "      <td>35.000000</td>\n",
              "      <td>1.000000</td>\n",
              "      <td>39400.000000</td>\n",
              "      <td>152.000000</td>\n",
              "      <td>227.000000</td>\n",
              "      <td>0.000000</td>\n",
              "    </tr>\n",
              "    <tr>\n",
              "      <th>max</th>\n",
              "      <td>381109.000000</td>\n",
              "      <td>85.000000</td>\n",
              "      <td>1.000000</td>\n",
              "      <td>52.000000</td>\n",
              "      <td>1.000000</td>\n",
              "      <td>540165.000000</td>\n",
              "      <td>163.000000</td>\n",
              "      <td>299.000000</td>\n",
              "      <td>1.000000</td>\n",
              "    </tr>\n",
              "  </tbody>\n",
              "</table>\n",
              "</div>\n",
              "      <button class=\"colab-df-convert\" onclick=\"convertToInteractive('df-d3d764ba-02c2-40e8-b2b4-8a56c1925f59')\"\n",
              "              title=\"Convert this dataframe to an interactive table.\"\n",
              "              style=\"display:none;\">\n",
              "        \n",
              "  <svg xmlns=\"http://www.w3.org/2000/svg\" height=\"24px\"viewBox=\"0 0 24 24\"\n",
              "       width=\"24px\">\n",
              "    <path d=\"M0 0h24v24H0V0z\" fill=\"none\"/>\n",
              "    <path d=\"M18.56 5.44l.94 2.06.94-2.06 2.06-.94-2.06-.94-.94-2.06-.94 2.06-2.06.94zm-11 1L8.5 8.5l.94-2.06 2.06-.94-2.06-.94L8.5 2.5l-.94 2.06-2.06.94zm10 10l.94 2.06.94-2.06 2.06-.94-2.06-.94-.94-2.06-.94 2.06-2.06.94z\"/><path d=\"M17.41 7.96l-1.37-1.37c-.4-.4-.92-.59-1.43-.59-.52 0-1.04.2-1.43.59L10.3 9.45l-7.72 7.72c-.78.78-.78 2.05 0 2.83L4 21.41c.39.39.9.59 1.41.59.51 0 1.02-.2 1.41-.59l7.78-7.78 2.81-2.81c.8-.78.8-2.07 0-2.86zM5.41 20L4 18.59l7.72-7.72 1.47 1.35L5.41 20z\"/>\n",
              "  </svg>\n",
              "      </button>\n",
              "      \n",
              "  <style>\n",
              "    .colab-df-container {\n",
              "      display:flex;\n",
              "      flex-wrap:wrap;\n",
              "      gap: 12px;\n",
              "    }\n",
              "\n",
              "    .colab-df-convert {\n",
              "      background-color: #E8F0FE;\n",
              "      border: none;\n",
              "      border-radius: 50%;\n",
              "      cursor: pointer;\n",
              "      display: none;\n",
              "      fill: #1967D2;\n",
              "      height: 32px;\n",
              "      padding: 0 0 0 0;\n",
              "      width: 32px;\n",
              "    }\n",
              "\n",
              "    .colab-df-convert:hover {\n",
              "      background-color: #E2EBFA;\n",
              "      box-shadow: 0px 1px 2px rgba(60, 64, 67, 0.3), 0px 1px 3px 1px rgba(60, 64, 67, 0.15);\n",
              "      fill: #174EA6;\n",
              "    }\n",
              "\n",
              "    [theme=dark] .colab-df-convert {\n",
              "      background-color: #3B4455;\n",
              "      fill: #D2E3FC;\n",
              "    }\n",
              "\n",
              "    [theme=dark] .colab-df-convert:hover {\n",
              "      background-color: #434B5C;\n",
              "      box-shadow: 0px 1px 3px 1px rgba(0, 0, 0, 0.15);\n",
              "      filter: drop-shadow(0px 1px 2px rgba(0, 0, 0, 0.3));\n",
              "      fill: #FFFFFF;\n",
              "    }\n",
              "  </style>\n",
              "\n",
              "      <script>\n",
              "        const buttonEl =\n",
              "          document.querySelector('#df-d3d764ba-02c2-40e8-b2b4-8a56c1925f59 button.colab-df-convert');\n",
              "        buttonEl.style.display =\n",
              "          google.colab.kernel.accessAllowed ? 'block' : 'none';\n",
              "\n",
              "        async function convertToInteractive(key) {\n",
              "          const element = document.querySelector('#df-d3d764ba-02c2-40e8-b2b4-8a56c1925f59');\n",
              "          const dataTable =\n",
              "            await google.colab.kernel.invokeFunction('convertToInteractive',\n",
              "                                                     [key], {});\n",
              "          if (!dataTable) return;\n",
              "\n",
              "          const docLinkHtml = 'Like what you see? Visit the ' +\n",
              "            '<a target=\"_blank\" href=https://colab.research.google.com/notebooks/data_table.ipynb>data table notebook</a>'\n",
              "            + ' to learn more about interactive tables.';\n",
              "          element.innerHTML = '';\n",
              "          dataTable['output_type'] = 'display_data';\n",
              "          await google.colab.output.renderOutput(dataTable, element);\n",
              "          const docLink = document.createElement('div');\n",
              "          docLink.innerHTML = docLinkHtml;\n",
              "          element.appendChild(docLink);\n",
              "        }\n",
              "      </script>\n",
              "    </div>\n",
              "  </div>\n",
              "  "
            ],
            "text/plain": [
              "                  id            Age  Driving_License    Region_Code  \\\n",
              "count  381109.000000  381109.000000    381109.000000  381109.000000   \n",
              "mean   190555.000000      38.822584         0.997869      26.388807   \n",
              "std    110016.836208      15.511611         0.046110      13.229888   \n",
              "min         1.000000      20.000000         0.000000       0.000000   \n",
              "25%     95278.000000      25.000000         1.000000      15.000000   \n",
              "50%    190555.000000      36.000000         1.000000      28.000000   \n",
              "75%    285832.000000      49.000000         1.000000      35.000000   \n",
              "max    381109.000000      85.000000         1.000000      52.000000   \n",
              "\n",
              "       Previously_Insured  Annual_Premium  Policy_Sales_Channel  \\\n",
              "count       381109.000000   381109.000000         381109.000000   \n",
              "mean             0.458210    30564.389581            112.034295   \n",
              "std              0.498251    17213.155057             54.203995   \n",
              "min              0.000000     2630.000000              1.000000   \n",
              "25%              0.000000    24405.000000             29.000000   \n",
              "50%              0.000000    31669.000000            133.000000   \n",
              "75%              1.000000    39400.000000            152.000000   \n",
              "max              1.000000   540165.000000            163.000000   \n",
              "\n",
              "             Vintage       Response  \n",
              "count  381109.000000  381109.000000  \n",
              "mean      154.347397       0.122563  \n",
              "std        83.671304       0.327936  \n",
              "min        10.000000       0.000000  \n",
              "25%        82.000000       0.000000  \n",
              "50%       154.000000       0.000000  \n",
              "75%       227.000000       0.000000  \n",
              "max       299.000000       1.000000  "
            ]
          },
          "execution_count": 146,
          "metadata": {},
          "output_type": "execute_result"
        }
      ],
      "source": [
        "df.describe()"
      ]
    },
    {
      "cell_type": "markdown",
      "metadata": {
        "id": "vR7uLWbV1NA9"
      },
      "source": [
        "**Checking the null values**"
      ]
    },
    {
      "cell_type": "code",
      "execution_count": null,
      "metadata": {
        "colab": {
          "base_uri": "https://localhost:8080/",
          "height": 426
        },
        "id": "nwzPvJK71HIP",
        "outputId": "b40d8d90-86b9-4c82-c3b8-3b24e7e09e40"
      },
      "outputs": [
        {
          "data": {
            "text/html": [
              "\n",
              "  <div id=\"df-60439575-0e89-4637-a084-dd7c55ea1d59\">\n",
              "    <div class=\"colab-df-container\">\n",
              "      <div>\n",
              "<style scoped>\n",
              "    .dataframe tbody tr th:only-of-type {\n",
              "        vertical-align: middle;\n",
              "    }\n",
              "\n",
              "    .dataframe tbody tr th {\n",
              "        vertical-align: top;\n",
              "    }\n",
              "\n",
              "    .dataframe thead th {\n",
              "        text-align: right;\n",
              "    }\n",
              "</style>\n",
              "<table border=\"1\" class=\"dataframe\">\n",
              "  <thead>\n",
              "    <tr style=\"text-align: right;\">\n",
              "      <th></th>\n",
              "      <th>Missing Value</th>\n",
              "    </tr>\n",
              "  </thead>\n",
              "  <tbody>\n",
              "    <tr>\n",
              "      <th>id</th>\n",
              "      <td>0</td>\n",
              "    </tr>\n",
              "    <tr>\n",
              "      <th>Gender</th>\n",
              "      <td>0</td>\n",
              "    </tr>\n",
              "    <tr>\n",
              "      <th>Age</th>\n",
              "      <td>0</td>\n",
              "    </tr>\n",
              "    <tr>\n",
              "      <th>Driving_License</th>\n",
              "      <td>0</td>\n",
              "    </tr>\n",
              "    <tr>\n",
              "      <th>Region_Code</th>\n",
              "      <td>0</td>\n",
              "    </tr>\n",
              "    <tr>\n",
              "      <th>Previously_Insured</th>\n",
              "      <td>0</td>\n",
              "    </tr>\n",
              "    <tr>\n",
              "      <th>Vehicle_Age</th>\n",
              "      <td>0</td>\n",
              "    </tr>\n",
              "    <tr>\n",
              "      <th>Vehicle_Damage</th>\n",
              "      <td>0</td>\n",
              "    </tr>\n",
              "    <tr>\n",
              "      <th>Annual_Premium</th>\n",
              "      <td>0</td>\n",
              "    </tr>\n",
              "    <tr>\n",
              "      <th>Policy_Sales_Channel</th>\n",
              "      <td>0</td>\n",
              "    </tr>\n",
              "    <tr>\n",
              "      <th>Vintage</th>\n",
              "      <td>0</td>\n",
              "    </tr>\n",
              "    <tr>\n",
              "      <th>Response</th>\n",
              "      <td>0</td>\n",
              "    </tr>\n",
              "  </tbody>\n",
              "</table>\n",
              "</div>\n",
              "      <button class=\"colab-df-convert\" onclick=\"convertToInteractive('df-60439575-0e89-4637-a084-dd7c55ea1d59')\"\n",
              "              title=\"Convert this dataframe to an interactive table.\"\n",
              "              style=\"display:none;\">\n",
              "        \n",
              "  <svg xmlns=\"http://www.w3.org/2000/svg\" height=\"24px\"viewBox=\"0 0 24 24\"\n",
              "       width=\"24px\">\n",
              "    <path d=\"M0 0h24v24H0V0z\" fill=\"none\"/>\n",
              "    <path d=\"M18.56 5.44l.94 2.06.94-2.06 2.06-.94-2.06-.94-.94-2.06-.94 2.06-2.06.94zm-11 1L8.5 8.5l.94-2.06 2.06-.94-2.06-.94L8.5 2.5l-.94 2.06-2.06.94zm10 10l.94 2.06.94-2.06 2.06-.94-2.06-.94-.94-2.06-.94 2.06-2.06.94z\"/><path d=\"M17.41 7.96l-1.37-1.37c-.4-.4-.92-.59-1.43-.59-.52 0-1.04.2-1.43.59L10.3 9.45l-7.72 7.72c-.78.78-.78 2.05 0 2.83L4 21.41c.39.39.9.59 1.41.59.51 0 1.02-.2 1.41-.59l7.78-7.78 2.81-2.81c.8-.78.8-2.07 0-2.86zM5.41 20L4 18.59l7.72-7.72 1.47 1.35L5.41 20z\"/>\n",
              "  </svg>\n",
              "      </button>\n",
              "      \n",
              "  <style>\n",
              "    .colab-df-container {\n",
              "      display:flex;\n",
              "      flex-wrap:wrap;\n",
              "      gap: 12px;\n",
              "    }\n",
              "\n",
              "    .colab-df-convert {\n",
              "      background-color: #E8F0FE;\n",
              "      border: none;\n",
              "      border-radius: 50%;\n",
              "      cursor: pointer;\n",
              "      display: none;\n",
              "      fill: #1967D2;\n",
              "      height: 32px;\n",
              "      padding: 0 0 0 0;\n",
              "      width: 32px;\n",
              "    }\n",
              "\n",
              "    .colab-df-convert:hover {\n",
              "      background-color: #E2EBFA;\n",
              "      box-shadow: 0px 1px 2px rgba(60, 64, 67, 0.3), 0px 1px 3px 1px rgba(60, 64, 67, 0.15);\n",
              "      fill: #174EA6;\n",
              "    }\n",
              "\n",
              "    [theme=dark] .colab-df-convert {\n",
              "      background-color: #3B4455;\n",
              "      fill: #D2E3FC;\n",
              "    }\n",
              "\n",
              "    [theme=dark] .colab-df-convert:hover {\n",
              "      background-color: #434B5C;\n",
              "      box-shadow: 0px 1px 3px 1px rgba(0, 0, 0, 0.15);\n",
              "      filter: drop-shadow(0px 1px 2px rgba(0, 0, 0, 0.3));\n",
              "      fill: #FFFFFF;\n",
              "    }\n",
              "  </style>\n",
              "\n",
              "      <script>\n",
              "        const buttonEl =\n",
              "          document.querySelector('#df-60439575-0e89-4637-a084-dd7c55ea1d59 button.colab-df-convert');\n",
              "        buttonEl.style.display =\n",
              "          google.colab.kernel.accessAllowed ? 'block' : 'none';\n",
              "\n",
              "        async function convertToInteractive(key) {\n",
              "          const element = document.querySelector('#df-60439575-0e89-4637-a084-dd7c55ea1d59');\n",
              "          const dataTable =\n",
              "            await google.colab.kernel.invokeFunction('convertToInteractive',\n",
              "                                                     [key], {});\n",
              "          if (!dataTable) return;\n",
              "\n",
              "          const docLinkHtml = 'Like what you see? Visit the ' +\n",
              "            '<a target=\"_blank\" href=https://colab.research.google.com/notebooks/data_table.ipynb>data table notebook</a>'\n",
              "            + ' to learn more about interactive tables.';\n",
              "          element.innerHTML = '';\n",
              "          dataTable['output_type'] = 'display_data';\n",
              "          await google.colab.output.renderOutput(dataTable, element);\n",
              "          const docLink = document.createElement('div');\n",
              "          docLink.innerHTML = docLinkHtml;\n",
              "          element.appendChild(docLink);\n",
              "        }\n",
              "      </script>\n",
              "    </div>\n",
              "  </div>\n",
              "  "
            ],
            "text/plain": [
              "                      Missing Value \n",
              "id                                 0\n",
              "Gender                             0\n",
              "Age                                0\n",
              "Driving_License                    0\n",
              "Region_Code                        0\n",
              "Previously_Insured                 0\n",
              "Vehicle_Age                        0\n",
              "Vehicle_Damage                     0\n",
              "Annual_Premium                     0\n",
              "Policy_Sales_Channel               0\n",
              "Vintage                            0\n",
              "Response                           0"
            ]
          },
          "execution_count": 239,
          "metadata": {},
          "output_type": "execute_result"
        }
      ],
      "source": [
        "# Checking for NUll Values\n",
        "df.isna().sum().to_frame().rename(columns={0:'Missing Value '})"
      ]
    },
    {
      "cell_type": "markdown",
      "metadata": {
        "id": "C8B8eTle1Y6a"
      },
      "source": [
        "# No null values found in this dataset."
      ]
    },
    {
      "cell_type": "markdown",
      "metadata": {
        "id": "jqcD4xJS1smP"
      },
      "source": [
        "###Checking Duplicates in the dataset"
      ]
    },
    {
      "cell_type": "code",
      "execution_count": null,
      "metadata": {
        "colab": {
          "base_uri": "https://localhost:8080/"
        },
        "id": "POpVa88K1sG5",
        "outputId": "196b2ff8-d15f-421e-ae86-c12788c9ba37"
      },
      "outputs": [
        {
          "data": {
            "text/plain": [
              "0"
            ]
          },
          "execution_count": 241,
          "metadata": {},
          "output_type": "execute_result"
        }
      ],
      "source": [
        "#Finding Duplicate values\n",
        "len(df[df.duplicated()])"
      ]
    },
    {
      "cell_type": "markdown",
      "metadata": {
        "id": "BUEulShb14Ke"
      },
      "source": [
        "No Duplicate Values found"
      ]
    },
    {
      "cell_type": "markdown",
      "metadata": {
        "id": "n4oZJkJ3Xr6A"
      },
      "source": [
        "#**Visualization**"
      ]
    },
    {
      "cell_type": "markdown",
      "metadata": {
        "id": "M8kCQAtWawSJ"
      },
      "source": [
        "**Target Variable**"
      ]
    },
    {
      "cell_type": "code",
      "execution_count": null,
      "metadata": {
        "colab": {
          "base_uri": "https://localhost:8080/",
          "height": 360
        },
        "id": "dJxxjJXHXz-c",
        "outputId": "369334ad-9332-477e-fcb6-5482723f311b"
      },
      "outputs": [
        {
          "name": "stderr",
          "output_type": "stream",
          "text": [
            "/usr/local/lib/python3.7/dist-packages/seaborn/_decorators.py:43: FutureWarning: Pass the following variable as a keyword arg: x. From version 0.12, the only valid positional argument will be `data`, and passing other arguments without an explicit keyword will result in an error or misinterpretation.\n",
            "  FutureWarning\n"
          ]
        },
        {
          "data": {
            "text/plain": [
              "<matplotlib.axes._subplots.AxesSubplot at 0x7f4600ac3150>"
            ]
          },
          "execution_count": 147,
          "metadata": {},
          "output_type": "execute_result"
        },
        {
          "data": {
            "image/png": "[encoded data removed]",
            "text/plain": [
              "<Figure size 432x288 with 1 Axes>"
            ]
          },
          "metadata": {},
          "output_type": "display_data"
        }
      ],
      "source": [
        "sns.set_theme(style=\"darkgrid\")\n",
        "sns.countplot(df['Response'], data=df)"
      ]
    },
    {
      "cell_type": "markdown",
      "metadata": {
        "id": "EKwR9lzBahaj"
      },
      "source": [
        "\n",
        "\n",
        "*   The data is highly imbalanced.\n",
        "\n",
        "\n"
      ]
    },
    {
      "cell_type": "markdown",
      "metadata": {
        "id": "8sIX6X7IM8oG"
      },
      "source": [
        "**Univariate and Bivariate Analysis**"
      ]
    },
    {
      "cell_type": "markdown",
      "metadata": {
        "id": "r4o5u_33NFqc"
      },
      "source": [
        "Let us go through variables and analyse them."
      ]
    },
    {
      "cell_type": "markdown",
      "metadata": {
        "id": "ur2F4DZRbuHa"
      },
      "source": [
        "**Gender**"
      ]
    },
    {
      "cell_type": "code",
      "execution_count": null,
      "metadata": {
        "colab": {
          "base_uri": "https://localhost:8080/"
        },
        "id": "TBERfo__NTvO",
        "outputId": "aaf3ceb7-efdb-4970-a7dd-fb65b5849b21"
      },
      "outputs": [
        {
          "data": {
            "text/plain": [
              "Male      54.07613\n",
              "Female    45.92387\n",
              "Name: Gender, dtype: float64"
            ]
          },
          "execution_count": 148,
          "metadata": {},
          "output_type": "execute_result"
        }
      ],
      "source": [
        "# Percentage For Response Column\n",
        "(df['Gender'].value_counts() / df['Gender'].count()) * 100"
      ]
    },
    {
      "cell_type": "code",
      "execution_count": null,
      "metadata": {
        "colab": {
          "base_uri": "https://localhost:8080/",
          "height": 357
        },
        "id": "N7t8v4k8acRs",
        "outputId": "6b4df031-3220-4b03-fa0a-f770d714eab1"
      },
      "outputs": [
        {
          "name": "stderr",
          "output_type": "stream",
          "text": [
            "/usr/local/lib/python3.7/dist-packages/seaborn/_decorators.py:43: FutureWarning: Pass the following variable as a keyword arg: x. From version 0.12, the only valid positional argument will be `data`, and passing other arguments without an explicit keyword will result in an error or misinterpretation.\n",
            "  FutureWarning\n"
          ]
        },
        {
          "data": {
            "text/plain": [
              "<matplotlib.axes._subplots.AxesSubplot at 0x7f4600a1d290>"
            ]
          },
          "execution_count": 149,
          "metadata": {},
          "output_type": "execute_result"
        },
        {
          "data": {
            "image/png": "[encoded data removed]",
            "text/plain": [
              "<Figure size 432x288 with 1 Axes>"
            ]
          },
          "metadata": {},
          "output_type": "display_data"
        }
      ],
      "source": [
        "sns.set_theme(style=\"darkgrid\")\n",
        "sns.countplot(df['Gender'], data=df)"
      ]
    },
    {
      "cell_type": "markdown",
      "metadata": {
        "id": "PwcqPqq2NkP9"
      },
      "source": [
        "we see that Males are more interested in buying a insurance rather than females."
      ]
    },
    {
      "cell_type": "code",
      "execution_count": null,
      "metadata": {
        "colab": {
          "base_uri": "https://localhost:8080/",
          "height": 411
        },
        "id": "UzuTZPYCsTqM",
        "outputId": "a161e822-73f8-4477-9dc4-4ed50ea49a71"
      },
      "outputs": [
        {
          "name": "stderr",
          "output_type": "stream",
          "text": [
            "/usr/local/lib/python3.7/dist-packages/seaborn/_decorators.py:43: FutureWarning: Pass the following variable as a keyword arg: x. From version 0.12, the only valid positional argument will be `data`, and passing other arguments without an explicit keyword will result in an error or misinterpretation.\n",
            "  FutureWarning\n"
          ]
        },
        {
          "data": {
            "text/plain": [
              "<matplotlib.axes._subplots.AxesSubplot at 0x7f46009f69d0>"
            ]
          },
          "execution_count": 150,
          "metadata": {},
          "output_type": "execute_result"
        },
        {
          "data": {
            "image/png": "[encoded data removed]",
            "text/plain": [
              "<Figure size 720x360 with 1 Axes>"
            ]
          },
          "metadata": {},
          "output_type": "display_data"
        }
      ],
      "source": [
        "#Gender vs response\n",
        "plt.figure(figsize=(10,5))\n",
        "sns.countplot(df['Gender'],hue=df['Response'],data=df)"
      ]
    },
    {
      "cell_type": "markdown",
      "metadata": {
        "id": "Zhs2pXBLtQKx"
      },
      "source": [
        "\n",
        "\n",
        "*   The gender variable in the dataset is almost equally distributed.\n",
        "\n",
        "*   Male category is slightly greater than that of female and chances of   buying  the insurance is also little high.\n",
        " \n",
        "\n",
        "\n",
        "\n",
        "\n",
        "\n",
        "\n"
      ]
    },
    {
      "cell_type": "markdown",
      "metadata": {
        "id": "u8NPOJoKN1dF"
      },
      "source": [
        "**Age**"
      ]
    },
    {
      "cell_type": "code",
      "execution_count": null,
      "metadata": {
        "colab": {
          "base_uri": "https://localhost:8080/",
          "height": 683
        },
        "id": "3lWioGvy-WAr",
        "outputId": "1a3c16a6-2384-43d6-fe36-b7da2b3c4f7e"
      },
      "outputs": [
        {
          "name": "stderr",
          "output_type": "stream",
          "text": [
            "/usr/local/lib/python3.7/dist-packages/seaborn/_decorators.py:43: FutureWarning: Pass the following variable as a keyword arg: x. From version 0.12, the only valid positional argument will be `data`, and passing other arguments without an explicit keyword will result in an error or misinterpretation.\n",
            "  FutureWarning\n"
          ]
        },
        {
          "data": {
            "text/plain": [
              "<matplotlib.axes._subplots.AxesSubplot at 0x7f46009594d0>"
            ]
          },
          "execution_count": 151,
          "metadata": {},
          "output_type": "execute_result"
        },
        {
          "data": {
            "image/png": "[encoded data removed]",
            "text/plain": [
              "<Figure size 1440x720 with 1 Axes>"
            ]
          },
          "metadata": {},
          "output_type": "display_data"
        }
      ],
      "source": [
        "#age vs response\n",
        "plt.figure(figsize=(20,10))\n",
        "sns.countplot(df[\"Age\"],hue=df[\"Response\"],data=df)"
      ]
    },
    {
      "cell_type": "markdown",
      "metadata": {
        "id": "QUUWBimkOYU7"
      },
      "source": [
        "**Vehicle Age**"
      ]
    },
    {
      "cell_type": "code",
      "execution_count": null,
      "metadata": {
        "colab": {
          "base_uri": "https://localhost:8080/"
        },
        "id": "nZrlTWFROuQ7",
        "outputId": "f272485c-3d69-4797-ba80-3e65194fd27c"
      },
      "outputs": [
        {
          "data": {
            "text/plain": [
              "1-2 Year     200316\n",
              "< 1 Year     164786\n",
              "> 2 Years     16007\n",
              "Name: Vehicle_Age, dtype: int64"
            ]
          },
          "execution_count": 152,
          "metadata": {},
          "output_type": "execute_result"
        }
      ],
      "source": [
        "df[\"Vehicle_Age\"].value_counts()"
      ]
    },
    {
      "cell_type": "code",
      "execution_count": null,
      "metadata": {
        "colab": {
          "base_uri": "https://localhost:8080/",
          "height": 411
        },
        "id": "7D07Woe_uh0Y",
        "outputId": "b5323cc2-1ece-43be-a4c0-147d65201095"
      },
      "outputs": [
        {
          "name": "stderr",
          "output_type": "stream",
          "text": [
            "/usr/local/lib/python3.7/dist-packages/seaborn/_decorators.py:43: FutureWarning: Pass the following variable as a keyword arg: x. From version 0.12, the only valid positional argument will be `data`, and passing other arguments without an explicit keyword will result in an error or misinterpretation.\n",
            "  FutureWarning\n"
          ]
        },
        {
          "data": {
            "text/plain": [
              "<matplotlib.axes._subplots.AxesSubplot at 0x7f4600c46190>"
            ]
          },
          "execution_count": 153,
          "metadata": {},
          "output_type": "execute_result"
        },
        {
          "data": {
            "image/png": "[encoded data removed]",
            "text/plain": [
              "<Figure size 720x360 with 1 Axes>"
            ]
          },
          "metadata": {},
          "output_type": "display_data"
        }
      ],
      "source": [
        "plt.figure(figsize=(10,5))\n",
        "sns.countplot(df['Vehicle_Age'],hue=df['Response'],data=df)"
      ]
    },
    {
      "cell_type": "markdown",
      "metadata": {
        "id": "_uILNcBH7SQ4"
      },
      "source": [
        "\n",
        "*  95 % of health insurance customers have vehichle that's less than 2 years of age \n",
        "\n",
        "*   Customers with vechicle age 1-2 years are more likely to interested as compared to the other two\n",
        "\n",
        "*   Customers with Vehicle_Age >2 years have very less chance of buying Insurance"
      ]
    },
    {
      "cell_type": "markdown",
      "metadata": {
        "id": "t7IO-HBAPASa"
      },
      "source": [
        "**Vehicle Damage**"
      ]
    },
    {
      "cell_type": "code",
      "execution_count": null,
      "metadata": {
        "colab": {
          "base_uri": "https://localhost:8080/"
        },
        "id": "8OdLquSsPLcB",
        "outputId": "69cb6cf0-5c5c-43af-82cc-3c366b4765e9"
      },
      "outputs": [
        {
          "data": {
            "text/plain": [
              "Yes    192413\n",
              "No     188696\n",
              "Name: Vehicle_Damage, dtype: int64"
            ]
          },
          "execution_count": 154,
          "metadata": {},
          "output_type": "execute_result"
        }
      ],
      "source": [
        "df['Vehicle_Damage'].value_counts()"
      ]
    },
    {
      "cell_type": "code",
      "execution_count": null,
      "metadata": {
        "colab": {
          "base_uri": "https://localhost:8080/"
        },
        "id": "gXFJYKPwPPTp",
        "outputId": "63fec0bf-5c4d-4abb-ae77-5f1c55c41855"
      },
      "outputs": [
        {
          "data": {
            "text/plain": [
              "Yes    50.487656\n",
              "No     49.512344\n",
              "Name: Vehicle_Damage, dtype: float64"
            ]
          },
          "execution_count": 155,
          "metadata": {},
          "output_type": "execute_result"
        }
      ],
      "source": [
        "# Percentage For Vechile Damage\n",
        "(df['Vehicle_Damage'].value_counts() / df['Vehicle_Damage'].count()) * 100"
      ]
    },
    {
      "cell_type": "code",
      "execution_count": null,
      "metadata": {
        "colab": {
          "base_uri": "https://localhost:8080/",
          "height": 427
        },
        "id": "vD9MwQp08adJ",
        "outputId": "f4fb6f2d-7db0-48cc-ccf9-ea3529e06702"
      },
      "outputs": [
        {
          "name": "stderr",
          "output_type": "stream",
          "text": [
            "/usr/local/lib/python3.7/dist-packages/seaborn/_decorators.py:43: FutureWarning: Pass the following variable as a keyword arg: x. From version 0.12, the only valid positional argument will be `data`, and passing other arguments without an explicit keyword will result in an error or misinterpretation.\n",
            "  FutureWarning\n"
          ]
        },
        {
          "data": {
            "text/plain": [
              "Text(0.5, 1.0, 'Vechile Damage(Yes/No)')"
            ]
          },
          "execution_count": 156,
          "metadata": {},
          "output_type": "execute_result"
        },
        {
          "data": {
            "image/png": "[encoded data removed]",
            "text/plain": [
              "<Figure size 720x360 with 1 Axes>"
            ]
          },
          "metadata": {},
          "output_type": "display_data"
        }
      ],
      "source": [
        "plt.figure(figsize = (10 ,5))\n",
        "sns.countplot(df['Vehicle_Damage'], palette = 'pastel')\n",
        "plt.title('Vechile Damage(Yes/No)')\n"
      ]
    },
    {
      "cell_type": "markdown",
      "metadata": {
        "id": "drWOfkwGxz4s"
      },
      "source": [
        "\n",
        "\n",
        "\n",
        "\n",
        "*   half of the health insurance customer have had their vehicle damaged and half have not.\n",
        "\n",
        "\n",
        "\n"
      ]
    },
    {
      "cell_type": "markdown",
      "metadata": {
        "id": "-vTlvdnJQyP2"
      },
      "source": [
        "**Driving License**"
      ]
    },
    {
      "cell_type": "code",
      "execution_count": null,
      "metadata": {
        "colab": {
          "base_uri": "https://localhost:8080/",
          "height": 361
        },
        "id": "rh223W89vtRc",
        "outputId": "a1777a0b-e2b8-4dc3-8650-4588fc688799"
      },
      "outputs": [
        {
          "name": "stderr",
          "output_type": "stream",
          "text": [
            "/usr/local/lib/python3.7/dist-packages/seaborn/_decorators.py:43: FutureWarning: Pass the following variable as a keyword arg: x. From version 0.12, the only valid positional argument will be `data`, and passing other arguments without an explicit keyword will result in an error or misinterpretation.\n",
            "  FutureWarning\n"
          ]
        },
        {
          "data": {
            "text/plain": [
              "<matplotlib.axes._subplots.AxesSubplot at 0x7f4600d8b150>"
            ]
          },
          "execution_count": 157,
          "metadata": {},
          "output_type": "execute_result"
        },
        {
          "data": {
            "image/png": "[encoded data removed]",
            "text/plain": [
              "<Figure size 432x288 with 1 Axes>"
            ]
          },
          "metadata": {},
          "output_type": "display_data"
        }
      ],
      "source": [
        "#Driving license vs Response\n",
        "sns.countplot(df['Driving_License'],hue=df['Response'])"
      ]
    },
    {
      "cell_type": "markdown",
      "metadata": {
        "id": "bZt5PYOEwIng"
      },
      "source": [
        "\n",
        "\n",
        "*   Customers who are interested in Vehicle Insurance almost all have driving license.\n",
        "\n"
      ]
    },
    {
      "cell_type": "markdown",
      "metadata": {
        "id": "SR9c5GrB0bmF"
      },
      "source": [
        "**Previously insured**"
      ]
    },
    {
      "cell_type": "code",
      "execution_count": null,
      "metadata": {
        "colab": {
          "base_uri": "https://localhost:8080/",
          "height": 677
        },
        "id": "2fALrb8a0f8b",
        "outputId": "0626e4ff-c2e2-4eea-e59c-d26c3aff0b9f"
      },
      "outputs": [
        {
          "name": "stderr",
          "output_type": "stream",
          "text": [
            "/usr/local/lib/python3.7/dist-packages/seaborn/_decorators.py:43: FutureWarning: Pass the following variable as a keyword arg: x. From version 0.12, the only valid positional argument will be `data`, and passing other arguments without an explicit keyword will result in an error or misinterpretation.\n",
            "  FutureWarning\n"
          ]
        },
        {
          "data": {
            "text/plain": [
              "<matplotlib.axes._subplots.AxesSubplot at 0x7f45f556a4d0>"
            ]
          },
          "execution_count": 317,
          "metadata": {},
          "output_type": "execute_result"
        },
        {
          "data": {
            "image/png": "[encoded data removed]",
            "text/plain": [
              "<Figure size 432x288 with 1 Axes>"
            ]
          },
          "metadata": {},
          "output_type": "display_data"
        },
        {
          "name": "stderr",
          "output_type": "stream",
          "text": [
            "/usr/local/lib/python3.7/dist-packages/seaborn/_decorators.py:43: FutureWarning: Pass the following variable as a keyword arg: x. From version 0.12, the only valid positional argument will be `data`, and passing other arguments without an explicit keyword will result in an error or misinterpretation.\n",
            "  FutureWarning\n"
          ]
        },
        {
          "data": {
            "text/plain": [
              "<matplotlib.axes._subplots.AxesSubplot at 0x7f45f558c410>"
            ]
          },
          "execution_count": 318,
          "metadata": {},
          "output_type": "execute_result"
        },
        {
          "data": {
            "image/png": "[encoded data removed]",
            "text/plain": [
              "<Figure size 432x288 with 1 Axes>"
            ]
          },
          "metadata": {},
          "output_type": "display_data"
        }
      ],
      "source": [
        "sns.countplot(df['Previously_Insured'],hue=df['Response']) "
      ]
    },
    {
      "cell_type": "markdown",
      "metadata": {
        "id": "i2D5YVpGRbQm"
      },
      "source": [
        "**Response**"
      ]
    },
    {
      "cell_type": "code",
      "execution_count": null,
      "metadata": {
        "colab": {
          "base_uri": "https://localhost:8080/"
        },
        "id": "K9kTZL8TRgHl",
        "outputId": "ff133a48-0dba-40b2-d535-59ff7b1551ab"
      },
      "outputs": [
        {
          "data": {
            "text/plain": [
              "0    334399\n",
              "1     46710\n",
              "Name: Response, dtype: int64"
            ]
          },
          "execution_count": 158,
          "metadata": {},
          "output_type": "execute_result"
        }
      ],
      "source": [
        "df ['Response'].value_counts()"
      ]
    },
    {
      "cell_type": "code",
      "execution_count": null,
      "metadata": {
        "colab": {
          "base_uri": "https://localhost:8080/"
        },
        "id": "rqvySJhQUaM9",
        "outputId": "249a72e9-c533-4f61-979e-3b0ca427ddb9"
      },
      "outputs": [
        {
          "data": {
            "text/plain": [
              "0    87.743664\n",
              "1    12.256336\n",
              "Name: Response, dtype: float64"
            ]
          },
          "execution_count": 159,
          "metadata": {},
          "output_type": "execute_result"
        }
      ],
      "source": [
        "# Percentage For Response Column\n",
        "(df['Response'].value_counts() / df['Response'].count()) * 100"
      ]
    },
    {
      "cell_type": "code",
      "execution_count": null,
      "metadata": {
        "colab": {
          "base_uri": "https://localhost:8080/",
          "height": 356
        },
        "id": "v9pU4xc-UrvG",
        "outputId": "b9a4b13b-d541-49cb-b77b-12706a6e4100"
      },
      "outputs": [
        {
          "name": "stderr",
          "output_type": "stream",
          "text": [
            "/usr/local/lib/python3.7/dist-packages/seaborn/_decorators.py:43: FutureWarning: Pass the following variable as a keyword arg: x. From version 0.12, the only valid positional argument will be `data`, and passing other arguments without an explicit keyword will result in an error or misinterpretation.\n",
            "  FutureWarning\n"
          ]
        },
        {
          "data": {
            "image/png": "[encoded data removed]",
            "text/plain": [
              "<Figure size 576x288 with 1 Axes>"
            ]
          },
          "metadata": {},
          "output_type": "display_data"
        }
      ],
      "source": [
        "# Ploting count plot for Vechile Age column\n",
        "\n",
        "plt.figure(figsize = (8, 4))\n",
        "\n",
        "sns.countplot(df['Response'])\n",
        "\n",
        "plt.title('Responses')\n",
        "\n",
        "plt.xlabel('Count for each Response(Yes - 1/No - 0)')\n",
        "plt.ylabel('Frequency')\n",
        "\n",
        "plt.show()"
      ]
    },
    {
      "cell_type": "code",
      "execution_count": null,
      "metadata": {
        "colab": {
          "base_uri": "https://localhost:8080/",
          "height": 382
        },
        "id": "kaC_PfSFU35z",
        "outputId": "5530bf84-9dff-41f5-8dab-7633eb3b7640"
      },
      "outputs": [
        {
          "data": {
            "image/png": "[encoded data removed]",
            "text/plain": [
              "<Figure size 432x576 with 1 Axes>"
            ]
          },
          "metadata": {},
          "output_type": "display_data"
        }
      ],
      "source": [
        "#Calculating percentage of interested and not interested people for insurance\n",
        "\n",
        "interested = abs(len(df[df['Response'] == 1])/len(df)*100)\n",
        "\n",
        "not_interested = abs(len(df[df['Response'] == 0])/len(df)*100)\n",
        "\n",
        "total_prcentage = [interested, not_interested]\n",
        "\n",
        "# Creating a pie chart\n",
        "plt.figure(figsize = (6,8))\n",
        "\n",
        "plt.pie(total_prcentage, labels = ['Interested People','Not Interested People'], autopct = '%.1f%%')\n",
        "\n",
        "plt.title('Positive and negative samples (Percentages)')\n",
        "\n",
        "plt.show()"
      ]
    },
    {
      "cell_type": "markdown",
      "metadata": {
        "id": "EwQm-q1tV0LQ"
      },
      "source": [
        "* Only 12% are interested in purchasing vehicle insurance.\n",
        "* This is also showing the data imbalance as our response as yes is very less i.e 12% which will lead our model to a biased model.\n",
        "* We will use Resampling technique to over come this data imbalance.\n",
        "\n",
        "\n",
        "\n"
      ]
    },
    {
      "cell_type": "markdown",
      "metadata": {
        "id": "DOElUZ0r8lLg"
      },
      "source": [
        "**Checking for outliers in numerical columns**"
      ]
    },
    {
      "cell_type": "code",
      "execution_count": null,
      "metadata": {
        "colab": {
          "base_uri": "https://localhost:8080/",
          "height": 711
        },
        "id": "KSPaz94Z8ZC5",
        "outputId": "09e49ee3-d590-4a27-caee-b6c792f7c0e8"
      },
      "outputs": [
        {
          "name": "stderr",
          "output_type": "stream",
          "text": [
            "/usr/local/lib/python3.7/dist-packages/seaborn/_decorators.py:43: FutureWarning: Pass the following variable as a keyword arg: x. From version 0.12, the only valid positional argument will be `data`, and passing other arguments without an explicit keyword will result in an error or misinterpretation.\n",
            "  FutureWarning\n"
          ]
        },
        {
          "data": {
            "image/png": "[encoded data removed]",
            "text/plain": [
              "<Figure size 360x360 with 1 Axes>"
            ]
          },
          "metadata": {},
          "output_type": "display_data"
        },
        {
          "name": "stderr",
          "output_type": "stream",
          "text": [
            "/usr/local/lib/python3.7/dist-packages/seaborn/_decorators.py:43: FutureWarning: Pass the following variable as a keyword arg: x. From version 0.12, the only valid positional argument will be `data`, and passing other arguments without an explicit keyword will result in an error or misinterpretation.\n",
            "  FutureWarning\n"
          ]
        },
        {
          "data": {
            "image/png": "[encoded data removed]",
            "text/plain": [
              "<Figure size 360x360 with 1 Axes>"
            ]
          },
          "metadata": {},
          "output_type": "display_data"
        },
        {
          "name": "stderr",
          "output_type": "stream",
          "text": [
            "/usr/local/lib/python3.7/dist-packages/seaborn/_decorators.py:43: FutureWarning: Pass the following variable as a keyword arg: x. From version 0.12, the only valid positional argument will be `data`, and passing other arguments without an explicit keyword will result in an error or misinterpretation.\n",
            "  FutureWarning\n"
          ]
        },
        {
          "data": {
            "image/png": "[encoded data removed]",
            "text/plain": [
              "<Figure size 360x360 with 1 Axes>"
            ]
          },
          "metadata": {},
          "output_type": "display_data"
        }
      ],
      "source": [
        "# Plotting boxplots for checking outliers\n",
        "plt.figure(figsize=(5,5))\n",
        "plt.subplot(2,1,2)\n",
        "sns.boxplot(df['Age'])\n",
        "plt.title(\"Age\")\n",
        "plt.show()\n",
        "\n",
        "plt.figure(figsize=(5,5))\n",
        "plt.subplot(2,1,2)\n",
        "sns.boxplot(df['Annual_Premium'])\n",
        "plt.title(\"Annual premium\")\n",
        "plt.show()\n",
        "\n",
        "plt.figure(figsize=(5,5))\n",
        "plt.subplot(2,1,2)\n",
        "sns.boxplot(df['Vintage'])\n",
        "plt.title(\"Vintage\")\n",
        "plt.show()"
      ]
    },
    {
      "cell_type": "markdown",
      "metadata": {
        "id": "tFdynIZW-Ket"
      },
      "source": [
        "**Annual premium has outliers because the premium amount depends on various factors. New and expensive cars generally have high amounts.**"
      ]
    },
    {
      "cell_type": "markdown",
      "metadata": {
        "id": "zhsnis0DRIOI"
      },
      "source": [
        "**Annual Premium**"
      ]
    },
    {
      "cell_type": "code",
      "execution_count": null,
      "metadata": {
        "colab": {
          "base_uri": "https://localhost:8080/",
          "height": 334
        },
        "id": "6AeDMI25-a-0",
        "outputId": "7b5f1254-660a-4db0-d514-419e1e0fc408"
      },
      "outputs": [
        {
          "name": "stderr",
          "output_type": "stream",
          "text": [
            "/usr/local/lib/python3.7/dist-packages/seaborn/distributions.py:2619: FutureWarning: `distplot` is a deprecated function and will be removed in a future version. Please adapt your code to use either `displot` (a figure-level function with similar flexibility) or `histplot` (an axes-level function for histograms).\n",
            "  warnings.warn(msg, FutureWarning)\n"
          ]
        },
        {
          "data": {
            "image/png": "[encoded data removed]",
            "text/plain": [
              "<Figure size 432x288 with 1 Axes>"
            ]
          },
          "metadata": {},
          "output_type": "display_data"
        }
      ],
      "source": [
        "#plotting distribution for annual premium\n",
        "sns.distplot(x=df['Annual_Premium']);"
      ]
    },
    {
      "cell_type": "markdown",
      "metadata": {
        "id": "Esvz9uoE-xqa"
      },
      "source": [
        "* Right Skewed distribution.\n",
        "* We can apply log transformation to see better."
      ]
    },
    {
      "cell_type": "code",
      "execution_count": null,
      "metadata": {
        "colab": {
          "base_uri": "https://localhost:8080/",
          "height": 323
        },
        "id": "mcTV8XpH_c_O",
        "outputId": "e4de90e8-f793-4c84-cef6-75c55852011c"
      },
      "outputs": [
        {
          "name": "stderr",
          "output_type": "stream",
          "text": [
            "/usr/local/lib/python3.7/dist-packages/seaborn/distributions.py:2619: FutureWarning: `distplot` is a deprecated function and will be removed in a future version. Please adapt your code to use either `displot` (a figure-level function with similar flexibility) or `histplot` (an axes-level function for histograms).\n",
            "  warnings.warn(msg, FutureWarning)\n"
          ]
        },
        {
          "data": {
            "image/png": "[encoded data removed]",
            "text/plain": [
              "<Figure size 432x288 with 1 Axes>"
            ]
          },
          "metadata": {},
          "output_type": "display_data"
        }
      ],
      "source": [
        "# After applying log transformation\n",
        "sns.distplot(x=np.log10(df['Annual_Premium']));"
      ]
    },
    {
      "cell_type": "markdown",
      "metadata": {
        "id": "5IT1V2r5_jnw"
      },
      "source": [
        "**The distribution looks better now.**"
      ]
    },
    {
      "cell_type": "markdown",
      "metadata": {
        "id": "6MrqPK3pRVXY"
      },
      "source": [
        "**Heatmap**"
      ]
    },
    {
      "cell_type": "code",
      "execution_count": null,
      "metadata": {
        "colab": {
          "base_uri": "https://localhost:8080/",
          "height": 465
        },
        "id": "Q2iVZxAW0ecX",
        "outputId": "3f7107fc-bff7-4d5b-f954-9fc3d921d65d"
      },
      "outputs": [
        {
          "data": {
            "text/plain": [
              "Text(0.5, 1.05, 'Correlation of Features')"
            ]
          },
          "execution_count": 165,
          "metadata": {},
          "output_type": "execute_result"
        },
        {
          "data": {
            "image/png": "[encoded data removed]",
            "text/plain": [
              "<Figure size 720x360 with 2 Axes>"
            ]
          },
          "metadata": {},
          "output_type": "display_data"
        }
      ],
      "source": [
        "#correlation\n",
        "corr = df.corr()\n",
        "\n",
        "f, ax = plt.subplots(figsize=(10,5))\n",
        "\n",
        "sns.heatmap(corr, ax=ax, annot=True,linewidths=3,cmap='YlGn')\n",
        "\n",
        "plt.title(\"Correlation of Features\", y=1.05, size=15)"
      ]
    },
    {
      "cell_type": "markdown",
      "metadata": {
        "id": "XS0Uvn3y1TwQ"
      },
      "source": [
        "Target variable is not much affected by 'id' and 'Vintage variable'. We can drop least correlated variable."
      ]
    },
    {
      "cell_type": "markdown",
      "metadata": {
        "id": "_fSJhokva6UK"
      },
      "source": [
        "# **Feature Engineering**"
      ]
    },
    {
      "cell_type": "code",
      "execution_count": null,
      "metadata": {
        "colab": {
          "base_uri": "https://localhost:8080/"
        },
        "id": "bPoCZQO_8YbL",
        "outputId": "cdfb140b-2510-4eb3-a5d5-8a8592c30daa"
      },
      "outputs": [
        {
          "output_type": "stream",
          "name": "stderr",
          "text": [
            "/usr/local/lib/python3.7/dist-packages/sklearn/preprocessing/_label.py:115: DataConversionWarning: A column-vector y was passed when a 1d array was expected. Please change the shape of y to (n_samples, ), for example using ravel().\n",
            "  y = column_or_1d(y, warn=True)\n"
          ]
        }
      ],
      "source": [
        "from sklearn import preprocessing\n",
        "from sklearn.preprocessing import LabelEncoder\n",
        "from sklearn.preprocessing import OneHotEncoder\n",
        "\n",
        "#initialize\n",
        "le = LabelEncoder()\n",
        "ohe = OneHotEncoder()\n",
        "\n",
        "#mapping\n",
        "df[\"Vehicle_Age\"]=df[\"Vehicle_Age\"].map({\"> 2 Years\":2,\"1-2 Year\":1,\"< 1 Year\":0})\n",
        "\n",
        "\n",
        "#categorical to numerical\n",
        "df['Gender'] = ohe.fit_transform(df[[\"Gender\"]]).toarray()\n",
        "df['Vehicle_Age'] = le.fit_transform(df[['Vehicle_Age']])\n",
        "df['Vehicle_Damage'] = le.fit_transform(df[['Vehicle_Damage']])\n"
      ]
    },
    {
      "cell_type": "code",
      "execution_count": null,
      "metadata": {
        "colab": {
          "base_uri": "https://localhost:8080/",
          "height": 363
        },
        "id": "wj39AS_nzZbs",
        "outputId": "374dcbb7-7fd2-4405-d030-fb07bb8dacff"
      },
      "outputs": [
        {
          "output_type": "execute_result",
          "data": {
            "text/plain": [
              "   id  Gender  Age  Driving_License  Region_Code  Previously_Insured  \\\n",
              "0   1     0.0   44                1         28.0                   0   \n",
              "1   2     0.0   76                1          3.0                   0   \n",
              "2   3     0.0   47                1         28.0                   0   \n",
              "3   4     0.0   21                1         11.0                   1   \n",
              "4   5     1.0   29                1         41.0                   1   \n",
              "5   6     1.0   24                1         33.0                   0   \n",
              "6   7     0.0   23                1         11.0                   0   \n",
              "7   8     1.0   56                1         28.0                   0   \n",
              "8   9     1.0   24                1          3.0                   1   \n",
              "9  10     1.0   32                1          6.0                   1   \n",
              "\n",
              "   Vehicle_Age  Vehicle_Damage  Annual_Premium  Policy_Sales_Channel  Vintage  \\\n",
              "0            2               1         40454.0                  26.0      217   \n",
              "1            1               0         33536.0                  26.0      183   \n",
              "2            2               1         38294.0                  26.0       27   \n",
              "3            0               0         28619.0                 152.0      203   \n",
              "4            0               0         27496.0                 152.0       39   \n",
              "5            0               1          2630.0                 160.0      176   \n",
              "6            0               1         23367.0                 152.0      249   \n",
              "7            1               1         32031.0                  26.0       72   \n",
              "8            0               0         27619.0                 152.0       28   \n",
              "9            0               0         28771.0                 152.0       80   \n",
              "\n",
              "   Response  \n",
              "0         1  \n",
              "1         0  \n",
              "2         1  \n",
              "3         0  \n",
              "4         0  \n",
              "5         0  \n",
              "6         0  \n",
              "7         1  \n",
              "8         0  \n",
              "9         0  "
            ],
            "text/html": [
              "\n",
              "  <div id=\"df-28812cad-cc88-4ec8-b1dd-422a734b78a3\">\n",
              "    <div class=\"colab-df-container\">\n",
              "      <div>\n",
              "<style scoped>\n",
              "    .dataframe tbody tr th:only-of-type {\n",
              "        vertical-align: middle;\n",
              "    }\n",
              "\n",
              "    .dataframe tbody tr th {\n",
              "        vertical-align: top;\n",
              "    }\n",
              "\n",
              "    .dataframe thead th {\n",
              "        text-align: right;\n",
              "    }\n",
              "</style>\n",
              "<table border=\"1\" class=\"dataframe\">\n",
              "  <thead>\n",
              "    <tr style=\"text-align: right;\">\n",
              "      <th></th>\n",
              "      <th>id</th>\n",
              "      <th>Gender</th>\n",
              "      <th>Age</th>\n",
              "      <th>Driving_License</th>\n",
              "      <th>Region_Code</th>\n",
              "      <th>Previously_Insured</th>\n",
              "      <th>Vehicle_Age</th>\n",
              "      <th>Vehicle_Damage</th>\n",
              "      <th>Annual_Premium</th>\n",
              "      <th>Policy_Sales_Channel</th>\n",
              "      <th>Vintage</th>\n",
              "      <th>Response</th>\n",
              "    </tr>\n",
              "  </thead>\n",
              "  <tbody>\n",
              "    <tr>\n",
              "      <th>0</th>\n",
              "      <td>1</td>\n",
              "      <td>0.0</td>\n",
              "      <td>44</td>\n",
              "      <td>1</td>\n",
              "      <td>28.0</td>\n",
              "      <td>0</td>\n",
              "      <td>2</td>\n",
              "      <td>1</td>\n",
              "      <td>40454.0</td>\n",
              "      <td>26.0</td>\n",
              "      <td>217</td>\n",
              "      <td>1</td>\n",
              "    </tr>\n",
              "    <tr>\n",
              "      <th>1</th>\n",
              "      <td>2</td>\n",
              "      <td>0.0</td>\n",
              "      <td>76</td>\n",
              "      <td>1</td>\n",
              "      <td>3.0</td>\n",
              "      <td>0</td>\n",
              "      <td>1</td>\n",
              "      <td>0</td>\n",
              "      <td>33536.0</td>\n",
              "      <td>26.0</td>\n",
              "      <td>183</td>\n",
              "      <td>0</td>\n",
              "    </tr>\n",
              "    <tr>\n",
              "      <th>2</th>\n",
              "      <td>3</td>\n",
              "      <td>0.0</td>\n",
              "      <td>47</td>\n",
              "      <td>1</td>\n",
              "      <td>28.0</td>\n",
              "      <td>0</td>\n",
              "      <td>2</td>\n",
              "      <td>1</td>\n",
              "      <td>38294.0</td>\n",
              "      <td>26.0</td>\n",
              "      <td>27</td>\n",
              "      <td>1</td>\n",
              "    </tr>\n",
              "    <tr>\n",
              "      <th>3</th>\n",
              "      <td>4</td>\n",
              "      <td>0.0</td>\n",
              "      <td>21</td>\n",
              "      <td>1</td>\n",
              "      <td>11.0</td>\n",
              "      <td>1</td>\n",
              "      <td>0</td>\n",
              "      <td>0</td>\n",
              "      <td>28619.0</td>\n",
              "      <td>152.0</td>\n",
              "      <td>203</td>\n",
              "      <td>0</td>\n",
              "    </tr>\n",
              "    <tr>\n",
              "      <th>4</th>\n",
              "      <td>5</td>\n",
              "      <td>1.0</td>\n",
              "      <td>29</td>\n",
              "      <td>1</td>\n",
              "      <td>41.0</td>\n",
              "      <td>1</td>\n",
              "      <td>0</td>\n",
              "      <td>0</td>\n",
              "      <td>27496.0</td>\n",
              "      <td>152.0</td>\n",
              "      <td>39</td>\n",
              "      <td>0</td>\n",
              "    </tr>\n",
              "    <tr>\n",
              "      <th>5</th>\n",
              "      <td>6</td>\n",
              "      <td>1.0</td>\n",
              "      <td>24</td>\n",
              "      <td>1</td>\n",
              "      <td>33.0</td>\n",
              "      <td>0</td>\n",
              "      <td>0</td>\n",
              "      <td>1</td>\n",
              "      <td>2630.0</td>\n",
              "      <td>160.0</td>\n",
              "      <td>176</td>\n",
              "      <td>0</td>\n",
              "    </tr>\n",
              "    <tr>\n",
              "      <th>6</th>\n",
              "      <td>7</td>\n",
              "      <td>0.0</td>\n",
              "      <td>23</td>\n",
              "      <td>1</td>\n",
              "      <td>11.0</td>\n",
              "      <td>0</td>\n",
              "      <td>0</td>\n",
              "      <td>1</td>\n",
              "      <td>23367.0</td>\n",
              "      <td>152.0</td>\n",
              "      <td>249</td>\n",
              "      <td>0</td>\n",
              "    </tr>\n",
              "    <tr>\n",
              "      <th>7</th>\n",
              "      <td>8</td>\n",
              "      <td>1.0</td>\n",
              "      <td>56</td>\n",
              "      <td>1</td>\n",
              "      <td>28.0</td>\n",
              "      <td>0</td>\n",
              "      <td>1</td>\n",
              "      <td>1</td>\n",
              "      <td>32031.0</td>\n",
              "      <td>26.0</td>\n",
              "      <td>72</td>\n",
              "      <td>1</td>\n",
              "    </tr>\n",
              "    <tr>\n",
              "      <th>8</th>\n",
              "      <td>9</td>\n",
              "      <td>1.0</td>\n",
              "      <td>24</td>\n",
              "      <td>1</td>\n",
              "      <td>3.0</td>\n",
              "      <td>1</td>\n",
              "      <td>0</td>\n",
              "      <td>0</td>\n",
              "      <td>27619.0</td>\n",
              "      <td>152.0</td>\n",
              "      <td>28</td>\n",
              "      <td>0</td>\n",
              "    </tr>\n",
              "    <tr>\n",
              "      <th>9</th>\n",
              "      <td>10</td>\n",
              "      <td>1.0</td>\n",
              "      <td>32</td>\n",
              "      <td>1</td>\n",
              "      <td>6.0</td>\n",
              "      <td>1</td>\n",
              "      <td>0</td>\n",
              "      <td>0</td>\n",
              "      <td>28771.0</td>\n",
              "      <td>152.0</td>\n",
              "      <td>80</td>\n",
              "      <td>0</td>\n",
              "    </tr>\n",
              "  </tbody>\n",
              "</table>\n",
              "</div>\n",
              "      <button class=\"colab-df-convert\" onclick=\"convertToInteractive('df-28812cad-cc88-4ec8-b1dd-422a734b78a3')\"\n",
              "              title=\"Convert this dataframe to an interactive table.\"\n",
              "              style=\"display:none;\">\n",
              "        \n",
              "  <svg xmlns=\"http://www.w3.org/2000/svg\" height=\"24px\"viewBox=\"0 0 24 24\"\n",
              "       width=\"24px\">\n",
              "    <path d=\"M0 0h24v24H0V0z\" fill=\"none\"/>\n",
              "    <path d=\"M18.56 5.44l.94 2.06.94-2.06 2.06-.94-2.06-.94-.94-2.06-.94 2.06-2.06.94zm-11 1L8.5 8.5l.94-2.06 2.06-.94-2.06-.94L8.5 2.5l-.94 2.06-2.06.94zm10 10l.94 2.06.94-2.06 2.06-.94-2.06-.94-.94-2.06-.94 2.06-2.06.94z\"/><path d=\"M17.41 7.96l-1.37-1.37c-.4-.4-.92-.59-1.43-.59-.52 0-1.04.2-1.43.59L10.3 9.45l-7.72 7.72c-.78.78-.78 2.05 0 2.83L4 21.41c.39.39.9.59 1.41.59.51 0 1.02-.2 1.41-.59l7.78-7.78 2.81-2.81c.8-.78.8-2.07 0-2.86zM5.41 20L4 18.59l7.72-7.72 1.47 1.35L5.41 20z\"/>\n",
              "  </svg>\n",
              "      </button>\n",
              "      \n",
              "  <style>\n",
              "    .colab-df-container {\n",
              "      display:flex;\n",
              "      flex-wrap:wrap;\n",
              "      gap: 12px;\n",
              "    }\n",
              "\n",
              "    .colab-df-convert {\n",
              "      background-color: #E8F0FE;\n",
              "      border: none;\n",
              "      border-radius: 50%;\n",
              "      cursor: pointer;\n",
              "      display: none;\n",
              "      fill: #1967D2;\n",
              "      height: 32px;\n",
              "      padding: 0 0 0 0;\n",
              "      width: 32px;\n",
              "    }\n",
              "\n",
              "    .colab-df-convert:hover {\n",
              "      background-color: #E2EBFA;\n",
              "      box-shadow: 0px 1px 2px rgba(60, 64, 67, 0.3), 0px 1px 3px 1px rgba(60, 64, 67, 0.15);\n",
              "      fill: #174EA6;\n",
              "    }\n",
              "\n",
              "    [theme=dark] .colab-df-convert {\n",
              "      background-color: #3B4455;\n",
              "      fill: #D2E3FC;\n",
              "    }\n",
              "\n",
              "    [theme=dark] .colab-df-convert:hover {\n",
              "      background-color: #434B5C;\n",
              "      box-shadow: 0px 1px 3px 1px rgba(0, 0, 0, 0.15);\n",
              "      filter: drop-shadow(0px 1px 2px rgba(0, 0, 0, 0.3));\n",
              "      fill: #FFFFFF;\n",
              "    }\n",
              "  </style>\n",
              "\n",
              "      <script>\n",
              "        const buttonEl =\n",
              "          document.querySelector('#df-28812cad-cc88-4ec8-b1dd-422a734b78a3 button.colab-df-convert');\n",
              "        buttonEl.style.display =\n",
              "          google.colab.kernel.accessAllowed ? 'block' : 'none';\n",
              "\n",
              "        async function convertToInteractive(key) {\n",
              "          const element = document.querySelector('#df-28812cad-cc88-4ec8-b1dd-422a734b78a3');\n",
              "          const dataTable =\n",
              "            await google.colab.kernel.invokeFunction('convertToInteractive',\n",
              "                                                     [key], {});\n",
              "          if (!dataTable) return;\n",
              "\n",
              "          const docLinkHtml = 'Like what you see? Visit the ' +\n",
              "            '<a target=\"_blank\" href=https://colab.research.google.com/notebooks/data_table.ipynb>data table notebook</a>'\n",
              "            + ' to learn more about interactive tables.';\n",
              "          element.innerHTML = '';\n",
              "          dataTable['output_type'] = 'display_data';\n",
              "          await google.colab.output.renderOutput(dataTable, element);\n",
              "          const docLink = document.createElement('div');\n",
              "          docLink.innerHTML = docLinkHtml;\n",
              "          element.appendChild(docLink);\n",
              "        }\n",
              "      </script>\n",
              "    </div>\n",
              "  </div>\n",
              "  "
            ]
          },
          "metadata": {},
          "execution_count": 29
        }
      ],
      "source": [
        "df.head(10)"
      ]
    },
    {
      "cell_type": "code",
      "execution_count": null,
      "metadata": {
        "id": "cd4Ogmt-xF4U"
      },
      "outputs": [],
      "source": [
        ""
      ]
    },
    {
      "cell_type": "markdown",
      "metadata": {
        "id": "jKhQaPYP0Pvs"
      },
      "source": [
        "**Feature Selection**"
      ]
    },
    {
      "cell_type": "code",
      "execution_count": null,
      "metadata": {
        "id": "ZCGd65bZtYtL"
      },
      "outputs": [],
      "source": [
        "from sklearn.feature_selection import SelectKBest\n",
        "from sklearn.feature_selection import f_classif"
      ]
    },
    {
      "cell_type": "code",
      "execution_count": null,
      "metadata": {
        "id": "bcFR44jztxid"
      },
      "outputs": [],
      "source": [
        "independent = df.drop(['Response'], axis=1) #Contain all independent variables\n",
        "dependent = df['Response'] #Contain Dependent variable"
      ]
    },
    {
      "cell_type": "code",
      "execution_count": null,
      "metadata": {
        "colab": {
          "base_uri": "https://localhost:8080/"
        },
        "id": "HJkxfrZxtiBw",
        "outputId": "69596cc3-50c9-449a-fb3c-fcd38553e76d"
      },
      "outputs": [
        {
          "output_type": "execute_result",
          "data": {
            "text/plain": [
              "(array([7.13370735e-01, 1.05091307e+03, 4.76694479e+03, 3.93066928e+01,\n",
              "        4.25827356e+01, 5.02033540e+04, 1.97325562e+04, 5.47422454e+04,\n",
              "        1.94317587e+02, 7.51301151e+03, 4.20468707e-01]),\n",
              " array([3.98327606e-001, 3.18074235e-230, 0.00000000e+000, 3.62583444e-010,\n",
              "        6.78391651e-011, 0.00000000e+000, 0.00000000e+000, 0.00000000e+000,\n",
              "        3.72231514e-044, 0.00000000e+000, 5.16703652e-001]))"
            ]
          },
          "metadata": {},
          "execution_count": 11
        }
      ],
      "source": [
        "#Finding scores of each feature\n",
        "f_scores = f_classif(independent, dependent)\n",
        "f_scores"
      ]
    },
    {
      "cell_type": "code",
      "execution_count": null,
      "metadata": {
        "colab": {
          "base_uri": "https://localhost:8080/",
          "height": 432
        },
        "id": "up8yV6-bt8AQ",
        "outputId": "3c159f2e-bbbb-4ce6-834d-7483d54267eb"
      },
      "outputs": [
        {
          "output_type": "display_data",
          "data": {
            "text/plain": [
              "<Figure size 1152x360 with 1 Axes>"
            ],
            "image/png": "[encoded data removed]"
          },
          "metadata": {
            "needs_background": "light"
          }
        }
      ],
      "source": [
        "#The Second array consists of p-values that we need.\n",
        "p_values = pd.Series(f_scores[1], index= independent.columns)\n",
        "p_values.plot(kind='bar', color='blue', figsize=(16,5))\n",
        "plt.title('p-value scores for numerical features')\n",
        "plt.show()\n"
      ]
    },
    {
      "cell_type": "code",
      "execution_count": null,
      "metadata": {
        "id": "G8JirFJq0bz9"
      },
      "outputs": [],
      "source": [
        "#dropping id and vintage column\n",
        "df.drop([\"id\",\"Vintage\"],axis=1,inplace=True)"
      ]
    },
    {
      "cell_type": "code",
      "source": [
        "X=df.drop(['Response'],axis=1) #contain all  independent variable\n",
        "y=df['Response']           #dependent variable"
      ],
      "metadata": {
        "id": "HbuGiNPEi9xt"
      },
      "execution_count": null,
      "outputs": []
    },
    {
      "cell_type": "markdown",
      "metadata": {
        "id": "hIUR4L3JbKji"
      },
      "source": [
        "## Train-Test Split"
      ]
    },
    {
      "cell_type": "code",
      "execution_count": null,
      "metadata": {
        "id": "w5DTCuwT0ykW"
      },
      "outputs": [],
      "source": [
        "from sklearn.model_selection import train_test_split"
      ]
    },
    {
      "cell_type": "code",
      "execution_count": null,
      "metadata": {
        "id": "7jSZqITw4F-1"
      },
      "outputs": [],
      "source": [
        "#Splitting data into Testing and Training datasets\n",
        "Xtrain,X_test,ytrain,y_test = train_test_split(X,y,test_size=0.20,random_state = 1)"
      ]
    },
    {
      "cell_type": "code",
      "execution_count": null,
      "metadata": {
        "colab": {
          "base_uri": "https://localhost:8080/"
        },
        "id": "xat-vvuC5OJe",
        "outputId": "822096da-7c4a-4f35-a276-a9ecc5f9a8ec"
      },
      "outputs": [
        {
          "output_type": "execute_result",
          "data": {
            "text/plain": [
              "(304887, 9)"
            ]
          },
          "metadata": {},
          "execution_count": 35
        }
      ],
      "source": [
        "#Checking shape of training dataset\n",
        "Xtrain.shape"
      ]
    },
    {
      "cell_type": "code",
      "execution_count": null,
      "metadata": {
        "colab": {
          "base_uri": "https://localhost:8080/"
        },
        "id": "q-a2Y3YL5WYh",
        "outputId": "f85daaa4-5403-48a0-f8f4-cad8cb47b402"
      },
      "outputs": [
        {
          "output_type": "execute_result",
          "data": {
            "text/plain": [
              "(76222, 9)"
            ]
          },
          "metadata": {},
          "execution_count": 36
        }
      ],
      "source": [
        "#Checking shape of testing dataset\n",
        "X_test.shape"
      ]
    },
    {
      "cell_type": "code",
      "source": [
        "from imblearn.over_sampling import RandomOverSampler\n",
        "\n",
        "ros = RandomOverSampler(random_state = 42)\n",
        "X_ros, y_ros = ros.fit_resample(Xtrain, ytrain)\n",
        "\n",
        "print('Original dataset shape', len(data))\n",
        "print('Resampled dataset shape', len(y_ros))\n",
        "print('Resampled dataset shape', len(X_ros))\n",
        "print('Resampled dataset shape', len(ytrain))\n",
        "print('Resampled dataset shape', len(Xtrain))"
      ],
      "metadata": {
        "id": "gqUaQJHzWEkX"
      },
      "execution_count": null,
      "outputs": []
    },
    {
      "cell_type": "code",
      "execution_count": null,
      "metadata": {
        "id": "0JfprczN1POL"
      },
      "outputs": [],
      "source": [
        "#data transformation\n",
        "from sklearn.preprocessing import MinMaxScaler\n",
        "scaler = MinMaxScaler()\n",
        "Xtrain = scaler.fit_transform(Xtrain)\n",
        "X_test = scaler.transform(X_test)"
      ]
    },
    {
      "cell_type": "markdown",
      "metadata": {
        "id": "afy_BAd_J9x5"
      },
      "source": [
        "* As we previously seen that our class data is imbalanced let us use Oversampling techique to balance our data before we go through model building.\n",
        "* We will use SMOTE technique to balance our data."
      ]
    },
    {
      "cell_type": "code",
      "execution_count": null,
      "metadata": {
        "id": "_JGuotDSvez2"
      },
      "outputs": [],
      "source": [
        "#importing SMOTE\n",
        "from imblearn.over_sampling import SMOTE\n",
        "from collections import Counter"
      ]
    },
    {
      "cell_type": "code",
      "execution_count": null,
      "metadata": {
        "colab": {
          "base_uri": "https://localhost:8080/"
        },
        "id": "J1a9_rtnvh0r",
        "outputId": "b705735e-01bb-41b5-cd7f-bc0550b9076a"
      },
      "outputs": [
        {
          "output_type": "stream",
          "name": "stderr",
          "text": [
            "/usr/local/lib/python3.7/dist-packages/imblearn/utils/_validation.py:591: FutureWarning: Pass sampling_strategy=0.99 as keyword args. From version 0.9 passing these as positional arguments will result in an error\n",
            "  FutureWarning,\n"
          ]
        }
      ],
      "source": [
        "#getting balanced data\n",
        "ove_smp = SMOTE(0.99)\n",
        "X_train,y_train = ove_smp.fit_resample(Xtrain,ytrain)\n"
      ]
    },
    {
      "cell_type": "code",
      "execution_count": null,
      "metadata": {
        "colab": {
          "base_uri": "https://localhost:8080/"
        },
        "id": "w99GTkQqvlcI",
        "outputId": "e5a666c6-36c8-4857-87f7-5778a8e3891d"
      },
      "outputs": [
        {
          "output_type": "stream",
          "name": "stdout",
          "text": [
            "The no. of classes before fit Counter({0: 267347, 1: 37540})\n",
            "The no. of classes after fit Counter({0: 267347, 1: 264673})\n"
          ]
        }
      ],
      "source": [
        "print('The no. of classes before fit',format(Counter(ytrain)))\n",
        "print('The no. of classes after fit',format(Counter(y_train)))"
      ]
    },
    {
      "cell_type": "markdown",
      "metadata": {
        "id": "eDElbTe0BjcM"
      },
      "source": [
        "# **MODELLING**"
      ]
    },
    {
      "cell_type": "markdown",
      "metadata": {
        "id": "gKhUYhPWCEGT"
      },
      "source": [
        "# **1. Logistic Regression**"
      ]
    },
    {
      "cell_type": "code",
      "execution_count": null,
      "metadata": {
        "colab": {
          "base_uri": "https://localhost:8080/"
        },
        "id": "pOGsWliBBolS",
        "outputId": "cea37945-d457-4414-d1e2-dc5bc962111e"
      },
      "outputs": [
        {
          "output_type": "stream",
          "name": "stdout",
          "text": [
            "Accuracy :  64.07336464537798\n",
            "              precision    recall  f1-score   support\n",
            "\n",
            "           0       0.99      0.60      0.74     67052\n",
            "           1       0.25      0.97      0.39      9170\n",
            "\n",
            "    accuracy                           0.64     76222\n",
            "   macro avg       0.62      0.78      0.57     76222\n",
            "weighted avg       0.90      0.64      0.70     76222\n",
            "\n",
            "Confusion matrix\n",
            " [[39911 27141]\n",
            " [  243  8927]]\n"
          ]
        }
      ],
      "source": [
        "from sklearn.linear_model import LogisticRegression\n",
        "from sklearn.metrics import precision_score,recall_score,accuracy_score,f1_score,confusion_matrix,roc_auc_score,classification_report\n",
        "model=LogisticRegression()\n",
        "model=model.fit(X_train,y_train)\n",
        "pred=model.predict(X_test)\n",
        "\n",
        "accu_logreg = accuracy_score(y_test,pred)\n",
        "recall_logreg = recall_score(y_test,pred)\n",
        "prec_logreg = precision_score(y_test,pred)\n",
        "\n",
        "#print accuracy and Auc values of model\n",
        "print(\"Accuracy : \", accuracy_score(y_test,pred)*100)\n",
        "print(classification_report(y_test,pred))\n",
        "print(\"Confusion matrix\\n\", confusion_matrix(y_test,pred))"
      ]
    },
    {
      "cell_type": "markdown",
      "metadata": {
        "id": "wto0k7GWCLoh"
      },
      "source": [
        "# **2. Decission Tree**"
      ]
    },
    {
      "cell_type": "code",
      "execution_count": null,
      "metadata": {
        "colab": {
          "base_uri": "https://localhost:8080/"
        },
        "id": "7pqLyMXyCSwf",
        "outputId": "109d3398-b127-4e4f-92a4-51497e568937"
      },
      "outputs": [
        {
          "output_type": "stream",
          "name": "stdout",
          "text": [
            "80.19469444517331\n",
            "              precision    recall  f1-score   support\n",
            "\n",
            "           0       0.92      0.85      0.88     67052\n",
            "           1       0.29      0.44      0.35      9170\n",
            "\n",
            "    accuracy                           0.80     76222\n",
            "   macro avg       0.60      0.65      0.62     76222\n",
            "weighted avg       0.84      0.80      0.82     76222\n",
            "\n",
            "Confusion matrix\n",
            " [[57062  9990]\n",
            " [ 5106  4064]]\n"
          ]
        }
      ],
      "source": [
        "from sklearn.tree import DecisionTreeClassifier\n",
        "from sklearn.metrics import accuracy_score,confusion_matrix,classification_report\n",
        "dtree = DecisionTreeClassifier()\n",
        "dtree = dtree.fit(X_train, y_train)\n",
        "pred = dtree.predict(X_test)\n",
        "\n",
        "accu_dtree = accuracy_score(y_test,pred)\n",
        "recall_dtree = recall_score(y_test,pred)\n",
        "prec_dtree = precision_score(y_test,pred)\n",
        "\n",
        "\n",
        "print(accuracy_score(y_test, pred)*100)\n",
        "print(classification_report(y_test, pred))\n",
        "print(\"Confusion matrix\\n\", confusion_matrix(y_test, pred))\n"
      ]
    },
    {
      "cell_type": "markdown",
      "metadata": {
        "id": "cmcCTgB0Ck4d"
      },
      "source": [
        "# **3. Random Forest**"
      ]
    },
    {
      "cell_type": "code",
      "execution_count": null,
      "metadata": {
        "colab": {
          "base_uri": "https://localhost:8080/"
        },
        "id": "LfGPBY6jCqG3",
        "outputId": "838b7519-0767-407d-8511-922f874208ac"
      },
      "outputs": [
        {
          "output_type": "stream",
          "name": "stdout",
          "text": [
            "80.90315132114088\n",
            "              precision    recall  f1-score   support\n",
            "\n",
            "           0       0.92      0.86      0.89     67052\n",
            "           1       0.30      0.45      0.36      9170\n",
            "\n",
            "    accuracy                           0.81     76222\n",
            "   macro avg       0.61      0.66      0.63     76222\n",
            "weighted avg       0.85      0.81      0.82     76222\n",
            "\n",
            "Confusion matrix\n",
            " [[57498  9554]\n",
            " [ 5002  4168]]\n"
          ]
        }
      ],
      "source": [
        "from sklearn.ensemble import RandomForestClassifier\n",
        "Rtree = RandomForestClassifier(n_estimators=120,)\n",
        "Rtree.fit(X_train, y_train)\n",
        "pred = Rtree.predict(X_test)\n",
        "\n",
        "accu_Rtree = accuracy_score(y_test,pred)\n",
        "recall_Rtree = recall_score(y_test,pred)\n",
        "prec_Rtree = precision_score(y_test,pred)\n",
        "\n",
        "\n",
        "print(accuracy_score(y_test, pred)*100)\n",
        "print(classification_report(y_test, pred))\n",
        "print(\"Confusion matrix\\n\", confusion_matrix(y_test, pred))\n"
      ]
    },
    {
      "cell_type": "code",
      "execution_count": null,
      "metadata": {
        "colab": {
          "background_save": true,
          "base_uri": "https://localhost:8080/"
        },
        "id": "agH4FO5yPI1v",
        "outputId": "d77deb89-0f21-4139-9923-146ee099b891"
      },
      "outputs": [
        {
          "name": "stdout",
          "output_type": "stream",
          "text": [
            "Fitting 5 folds for each of 1 candidates, totalling 5 fits\n",
            "[CV] END max_depth=14, max_features=sqrt, min_samples_leaf=82, min_samples_split=28, n_estimators=91; total time= 1.5min\n",
            "[CV] END max_depth=14, max_features=sqrt, min_samples_leaf=82, min_samples_split=28, n_estimators=91; total time= 1.5min\n",
            "[CV] END max_depth=14, max_features=sqrt, min_samples_leaf=82, min_samples_split=28, n_estimators=91; total time= 1.5min\n",
            "[CV] END max_depth=14, max_features=sqrt, min_samples_leaf=82, min_samples_split=28, n_estimators=91; total time= 1.4min\n",
            "[CV] END max_depth=14, max_features=sqrt, min_samples_leaf=82, min_samples_split=28, n_estimators=91; total time= 1.5min\n",
            "Fitting 5 folds for each of 1 candidates, totalling 5 fits\n",
            "[CV] END max_depth=74, max_features=log2, min_samples_leaf=8, min_samples_split=96, n_estimators=78; total time= 2.0min\n",
            "[CV] END max_depth=74, max_features=log2, min_samples_leaf=8, min_samples_split=96, n_estimators=78; total time= 1.9min\n",
            "[CV] END max_depth=74, max_features=log2, min_samples_leaf=8, min_samples_split=96, n_estimators=78; total time= 1.9min\n",
            "[CV] END max_depth=74, max_features=log2, min_samples_leaf=8, min_samples_split=96, n_estimators=78; total time= 1.9min\n",
            "[CV] END max_depth=74, max_features=log2, min_samples_leaf=8, min_samples_split=96, n_estimators=78; total time= 2.0min\n",
            "Fitting 5 folds for each of 1 candidates, totalling 5 fits\n",
            "[CV] END max_depth=62, max_features=auto, min_samples_leaf=41, min_samples_split=33, n_estimators=81; total time= 2.0min\n",
            "[CV] END max_depth=62, max_features=auto, min_samples_leaf=41, min_samples_split=33, n_estimators=81; total time= 1.9min\n",
            "[CV] END max_depth=62, max_features=auto, min_samples_leaf=41, min_samples_split=33, n_estimators=81; total time= 1.9min\n",
            "[CV] END max_depth=62, max_features=auto, min_samples_leaf=41, min_samples_split=33, n_estimators=81; total time= 1.9min\n",
            "[CV] END max_depth=62, max_features=auto, min_samples_leaf=41, min_samples_split=33, n_estimators=81; total time= 1.8min\n",
            "Fitting 5 folds for each of 1 candidates, totalling 5 fits\n",
            "[CV] END max_depth=97, max_features=sqrt, min_samples_leaf=26, min_samples_split=66, n_estimators=72; total time= 1.8min\n",
            "[CV] END max_depth=97, max_features=sqrt, min_samples_leaf=26, min_samples_split=66, n_estimators=72; total time= 1.7min\n",
            "[CV] END max_depth=97, max_features=sqrt, min_samples_leaf=26, min_samples_split=66, n_estimators=72; total time= 1.7min\n",
            "[CV] END max_depth=97, max_features=sqrt, min_samples_leaf=26, min_samples_split=66, n_estimators=72; total time= 1.7min\n",
            "[CV] END max_depth=97, max_features=sqrt, min_samples_leaf=26, min_samples_split=66, n_estimators=72; total time= 1.8min\n",
            "Fitting 5 folds for each of 1 candidates, totalling 5 fits\n",
            "[CV] END max_depth=16, max_features=log2, min_samples_leaf=54, min_samples_split=47, n_estimators=26; total time=  31.8s\n",
            "[CV] END max_depth=16, max_features=log2, min_samples_leaf=54, min_samples_split=47, n_estimators=26; total time=  29.6s\n",
            "[CV] END max_depth=16, max_features=log2, min_samples_leaf=54, min_samples_split=47, n_estimators=26; total time=  30.7s\n",
            "[CV] END max_depth=16, max_features=log2, min_samples_leaf=54, min_samples_split=47, n_estimators=26; total time=  28.6s\n",
            "[CV] END max_depth=16, max_features=log2, min_samples_leaf=54, min_samples_split=47, n_estimators=26; total time=  28.4s\n"
          ]
        },
        {
          "data": {
            "text/plain": [
              "BayesSearchCV(cv=5, estimator=RandomForestClassifier(random_state=40), n_iter=5,\n",
              "              scoring='accuracy',\n",
              "              search_spaces={'max_depth': Integer(low=2, high=100, prior='uniform', transform='normalize'),\n",
              "                             'max_features': ['auto', 'sqrt', 'log2'],\n",
              "                             'min_samples_leaf': Integer(low=1, high=100, prior='uniform', transform='normalize'),\n",
              "                             'min_samples_split': Integer(low=2, high=100, prior='uniform', transform='normalize'),\n",
              "                             'n_estimators': Integer(low=1, high=140, prior='uniform', transform='normalize')},\n",
              "              verbose=2)"
            ]
          },
          "execution_count": 75,
          "metadata": {},
          "output_type": "execute_result"
        }
      ],
      "source": [
        "#Hyper parameter tuning\n",
        "Rtree = RandomForestClassifier(random_state=40)\n",
        "#Cross validation and hyperparameter tuning\n",
        "Rtree_bayes = BayesSearchCV(estimator= Rtree,\n",
        "                         search_spaces = {\n",
        "                          'max_depth': Integer(2,100),\n",
        "                          'min_samples_leaf': Integer(1,100),\n",
        "                          'min_samples_split': Integer(2,100),\n",
        "                          'n_estimators': Integer(1,140),\n",
        "                          'max_features': [\"auto\", \"sqrt\", \"log2\"]\n",
        "                        },\n",
        "                       cv = 5, verbose=2, scoring='accuracy',n_iter=5)\n",
        "Rtree_bayes.fit(X_train,y_train)"
      ]
    },
    {
      "cell_type": "code",
      "source": [
        "Rtree_bayes.best_params_"
      ],
      "metadata": {
        "colab": {
          "base_uri": "https://localhost:8080/"
        },
        "id": "nX3FHosX7QE7",
        "outputId": "82b4e772-0921-4928-9e74-ed1fba32aa4a"
      },
      "execution_count": null,
      "outputs": [
        {
          "output_type": "execute_result",
          "data": {
            "text/plain": [
              "OrderedDict([('max_depth', 74),\n",
              "             ('max_features', 'log2'),\n",
              "             ('min_samples_leaf', 8),\n",
              "             ('min_samples_split', 96),\n",
              "             ('n_estimators', 78)])"
            ]
          },
          "metadata": {},
          "execution_count": 76
        }
      ]
    },
    {
      "cell_type": "code",
      "source": [
        "Rtree_bayes.best_estimator_"
      ],
      "metadata": {
        "colab": {
          "base_uri": "https://localhost:8080/"
        },
        "id": "b4WjOSrV7Y4u",
        "outputId": "cf720971-d8be-4f25-a456-f38a33e8b4db"
      },
      "execution_count": null,
      "outputs": [
        {
          "output_type": "execute_result",
          "data": {
            "text/plain": [
              "RandomForestClassifier(max_depth=74, max_features='log2', min_samples_leaf=8,\n",
              "                       min_samples_split=96, n_estimators=78, random_state=40)"
            ]
          },
          "metadata": {},
          "execution_count": 77
        }
      ]
    },
    {
      "cell_type": "code",
      "source": [
        "#make prediction\n",
        "Rtreetrain_pred=Rtree_bayes.best_estimator_.predict(X_train)\n",
        "Rtreetest_pred=Rtree_bayes.best_estimator_.predict(X_test)"
      ],
      "metadata": {
        "id": "aSVaY54e8D7L"
      },
      "execution_count": null,
      "outputs": []
    },
    {
      "cell_type": "code",
      "source": [
        "# Calculating accuracy on train and test\n",
        "train_accuracy = accuracy_score(y_train, Rtreetrain_pred)\n",
        "test_accuracy = accuracy_score(y_test, Rtreetest_pred)\n",
        "\n",
        "print(\"The accuracy on train dataset is\", train_accuracy)\n",
        "print(\"The accuracy on test dataset is\", test_accuracy)"
      ],
      "metadata": {
        "colab": {
          "base_uri": "https://localhost:8080/"
        },
        "id": "yi-7LrZ58KjQ",
        "outputId": "44d302a9-9053-4fe8-b7be-d602c5b9ac00"
      },
      "execution_count": null,
      "outputs": [
        {
          "output_type": "stream",
          "name": "stdout",
          "text": [
            "The accuracy on train dataset is 0.8848056634492154\n",
            "The accuracy on test dataset is 0.8009104982813361\n"
          ]
        }
      ]
    },
    {
      "cell_type": "code",
      "source": [
        "# Get the confusion matrices for train and test\n",
        "train_cm = confusion_matrix(y_train, Rtreetrain_pred)\n",
        "test_cm = confusion_matrix(y_test, Rtreetest_pred)"
      ],
      "metadata": {
        "id": "6WxfK-0x8YzH"
      },
      "execution_count": null,
      "outputs": []
    },
    {
      "cell_type": "code",
      "source": [
        "# Print the classification report for train and test\n",
        "print(classification_report(y_train,xgbtrain_pred))\n",
        "print(\"\\n\")\n",
        "print(classification_report(y_test,xgbtest_pred))"
      ],
      "metadata": {
        "colab": {
          "base_uri": "https://localhost:8080/"
        },
        "id": "UrG0ifgJ8eOI",
        "outputId": "7465d371-dd56-41fa-9242-4bbd894e4372"
      },
      "execution_count": null,
      "outputs": [
        {
          "output_type": "stream",
          "name": "stdout",
          "text": [
            "              precision    recall  f1-score   support\n",
            "\n",
            "           0       1.00      1.00      1.00    267347\n",
            "           1       1.00      1.00      1.00    240612\n",
            "\n",
            "    accuracy                           1.00    507959\n",
            "   macro avg       1.00      1.00      1.00    507959\n",
            "weighted avg       1.00      1.00      1.00    507959\n",
            "\n",
            "\n",
            "\n",
            "              precision    recall  f1-score   support\n",
            "\n",
            "           0       0.90      0.95      0.92     67052\n",
            "           1       0.34      0.20      0.25      9170\n",
            "\n",
            "    accuracy                           0.86     76222\n",
            "   macro avg       0.62      0.57      0.59     76222\n",
            "weighted avg       0.83      0.86      0.84     76222\n",
            "\n"
          ]
        }
      ]
    },
    {
      "cell_type": "markdown",
      "metadata": {
        "id": "D3-5dMgpD94p"
      },
      "source": [
        "# **4. XG Boost**"
      ]
    },
    {
      "cell_type": "code",
      "execution_count": null,
      "metadata": {
        "colab": {
          "base_uri": "https://localhost:8080/"
        },
        "id": "dppBPaE1EB4m",
        "outputId": "8729786d-1c52-438d-c234-d2bedd332734"
      },
      "outputs": [
        {
          "output_type": "stream",
          "name": "stdout",
          "text": [
            "70.44422870037522\n",
            "              precision    recall  f1-score   support\n",
            "\n",
            "           0       0.98      0.68      0.80     67052\n",
            "           1       0.28      0.92      0.43      9170\n",
            "\n",
            "    accuracy                           0.70     76222\n",
            "   macro avg       0.63      0.80      0.61     76222\n",
            "weighted avg       0.90      0.70      0.76     76222\n",
            "\n",
            "Confusion matrix\n",
            " [[45285 21767]\n",
            " [  761  8409]]\n"
          ]
        }
      ],
      "source": [
        "import xgboost as xgb\n",
        "xgb_model=xgb.XGBClassifier()\n",
        "xgb_model.fit(X_train,y_train)\n",
        "pred = xgb_model.predict(X_test)\n",
        "\n",
        "accu_xgb = accuracy_score(y_test,pred)\n",
        "recall_xgb = recall_score(y_test,pred)\n",
        "prec_xgb = precision_score(y_test,pred)\n",
        "\n",
        "\n",
        "print(accuracy_score(y_test, pred)*100)\n",
        "print(classification_report(y_test, pred))\n",
        "print(\"Confusion matrix\\n\", confusion_matrix(y_test, pred))\n"
      ]
    },
    {
      "cell_type": "code",
      "execution_count": null,
      "metadata": {
        "colab": {
          "base_uri": "https://localhost:8080/"
        },
        "id": "BoBJOnb4T6r5",
        "outputId": "40c16152-7126-4923-9a88-13d0a1f2a2ad"
      },
      "outputs": [
        {
          "name": "stdout",
          "output_type": "stream",
          "text": [
            "Fitting 5 folds for each of 1 candidates, totalling 5 fits\n",
            "[CV] END max_depth=14, max_features=log2, min_samples_leaf=53, min_samples_split=59, n_estimators=9; total time=  16.2s\n",
            "[CV] END max_depth=14, max_features=log2, min_samples_leaf=53, min_samples_split=59, n_estimators=9; total time=  15.3s\n",
            "[CV] END max_depth=14, max_features=log2, min_samples_leaf=53, min_samples_split=59, n_estimators=9; total time=  15.2s\n",
            "[CV] END max_depth=14, max_features=log2, min_samples_leaf=53, min_samples_split=59, n_estimators=9; total time=  15.1s\n",
            "[CV] END max_depth=14, max_features=log2, min_samples_leaf=53, min_samples_split=59, n_estimators=9; total time=  15.8s\n",
            "Fitting 5 folds for each of 1 candidates, totalling 5 fits\n",
            "[CV] END max_depth=60, max_features=auto, min_samples_leaf=85, min_samples_split=82, n_estimators=41; total time= 4.3min\n",
            "[CV] END max_depth=60, max_features=auto, min_samples_leaf=85, min_samples_split=82, n_estimators=41; total time= 4.4min\n",
            "[CV] END max_depth=60, max_features=auto, min_samples_leaf=85, min_samples_split=82, n_estimators=41; total time= 4.4min\n",
            "[CV] END max_depth=60, max_features=auto, min_samples_leaf=85, min_samples_split=82, n_estimators=41; total time= 4.4min\n",
            "[CV] END max_depth=60, max_features=auto, min_samples_leaf=85, min_samples_split=82, n_estimators=41; total time= 4.9min\n",
            "Fitting 5 folds for each of 1 candidates, totalling 5 fits\n",
            "[CV] END max_depth=90, max_features=sqrt, min_samples_leaf=38, min_samples_split=42, n_estimators=105; total time=15.1min\n",
            "[CV] END max_depth=90, max_features=sqrt, min_samples_leaf=38, min_samples_split=42, n_estimators=105; total time=14.7min\n",
            "[CV] END max_depth=90, max_features=sqrt, min_samples_leaf=38, min_samples_split=42, n_estimators=105; total time=14.4min\n",
            "[CV] END max_depth=90, max_features=sqrt, min_samples_leaf=38, min_samples_split=42, n_estimators=105; total time=14.3min\n",
            "[CV] END max_depth=90, max_features=sqrt, min_samples_leaf=38, min_samples_split=42, n_estimators=105; total time=15.0min\n",
            "Fitting 5 folds for each of 1 candidates, totalling 5 fits\n",
            "[CV] END max_depth=2, max_features=log2, min_samples_leaf=34, min_samples_split=44, n_estimators=41; total time=   9.2s\n",
            "[CV] END max_depth=2, max_features=log2, min_samples_leaf=34, min_samples_split=44, n_estimators=41; total time=   9.1s\n",
            "[CV] END max_depth=2, max_features=log2, min_samples_leaf=34, min_samples_split=44, n_estimators=41; total time=   9.1s\n",
            "[CV] END max_depth=2, max_features=log2, min_samples_leaf=34, min_samples_split=44, n_estimators=41; total time=   9.2s\n",
            "[CV] END max_depth=2, max_features=log2, min_samples_leaf=34, min_samples_split=44, n_estimators=41; total time=   9.2s\n"
          ]
        },
        {
          "data": {
            "text/plain": [
              "BayesSearchCV(cv=5, estimator=XGBClassifier(), n_iter=4, scoring='accuracy',\n",
              "              search_spaces={'max_depth': Integer(low=2, high=100, prior='uniform', transform='normalize'),\n",
              "                             'max_features': ['auto', 'sqrt', 'log2'],\n",
              "                             'min_samples_leaf': Integer(low=1, high=100, prior='uniform', transform='normalize'),\n",
              "                             'min_samples_split': Integer(low=2, high=100, prior='uniform', transform='normalize'),\n",
              "                             'n_estimators': Integer(low=1, high=140, prior='uniform', transform='normalize')},\n",
              "              verbose=2)"
            ]
          },
          "execution_count": 39,
          "metadata": {},
          "output_type": "execute_result"
        }
      ],
      "source": [
        "#hyper parameter tuning\n",
        "xgb_model=xgb.XGBClassifier()\n",
        "#xgb = XGBoostClassifier()\n",
        "#Cross validation and hyperparameter tuning\n",
        "xgb_bayes = BayesSearchCV(estimator= xgb_model,\n",
        "                         search_spaces = {\n",
        "                          'max_depth': Integer(2,100),\n",
        "                          'min_samples_leaf': Integer(1,100),\n",
        "                          'min_samples_split': Integer(2,100),\n",
        "                          'n_estimators': Integer(1,140),\n",
        "                          'max_features': [\"auto\", \"sqrt\", \"log2\"]\n",
        "                        },\n",
        "                       cv = 5, verbose=2, scoring='accuracy',n_iter=4)\n",
        "\n",
        "xgb_bayes.fit(X_train,y_train)"
      ]
    },
    {
      "cell_type": "code",
      "execution_count": null,
      "metadata": {
        "colab": {
          "base_uri": "https://localhost:8080/"
        },
        "id": "eiu2gH9bOjUW",
        "outputId": "a48c062e-75e8-4a1d-8261-e82f13079fc6"
      },
      "outputs": [
        {
          "data": {
            "text/plain": [
              "OrderedDict([('max_depth', 90),\n",
              "             ('max_features', 'sqrt'),\n",
              "             ('min_samples_leaf', 38),\n",
              "             ('min_samples_split', 42),\n",
              "             ('n_estimators', 105)])"
            ]
          },
          "execution_count": 40,
          "metadata": {},
          "output_type": "execute_result"
        }
      ],
      "source": [
        "xgb_bayes.best_params_"
      ]
    },
    {
      "cell_type": "code",
      "execution_count": null,
      "metadata": {
        "colab": {
          "base_uri": "https://localhost:8080/"
        },
        "id": "WmhmyKigOkFc",
        "outputId": "1f7325dc-f859-4510-dbde-2b450a9c2cdd"
      },
      "outputs": [
        {
          "data": {
            "text/plain": [
              "XGBClassifier(max_depth=90, max_features='sqrt', min_samples_leaf=38,\n",
              "              min_samples_split=42, n_estimators=105)"
            ]
          },
          "execution_count": 41,
          "metadata": {},
          "output_type": "execute_result"
        }
      ],
      "source": [
        "xgb_bayes.best_estimator_"
      ]
    },
    {
      "cell_type": "code",
      "execution_count": null,
      "metadata": {
        "id": "qVDjcWFQOoqw"
      },
      "outputs": [],
      "source": [
        "#make prediction\n",
        "xgbtrain_pred=xgb_bayes.best_estimator_.predict(X_train)\n",
        "xgbtest_pred=xgb_bayes.best_estimator_.predict(X_test)"
      ]
    },
    {
      "cell_type": "code",
      "execution_count": null,
      "metadata": {
        "colab": {
          "base_uri": "https://localhost:8080/"
        },
        "id": "7KTb-qAuOtuZ",
        "outputId": "b5f4b96e-6f3c-4d78-89c8-59f779933dfd"
      },
      "outputs": [
        {
          "name": "stdout",
          "output_type": "stream",
          "text": [
            "The accuracy on train dataset is 0.9999606267434971\n",
            "The accuracy on test dataset is 0.8581905486604917\n"
          ]
        }
      ],
      "source": [
        "# Calculating accuracy on train and test\n",
        "train_accuracy = accuracy_score(y_train, xgbtrain_pred)\n",
        "test_accuracy = accuracy_score(y_test, xgbtest_pred)\n",
        "\n",
        "print(\"The accuracy on train dataset is\", train_accuracy)\n",
        "print(\"The accuracy on test dataset is\", test_accuracy)"
      ]
    },
    {
      "cell_type": "code",
      "execution_count": null,
      "metadata": {
        "id": "PL1Zb8sIOxOE"
      },
      "outputs": [],
      "source": [
        "# Get the confusion matrices for train and test\n",
        "train_cm = confusion_matrix(y_train, xgbtrain_pred)\n",
        "test_cm = confusion_matrix(y_test, xgbtest_pred)"
      ]
    },
    {
      "cell_type": "code",
      "execution_count": null,
      "metadata": {
        "colab": {
          "base_uri": "https://localhost:8080/"
        },
        "id": "5dXRy1ImO2DR",
        "outputId": "a3825eae-c757-43e1-a3f8-2480f42e73c5"
      },
      "outputs": [
        {
          "name": "stdout",
          "output_type": "stream",
          "text": [
            "              precision    recall  f1-score   support\n",
            "\n",
            "           0       1.00      1.00      1.00    267347\n",
            "           1       1.00      1.00      1.00    240612\n",
            "\n",
            "    accuracy                           1.00    507959\n",
            "   macro avg       1.00      1.00      1.00    507959\n",
            "weighted avg       1.00      1.00      1.00    507959\n",
            "\n",
            "\n",
            "\n",
            "              precision    recall  f1-score   support\n",
            "\n",
            "           0       0.90      0.95      0.92     67052\n",
            "           1       0.34      0.20      0.25      9170\n",
            "\n",
            "    accuracy                           0.86     76222\n",
            "   macro avg       0.62      0.57      0.59     76222\n",
            "weighted avg       0.83      0.86      0.84     76222\n",
            "\n"
          ]
        }
      ],
      "source": [
        "# Print the classification report for train and test\n",
        "print(classification_report(y_train,xgbtrain_pred))\n",
        "print(\"\\n\")\n",
        "print(classification_report(y_test,xgbtest_pred))"
      ]
    },
    {
      "cell_type": "markdown",
      "metadata": {
        "id": "L5joIq9n40sx"
      },
      "source": [
        "# **5. LGBM Classifier**"
      ]
    },
    {
      "cell_type": "code",
      "execution_count": null,
      "metadata": {
        "colab": {
          "base_uri": "https://localhost:8080/"
        },
        "id": "h9iT3KXT4zUQ",
        "outputId": "46ea98cf-5b62-48be-962b-21fc426d74ea"
      },
      "outputs": [
        {
          "output_type": "stream",
          "name": "stdout",
          "text": [
            "76.02923040591955\n",
            "              precision    recall  f1-score   support\n",
            "\n",
            "           0       0.96      0.76      0.85     67052\n",
            "           1       0.31      0.79      0.44      9170\n",
            "\n",
            "    accuracy                           0.76     76222\n",
            "   macro avg       0.64      0.77      0.65     76222\n",
            "weighted avg       0.88      0.76      0.80     76222\n",
            "\n",
            "Confusion matrix\n",
            " [[50681 16371]\n",
            " [ 1900  7270]]\n"
          ]
        }
      ],
      "source": [
        "from lightgbm import LGBMClassifier\n",
        "lgbm=LGBMClassifier()\n",
        "lgbm.fit(X_train,y_train)\n",
        "y_pred=lgbm.predict(X_test)\n",
        "\n",
        "accu_lgbm = accuracy_score(y_test,pred)\n",
        "recall_lgbm = recall_score(y_test,pred)\n",
        "prec_lgbm = precision_score(y_test,pred)\n",
        "\n",
        "\n",
        "print(accuracy_score(y_test,y_pred)*100)\n",
        "print(classification_report(y_test,y_pred))\n",
        "print('Confusion matrix\\n',confusion_matrix(y_test,y_pred))\n"
      ]
    },
    {
      "cell_type": "markdown",
      "metadata": {
        "id": "R8-elkOQEeE_"
      },
      "source": [
        "# **6. Gradient Boosting Classifier**"
      ]
    },
    {
      "cell_type": "code",
      "execution_count": null,
      "metadata": {
        "colab": {
          "base_uri": "https://localhost:8080/"
        },
        "id": "KrdvR-acEWNa",
        "outputId": "6bc1d7c1-a587-45f5-b655-79c0543b8d89"
      },
      "outputs": [
        {
          "output_type": "stream",
          "name": "stdout",
          "text": [
            "71.09758337487865\n",
            "              precision    recall  f1-score   support\n",
            "\n",
            "           0       0.98      0.68      0.81     67052\n",
            "           1       0.28      0.91      0.43      9170\n",
            "\n",
            "    accuracy                           0.71     76222\n",
            "   macro avg       0.63      0.80      0.62     76222\n",
            "weighted avg       0.90      0.71      0.76     76222\n",
            "\n",
            "Confusion matrix\n",
            " [[45877 21175]\n",
            " [  855  8315]]\n"
          ]
        }
      ],
      "source": [
        "from sklearn.ensemble import GradientBoostingClassifier\n",
        "gb = GradientBoostingClassifier()\n",
        "gb.fit(X_train,y_train)\n",
        "y_pred = gb.predict(X_test)\n",
        "\n",
        "accu_gb = accuracy_score(y_test,pred)\n",
        "recall_gb = recall_score(y_test,pred)\n",
        "prec_gb = precision_score(y_test,pred)\n",
        "\n",
        "\n",
        "print(accuracy_score(y_test,y_pred)*100)\n",
        "print(classification_report(y_test,y_pred))\n",
        "print('Confusion matrix\\n',confusion_matrix(y_test,y_pred))"
      ]
    },
    {
      "cell_type": "markdown",
      "metadata": {
        "id": "gl32hAbbE0eo"
      },
      "source": [
        "# **7. K Neighbours Classifier**"
      ]
    },
    {
      "cell_type": "code",
      "execution_count": null,
      "metadata": {
        "colab": {
          "base_uri": "https://localhost:8080/"
        },
        "id": "JAp-GSUiEvpe",
        "outputId": "42f8b986-4ae8-43b1-e039-86db451658d9"
      },
      "outputs": [
        {
          "output_type": "stream",
          "name": "stdout",
          "text": [
            "Accuracy: 76.60780352129306\n",
            "              precision    recall  f1-score   support\n",
            "\n",
            "           0       0.94      0.79      0.86     67052\n",
            "           1       0.28      0.62      0.39      9170\n",
            "\n",
            "    accuracy                           0.77     76222\n",
            "   macro avg       0.61      0.70      0.62     76222\n",
            "weighted avg       0.86      0.77      0.80     76222\n",
            "\n",
            "Confusion matrix\n",
            " [[52667 14385]\n",
            " [ 3445  5725]]\n"
          ]
        }
      ],
      "source": [
        "from sklearn.neighbors import KNeighborsClassifier\n",
        "knc=KNeighborsClassifier()\n",
        "knc.fit(X_train,y_train)\n",
        "y_pred=knc.predict(X_test)\n",
        "\n",
        "accu_knc = accuracy_score(y_test,pred)\n",
        "recall_knc = recall_score(y_test,pred)\n",
        "prec_knc = precision_score(y_test,pred)\n",
        "\n",
        "\n",
        "print(\"Accuracy:\" ,accuracy_score(y_test,y_pred)*100)\n",
        "print(classification_report(y_test,y_pred))\n",
        "print('Confusion matrix\\n',confusion_matrix(y_test,y_pred))"
      ]
    },
    {
      "cell_type": "code",
      "execution_count": null,
      "metadata": {
        "colab": {
          "base_uri": "https://localhost:8080/",
          "height": 269
        },
        "id": "cA8MbKbpjlSS",
        "outputId": "b9e95f2e-6b58-44b8-ea91-4c32e5e5bd9f"
      },
      "outputs": [
        {
          "data": {
            "text/html": [
              "\n",
              "  <div id=\"df-48c97975-35c2-45e4-a757-50d0179b7661\">\n",
              "    <div class=\"colab-df-container\">\n",
              "      <div>\n",
              "<style scoped>\n",
              "    .dataframe tbody tr th:only-of-type {\n",
              "        vertical-align: middle;\n",
              "    }\n",
              "\n",
              "    .dataframe tbody tr th {\n",
              "        vertical-align: top;\n",
              "    }\n",
              "\n",
              "    .dataframe thead th {\n",
              "        text-align: right;\n",
              "    }\n",
              "</style>\n",
              "<table border=\"1\" class=\"dataframe\">\n",
              "  <thead>\n",
              "    <tr style=\"text-align: right;\">\n",
              "      <th></th>\n",
              "      <th>Accuracy</th>\n",
              "      <th>Recall</th>\n",
              "      <th>Precision</th>\n",
              "    </tr>\n",
              "  </thead>\n",
              "  <tbody>\n",
              "    <tr>\n",
              "      <th>Logistic regression</th>\n",
              "      <td>0.641127</td>\n",
              "      <td>0.973719</td>\n",
              "      <td>0.247739</td>\n",
              "    </tr>\n",
              "    <tr>\n",
              "      <th>Decision Tree</th>\n",
              "      <td>0.818438</td>\n",
              "      <td>0.325627</td>\n",
              "      <td>0.280613</td>\n",
              "    </tr>\n",
              "    <tr>\n",
              "      <th>Randomforest</th>\n",
              "      <td>0.837790</td>\n",
              "      <td>0.363686</td>\n",
              "      <td>0.338098</td>\n",
              "    </tr>\n",
              "    <tr>\n",
              "      <th>XGBClassifier</th>\n",
              "      <td>0.744851</td>\n",
              "      <td>0.803272</td>\n",
              "      <td>0.294522</td>\n",
              "    </tr>\n",
              "    <tr>\n",
              "      <th>LgbmClassifier</th>\n",
              "      <td>0.744851</td>\n",
              "      <td>0.803272</td>\n",
              "      <td>0.294522</td>\n",
              "    </tr>\n",
              "    <tr>\n",
              "      <th>Gradient Boosting Classifier</th>\n",
              "      <td>0.744851</td>\n",
              "      <td>0.803272</td>\n",
              "      <td>0.294522</td>\n",
              "    </tr>\n",
              "    <tr>\n",
              "      <th>K Neighbours Classifier</th>\n",
              "      <td>0.744851</td>\n",
              "      <td>0.803272</td>\n",
              "      <td>0.294522</td>\n",
              "    </tr>\n",
              "  </tbody>\n",
              "</table>\n",
              "</div>\n",
              "      <button class=\"colab-df-convert\" onclick=\"convertToInteractive('df-48c97975-35c2-45e4-a757-50d0179b7661')\"\n",
              "              title=\"Convert this dataframe to an interactive table.\"\n",
              "              style=\"display:none;\">\n",
              "        \n",
              "  <svg xmlns=\"http://www.w3.org/2000/svg\" height=\"24px\"viewBox=\"0 0 24 24\"\n",
              "       width=\"24px\">\n",
              "    <path d=\"M0 0h24v24H0V0z\" fill=\"none\"/>\n",
              "    <path d=\"M18.56 5.44l.94 2.06.94-2.06 2.06-.94-2.06-.94-.94-2.06-.94 2.06-2.06.94zm-11 1L8.5 8.5l.94-2.06 2.06-.94-2.06-.94L8.5 2.5l-.94 2.06-2.06.94zm10 10l.94 2.06.94-2.06 2.06-.94-2.06-.94-.94-2.06-.94 2.06-2.06.94z\"/><path d=\"M17.41 7.96l-1.37-1.37c-.4-.4-.92-.59-1.43-.59-.52 0-1.04.2-1.43.59L10.3 9.45l-7.72 7.72c-.78.78-.78 2.05 0 2.83L4 21.41c.39.39.9.59 1.41.59.51 0 1.02-.2 1.41-.59l7.78-7.78 2.81-2.81c.8-.78.8-2.07 0-2.86zM5.41 20L4 18.59l7.72-7.72 1.47 1.35L5.41 20z\"/>\n",
              "  </svg>\n",
              "      </button>\n",
              "      \n",
              "  <style>\n",
              "    .colab-df-container {\n",
              "      display:flex;\n",
              "      flex-wrap:wrap;\n",
              "      gap: 12px;\n",
              "    }\n",
              "\n",
              "    .colab-df-convert {\n",
              "      background-color: #E8F0FE;\n",
              "      border: none;\n",
              "      border-radius: 50%;\n",
              "      cursor: pointer;\n",
              "      display: none;\n",
              "      fill: #1967D2;\n",
              "      height: 32px;\n",
              "      padding: 0 0 0 0;\n",
              "      width: 32px;\n",
              "    }\n",
              "\n",
              "    .colab-df-convert:hover {\n",
              "      background-color: #E2EBFA;\n",
              "      box-shadow: 0px 1px 2px rgba(60, 64, 67, 0.3), 0px 1px 3px 1px rgba(60, 64, 67, 0.15);\n",
              "      fill: #174EA6;\n",
              "    }\n",
              "\n",
              "    [theme=dark] .colab-df-convert {\n",
              "      background-color: #3B4455;\n",
              "      fill: #D2E3FC;\n",
              "    }\n",
              "\n",
              "    [theme=dark] .colab-df-convert:hover {\n",
              "      background-color: #434B5C;\n",
              "      box-shadow: 0px 1px 3px 1px rgba(0, 0, 0, 0.15);\n",
              "      filter: drop-shadow(0px 1px 2px rgba(0, 0, 0, 0.3));\n",
              "      fill: #FFFFFF;\n",
              "    }\n",
              "  </style>\n",
              "\n",
              "      <script>\n",
              "        const buttonEl =\n",
              "          document.querySelector('#df-48c97975-35c2-45e4-a757-50d0179b7661 button.colab-df-convert');\n",
              "        buttonEl.style.display =\n",
              "          google.colab.kernel.accessAllowed ? 'block' : 'none';\n",
              "\n",
              "        async function convertToInteractive(key) {\n",
              "          const element = document.querySelector('#df-48c97975-35c2-45e4-a757-50d0179b7661');\n",
              "          const dataTable =\n",
              "            await google.colab.kernel.invokeFunction('convertToInteractive',\n",
              "                                                     [key], {});\n",
              "          if (!dataTable) return;\n",
              "\n",
              "          const docLinkHtml = 'Like what you see? Visit the ' +\n",
              "            '<a target=\"_blank\" href=https://colab.research.google.com/notebooks/data_table.ipynb>data table notebook</a>'\n",
              "            + ' to learn more about interactive tables.';\n",
              "          element.innerHTML = '';\n",
              "          dataTable['output_type'] = 'display_data';\n",
              "          await google.colab.output.renderOutput(dataTable, element);\n",
              "          const docLink = document.createElement('div');\n",
              "          docLink.innerHTML = docLinkHtml;\n",
              "          element.appendChild(docLink);\n",
              "        }\n",
              "      </script>\n",
              "    </div>\n",
              "  </div>\n",
              "  "
            ],
            "text/plain": [
              "                              Accuracy    Recall  Precision\n",
              "Logistic regression           0.641127  0.973719   0.247739\n",
              "Decision Tree                 0.818438  0.325627   0.280613\n",
              "Randomforest                  0.837790  0.363686   0.338098\n",
              "XGBClassifier                 0.744851  0.803272   0.294522\n",
              "LgbmClassifier                0.744851  0.803272   0.294522\n",
              "Gradient Boosting Classifier  0.744851  0.803272   0.294522\n",
              "K Neighbours Classifier       0.744851  0.803272   0.294522"
            ]
          },
          "execution_count": 216,
          "metadata": {},
          "output_type": "execute_result"
        }
      ],
      "source": [
        "## Comparing the performance of the models\n",
        "ind=['Logistic regression','Decision Tree','Randomforest','XGBClassifier','LgbmClassifier','Gradient Boosting Classifier','K Neighbours Classifier']\n",
        "df={\"Accuracy\":[accu_logreg,accu_dtree,accu_Rtree,accu_xgb,accu_lgbm,accu_gb,accu_knc],\"Recall\":[recall_logreg,recall_dtree,recall_Rtree,recall_xgb,recall_lgbm,recall_gb,recall_knc],\"Precision\":[prec_logreg,prec_dtree,prec_Rtree,prec_xgb,prec_lgbm,prec_gb,prec_knc]}\n",
        "result=pd.DataFrame(data=df,index=ind)\n",
        "result"
      ]
    },
    {
      "cell_type": "markdown",
      "metadata": {
        "id": "CXPjP7e0d7iE"
      },
      "source": [
        "## Let's perform Cross Validation and Hyper parameter tuning on these models to get better results."
      ]
    },
    {
      "cell_type": "code",
      "execution_count": null,
      "metadata": {
        "colab": {
          "base_uri": "https://localhost:8080/"
        },
        "id": "QvLykyG28Pae",
        "outputId": "fd9002cd-4a8b-42dd-c7cb-48e398b93f2a"
      },
      "outputs": [
        {
          "output_type": "stream",
          "name": "stdout",
          "text": [
            "Looking in indexes: https://pypi.org/simple, https://us-python.pkg.dev/colab-wheels/public/simple/\n",
            "Requirement already satisfied: scikit-optimize in /usr/local/lib/python3.7/dist-packages (0.9.0)\n",
            "Requirement already satisfied: scikit-learn>=0.20.0 in /usr/local/lib/python3.7/dist-packages (from scikit-optimize) (1.0.2)\n",
            "Requirement already satisfied: pyaml>=16.9 in /usr/local/lib/python3.7/dist-packages (from scikit-optimize) (21.10.1)\n",
            "Requirement already satisfied: numpy>=1.13.3 in /usr/local/lib/python3.7/dist-packages (from scikit-optimize) (1.21.6)\n",
            "Requirement already satisfied: scipy>=0.19.1 in /usr/local/lib/python3.7/dist-packages (from scikit-optimize) (1.7.3)\n",
            "Requirement already satisfied: joblib>=0.11 in /usr/local/lib/python3.7/dist-packages (from scikit-optimize) (1.1.0)\n",
            "Requirement already satisfied: PyYAML in /usr/local/lib/python3.7/dist-packages (from pyaml>=16.9->scikit-optimize) (3.13)\n",
            "Requirement already satisfied: threadpoolctl>=2.0.0 in /usr/local/lib/python3.7/dist-packages (from scikit-learn>=0.20.0->scikit-optimize) (3.1.0)\n"
          ]
        }
      ],
      "source": [
        "pip install scikit-optimize "
      ]
    },
    {
      "cell_type": "code",
      "execution_count": null,
      "metadata": {
        "id": "G9fhPtV4iE71"
      },
      "outputs": [],
      "source": [
        "from sklearn.model_selection import GridSearchCV\n",
        "from skopt import BayesSearchCV\n",
        "from skopt.space import Real, Categorical, Integer"
      ]
    },
    {
      "cell_type": "markdown",
      "source": [
        "# Hyper parameter tuning of Lgbm"
      ],
      "metadata": {
        "id": "iipMN1AyvTXz"
      }
    },
    {
      "cell_type": "code",
      "execution_count": null,
      "metadata": {
        "colab": {
          "base_uri": "https://localhost:8080/"
        },
        "id": "gwCIvJWVuDZr",
        "outputId": "9558fab1-08cc-4d7d-e073-b73d90b8cf08"
      },
      "outputs": [
        {
          "output_type": "stream",
          "name": "stdout",
          "text": [
            "Fitting 5 folds for each of 1 candidates, totalling 5 fits\n",
            "[CV] END max_depth=14, min_split_gain=8, n_estimators=157, n_jobs=18, num_leaves=62; total time=  12.4s\n",
            "[CV] END max_depth=14, min_split_gain=8, n_estimators=157, n_jobs=18, num_leaves=62; total time=  10.3s\n",
            "[CV] END max_depth=14, min_split_gain=8, n_estimators=157, n_jobs=18, num_leaves=62; total time=  14.2s\n",
            "[CV] END max_depth=14, min_split_gain=8, n_estimators=157, n_jobs=18, num_leaves=62; total time=  12.8s\n",
            "[CV] END max_depth=14, min_split_gain=8, n_estimators=157, n_jobs=18, num_leaves=62; total time=  10.0s\n",
            "Fitting 5 folds for each of 1 candidates, totalling 5 fits\n",
            "[CV] END max_depth=64, min_split_gain=7, n_estimators=171, n_jobs=28, num_leaves=38; total time=  16.6s\n",
            "[CV] END max_depth=64, min_split_gain=7, n_estimators=171, n_jobs=28, num_leaves=38; total time=  13.3s\n",
            "[CV] END max_depth=64, min_split_gain=7, n_estimators=171, n_jobs=28, num_leaves=38; total time=  12.4s\n",
            "[CV] END max_depth=64, min_split_gain=7, n_estimators=171, n_jobs=28, num_leaves=38; total time=  12.1s\n",
            "[CV] END max_depth=64, min_split_gain=7, n_estimators=171, n_jobs=28, num_leaves=38; total time=  13.0s\n",
            "Fitting 5 folds for each of 1 candidates, totalling 5 fits\n",
            "[CV] END max_depth=56, min_split_gain=8, n_estimators=64, n_jobs=3, num_leaves=89; total time=   4.9s\n",
            "[CV] END max_depth=56, min_split_gain=8, n_estimators=64, n_jobs=3, num_leaves=89; total time=   4.8s\n",
            "[CV] END max_depth=56, min_split_gain=8, n_estimators=64, n_jobs=3, num_leaves=89; total time=   4.8s\n",
            "[CV] END max_depth=56, min_split_gain=8, n_estimators=64, n_jobs=3, num_leaves=89; total time=   4.8s\n",
            "[CV] END max_depth=56, min_split_gain=8, n_estimators=64, n_jobs=3, num_leaves=89; total time=   4.8s\n",
            "Fitting 5 folds for each of 1 candidates, totalling 5 fits\n",
            "[CV] END max_depth=96, min_split_gain=4, n_estimators=57, n_jobs=3, num_leaves=23; total time=   3.0s\n",
            "[CV] END max_depth=96, min_split_gain=4, n_estimators=57, n_jobs=3, num_leaves=23; total time=   3.0s\n",
            "[CV] END max_depth=96, min_split_gain=4, n_estimators=57, n_jobs=3, num_leaves=23; total time=   3.0s\n",
            "[CV] END max_depth=96, min_split_gain=4, n_estimators=57, n_jobs=3, num_leaves=23; total time=   3.0s\n",
            "[CV] END max_depth=96, min_split_gain=4, n_estimators=57, n_jobs=3, num_leaves=23; total time=   3.0s\n",
            "Fitting 5 folds for each of 1 candidates, totalling 5 fits\n",
            "[CV] END max_depth=84, min_split_gain=1, n_estimators=170, n_jobs=24, num_leaves=196; total time=  47.7s\n",
            "[CV] END max_depth=84, min_split_gain=1, n_estimators=170, n_jobs=24, num_leaves=196; total time=  41.5s\n",
            "[CV] END max_depth=84, min_split_gain=1, n_estimators=170, n_jobs=24, num_leaves=196; total time=  41.1s\n",
            "[CV] END max_depth=84, min_split_gain=1, n_estimators=170, n_jobs=24, num_leaves=196; total time=  44.1s\n",
            "[CV] END max_depth=84, min_split_gain=1, n_estimators=170, n_jobs=24, num_leaves=196; total time=  40.3s\n",
            "Fitting 5 folds for each of 1 candidates, totalling 5 fits\n",
            "[CV] END max_depth=26, min_split_gain=8, n_estimators=193, n_jobs=9, num_leaves=61; total time=  10.7s\n",
            "[CV] END max_depth=26, min_split_gain=8, n_estimators=193, n_jobs=9, num_leaves=61; total time=   8.5s\n",
            "[CV] END max_depth=26, min_split_gain=8, n_estimators=193, n_jobs=9, num_leaves=61; total time=   8.7s\n",
            "[CV] END max_depth=26, min_split_gain=8, n_estimators=193, n_jobs=9, num_leaves=61; total time=   8.2s\n",
            "[CV] END max_depth=26, min_split_gain=8, n_estimators=193, n_jobs=9, num_leaves=61; total time=   8.8s\n",
            "Fitting 5 folds for each of 1 candidates, totalling 5 fits\n",
            "[CV] END max_depth=43, min_split_gain=10, n_estimators=161, n_jobs=20, num_leaves=55; total time=  14.1s\n",
            "[CV] END max_depth=43, min_split_gain=10, n_estimators=161, n_jobs=20, num_leaves=55; total time=   9.3s\n",
            "[CV] END max_depth=43, min_split_gain=10, n_estimators=161, n_jobs=20, num_leaves=55; total time=  10.2s\n",
            "[CV] END max_depth=43, min_split_gain=10, n_estimators=161, n_jobs=20, num_leaves=55; total time=  10.0s\n",
            "[CV] END max_depth=43, min_split_gain=10, n_estimators=161, n_jobs=20, num_leaves=55; total time=   9.3s\n",
            "Fitting 5 folds for each of 1 candidates, totalling 5 fits\n",
            "[CV] END max_depth=26, min_split_gain=7, n_estimators=174, n_jobs=19, num_leaves=113; total time=  15.3s\n",
            "[CV] END max_depth=26, min_split_gain=7, n_estimators=174, n_jobs=19, num_leaves=113; total time=  12.4s\n",
            "[CV] END max_depth=26, min_split_gain=7, n_estimators=174, n_jobs=19, num_leaves=113; total time=  13.0s\n",
            "[CV] END max_depth=26, min_split_gain=7, n_estimators=174, n_jobs=19, num_leaves=113; total time=  12.3s\n",
            "[CV] END max_depth=26, min_split_gain=7, n_estimators=174, n_jobs=19, num_leaves=113; total time=  12.9s\n",
            "Fitting 5 folds for each of 1 candidates, totalling 5 fits\n",
            "[CV] END max_depth=81, min_split_gain=6, n_estimators=132, n_jobs=12, num_leaves=125; total time=  12.8s\n",
            "[CV] END max_depth=81, min_split_gain=6, n_estimators=132, n_jobs=12, num_leaves=125; total time=   9.9s\n",
            "[CV] END max_depth=81, min_split_gain=6, n_estimators=132, n_jobs=12, num_leaves=125; total time=  10.0s\n",
            "[CV] END max_depth=81, min_split_gain=6, n_estimators=132, n_jobs=12, num_leaves=125; total time=   9.9s\n",
            "[CV] END max_depth=81, min_split_gain=6, n_estimators=132, n_jobs=12, num_leaves=125; total time=   9.7s\n",
            "Fitting 5 folds for each of 1 candidates, totalling 5 fits\n",
            "[CV] END max_depth=71, min_split_gain=6, n_estimators=136, n_jobs=11, num_leaves=91; total time=  11.8s\n",
            "[CV] END max_depth=71, min_split_gain=6, n_estimators=136, n_jobs=11, num_leaves=91; total time=   9.9s\n",
            "[CV] END max_depth=71, min_split_gain=6, n_estimators=136, n_jobs=11, num_leaves=91; total time=   9.7s\n",
            "[CV] END max_depth=71, min_split_gain=6, n_estimators=136, n_jobs=11, num_leaves=91; total time=   9.5s\n",
            "[CV] END max_depth=71, min_split_gain=6, n_estimators=136, n_jobs=11, num_leaves=91; total time=   9.2s\n"
          ]
        },
        {
          "output_type": "execute_result",
          "data": {
            "text/plain": [
              "BayesSearchCV(cv=5, estimator=LGBMClassifier(), n_iter=10, scoring='accuracy',\n",
              "              search_spaces={'max_depth': Integer(low=4, high=100, prior='uniform', transform='normalize'),\n",
              "                             'min_split_gain': Integer(low=1.0, high=10.0, prior='uniform', transform='normalize'),\n",
              "                             'n_estimators': Integer(low=3, high=200, prior='uniform', transform='normalize'),\n",
              "                             'n_jobs': Integer(low=1, high=30, prior='uniform', transform='normalize'),\n",
              "                             'num_leaves': Integer(low=3, high=200, prior='uniform', transform='normalize')},\n",
              "              verbose=2)"
            ]
          },
          "metadata": {},
          "execution_count": 50
        }
      ],
      "source": [
        "lgbm = LGBMClassifier()\n",
        "#Cross validation and hyperparameter tuning\n",
        "lg_bayes = BayesSearchCV(estimator= lgbm,\n",
        "                         search_spaces = {\n",
        "                          'max_depth':Integer(4,100) ,\n",
        "                          'num_leaves': Integer(3,200),\n",
        "                          'n_estimators': Integer(3,200),\n",
        "                          'min_split_gain': Integer(1.0,10.0),\n",
        "                          'n_jobs': Integer(1,30),\n",
        "                        },\n",
        "                       cv = 5, verbose=2, scoring='accuracy', n_iter=10)\n",
        "\n",
        "lg_bayes.fit(X_train,y_train)"
      ]
    },
    {
      "cell_type": "code",
      "execution_count": null,
      "metadata": {
        "colab": {
          "base_uri": "https://localhost:8080/"
        },
        "id": "7y0C9RhRwQTX",
        "outputId": "a5478992-5528-48b0-d6b3-912be73d498f"
      },
      "outputs": [
        {
          "output_type": "execute_result",
          "data": {
            "text/plain": [
              "OrderedDict([('max_depth', 84),\n",
              "             ('min_split_gain', 1),\n",
              "             ('n_estimators', 170),\n",
              "             ('n_jobs', 24),\n",
              "             ('num_leaves', 196)])"
            ]
          },
          "metadata": {},
          "execution_count": 51
        }
      ],
      "source": [
        "lg_bayes.best_params_"
      ]
    },
    {
      "cell_type": "code",
      "execution_count": null,
      "metadata": {
        "colab": {
          "base_uri": "https://localhost:8080/"
        },
        "id": "dfYIhqemwTrH",
        "outputId": "bbfc036e-6352-4aac-a50a-fb01039da893"
      },
      "outputs": [
        {
          "output_type": "execute_result",
          "data": {
            "text/plain": [
              "LGBMClassifier(max_depth=84, min_split_gain=1, n_estimators=170, n_jobs=24,\n",
              "               num_leaves=196)"
            ]
          },
          "metadata": {},
          "execution_count": 52
        }
      ],
      "source": [
        "lg_bayes.best_estimator_"
      ]
    },
    {
      "cell_type": "code",
      "execution_count": null,
      "metadata": {
        "id": "IV8gONHbwW-T"
      },
      "outputs": [],
      "source": [
        "#make prediction\n",
        "lgtrain_pred=lg_bayes.best_estimator_.predict(X_train)\n",
        "lgtest_pred=lg_bayes.best_estimator_.predict(X_test)"
      ]
    },
    {
      "cell_type": "code",
      "execution_count": null,
      "metadata": {
        "colab": {
          "base_uri": "https://localhost:8080/"
        },
        "id": "ef44J9T46DE5",
        "outputId": "82b9990b-451c-4a59-b235-12620f676ff9"
      },
      "outputs": [
        {
          "data": {
            "text/plain": [
              "GradientBoostingClassifier(max_depth=37, max_features='log2',\n",
              "                           min_samples_leaf=7, min_samples_split=66,\n",
              "                           n_estimators=135)"
            ]
          },
          "execution_count": 29,
          "metadata": {},
          "output_type": "execute_result"
        }
      ],
      "source": [
        "gb_bayes.best_estimator_"
      ]
    },
    {
      "cell_type": "code",
      "execution_count": null,
      "metadata": {
        "colab": {
          "base_uri": "https://localhost:8080/"
        },
        "id": "TMnCWqQvwa1m",
        "outputId": "73eee0e9-ae69-4112-84fd-f4d57529bbc2"
      },
      "outputs": [
        {
          "output_type": "stream",
          "name": "stdout",
          "text": [
            "The accuracy on train dataset is 0.876615540769144\n",
            "The accuracy on test dataset is 0.7964367243053186\n"
          ]
        }
      ],
      "source": [
        "# Calculating accuracy on train and test\n",
        "train_accuracy = accuracy_score(y_train, lgtrain_pred)\n",
        "test_accuracy = accuracy_score(y_test, lgtest_pred)\n",
        "\n",
        "print(\"The accuracy on train dataset is\", train_accuracy)\n",
        "print(\"The accuracy on test dataset is\", test_accuracy)"
      ]
    },
    {
      "cell_type": "code",
      "execution_count": null,
      "metadata": {
        "id": "SPtW-Z0Rwenu"
      },
      "outputs": [],
      "source": [
        "# Get the confusion matrices for train and test\n",
        "train_cm = confusion_matrix(y_train, lgtrain_pred)\n",
        "test_cm = confusion_matrix(y_test, lgtest_pred)"
      ]
    },
    {
      "cell_type": "code",
      "execution_count": null,
      "metadata": {
        "colab": {
          "base_uri": "https://localhost:8080/"
        },
        "id": "uUVd8-fQwh3j",
        "outputId": "5ebf9647-05d8-4797-e621-bad78e574a96"
      },
      "outputs": [
        {
          "output_type": "stream",
          "name": "stdout",
          "text": [
            "              precision    recall  f1-score   support\n",
            "\n",
            "           0       0.92      0.83      0.87    267347\n",
            "           1       0.84      0.92      0.88    264673\n",
            "\n",
            "    accuracy                           0.88    532020\n",
            "   macro avg       0.88      0.88      0.88    532020\n",
            "weighted avg       0.88      0.88      0.88    532020\n",
            "\n",
            "\n",
            "\n",
            "              precision    recall  f1-score   support\n",
            "\n",
            "           0       0.94      0.82      0.88     67052\n",
            "           1       0.32      0.61      0.42      9170\n",
            "\n",
            "    accuracy                           0.80     76222\n",
            "   macro avg       0.63      0.72      0.65     76222\n",
            "weighted avg       0.87      0.80      0.82     76222\n",
            "\n"
          ]
        }
      ],
      "source": [
        "# Print the classification report for train and test\n",
        "print(classification_report(y_train,lgtrain_pred))\n",
        "print(\"\\n\")\n",
        "print(classification_report(y_test,lgtest_pred))"
      ]
    },
    {
      "cell_type": "markdown",
      "source": [
        "# Hyper paremeter tuning of Gradient Boosting"
      ],
      "metadata": {
        "id": "Fu3XhJi34HIa"
      }
    },
    {
      "cell_type": "code",
      "execution_count": null,
      "metadata": {
        "colab": {
          "base_uri": "https://localhost:8080/"
        },
        "id": "CcX92MfSIyQg",
        "outputId": "1137089b-75b3-422d-ab91-7e184f2ade05"
      },
      "outputs": [
        {
          "output_type": "stream",
          "name": "stdout",
          "text": [
            "Fitting 5 folds for each of 1 candidates, totalling 5 fits\n",
            "[CV] END max_depth=73, max_features=sqrt, min_samples_leaf=51, min_samples_split=66, n_estimators=106; total time= 6.2min\n",
            "[CV] END max_depth=73, max_features=sqrt, min_samples_leaf=51, min_samples_split=66, n_estimators=106; total time= 5.9min\n",
            "[CV] END max_depth=73, max_features=sqrt, min_samples_leaf=51, min_samples_split=66, n_estimators=106; total time= 5.7min\n",
            "[CV] END max_depth=73, max_features=sqrt, min_samples_leaf=51, min_samples_split=66, n_estimators=106; total time= 5.8min\n"
          ]
        }
      ],
      "source": [
        "#hyper parameter tuning\n",
        "gb = GradientBoostingClassifier()\n",
        "#Cross validation and hyperparameter tuning                                                                                                                                      \n",
        "gb_bayes = BayesSearchCV(estimator= gb,\n",
        "                         search_spaces = {\n",
        "                          'max_depth': Integer(2,100),\n",
        "                          'min_samples_leaf': Integer(1,100),\n",
        "                          'min_samples_split': Integer(2,100),\n",
        "                          'n_estimators': Integer(1,140),\n",
        "                          'max_features': [\"auto\", \"sqrt\", \"log2\"]\n",
        "                        },\n",
        "                       cv = 5, verbose=2, scoring='accuracy',n_iter=4)\n",
        "\n",
        "gb_bayes.fit(X_train,y_train)"
      ]
    },
    {
      "cell_type": "code",
      "source": [
        "gb_bayes.best_params_"
      ],
      "metadata": {
        "id": "f6h6FbPDPPzK"
      },
      "execution_count": null,
      "outputs": []
    },
    {
      "cell_type": "code",
      "execution_count": null,
      "metadata": {
        "id": "M9RvbYJF6Dta"
      },
      "outputs": [],
      "source": [
        "#make prediction\n",
        "gbtrain_pred=gb_bayes.best_estimator_.predict(X_train)\n",
        "gbtest_pred=gb_bayes.best_estimator_.predict(X_test)"
      ]
    },
    {
      "cell_type": "code",
      "execution_count": null,
      "metadata": {
        "colab": {
          "base_uri": "https://localhost:8080/"
        },
        "id": "T8c9o5iD6GRR",
        "outputId": "cab17e47-18c5-427e-a597-16545c27b1c3"
      },
      "outputs": [
        {
          "name": "stdout",
          "output_type": "stream",
          "text": [
            "The accuracy on train dataset is 0.9984427877053069\n",
            "The accuracy on test dataset is 0.8546482642806539\n"
          ]
        }
      ],
      "source": [
        "# Calculating accuracy on train and test\n",
        "train_accuracy = accuracy_score(y_train, gbtrain_pred)\n",
        "test_accuracy = accuracy_score(y_test, gbtest_pred)\n",
        "\n",
        "print(\"The accuracy on train dataset is\", train_accuracy)\n",
        "print(\"The accuracy on test dataset is\", test_accuracy)"
      ]
    },
    {
      "cell_type": "code",
      "execution_count": null,
      "metadata": {
        "id": "DMUji9lP6MQ2"
      },
      "outputs": [],
      "source": [
        "# Get the confusion matrices for train and test\n",
        "train_cm = confusion_matrix(y_train, gbtrain_pred)\n",
        "test_cm = confusion_matrix(y_test, gbtest_pred)"
      ]
    },
    {
      "cell_type": "code",
      "execution_count": null,
      "metadata": {
        "colab": {
          "base_uri": "https://localhost:8080/"
        },
        "id": "2u1PtT1a6OwR",
        "outputId": "b44549e9-e663-42c3-93cc-8339fda98462"
      },
      "outputs": [
        {
          "name": "stdout",
          "output_type": "stream",
          "text": [
            "              precision    recall  f1-score   support\n",
            "\n",
            "           0       1.00      1.00      1.00    267347\n",
            "           1       1.00      1.00      1.00    240612\n",
            "\n",
            "    accuracy                           1.00    507959\n",
            "   macro avg       1.00      1.00      1.00    507959\n",
            "weighted avg       1.00      1.00      1.00    507959\n",
            "\n",
            "\n",
            "\n",
            "              precision    recall  f1-score   support\n",
            "\n",
            "           0       0.90      0.94      0.92     67052\n",
            "           1       0.35      0.24      0.28      9170\n",
            "\n",
            "    accuracy                           0.85     76222\n",
            "   macro avg       0.62      0.59      0.60     76222\n",
            "weighted avg       0.83      0.85      0.84     76222\n",
            "\n"
          ]
        }
      ],
      "source": [
        "# Print the classification report for train and test\n",
        "print(classification_report(y_train,gbtrain_pred))\n",
        "print(\"\\n\")\n",
        "print(classification_report(y_test,gbtest_pred))"
      ]
    },
    {
      "cell_type": "code",
      "execution_count": null,
      "metadata": {
        "id": "2-qKePiatUvn"
      },
      "outputs": [],
      "source": [
        "from sklearn.ensemble import ExtraTreesClassifier\n",
        "model = ExtraTreesClassifier()\n",
        "model.fit(X,y)\n",
        "print(model.feature_importances_) #use inbuilt class feature_importances of tree based class\n",
        "#plot graph of feature importances for better visualization\n",
        "feat_importances = pd.Series(model.feature_importances_, index=X.columns)\n",
        "feat_importances.nlargest(11).plot(kind='barh')\n",
        "plt.show()"
      ]
    }
  ],
  "metadata": {
    "colab": {
      "collapsed_sections": [
        "gKhUYhPWCEGT",
        "wto0k7GWCLoh",
        "cmcCTgB0Ck4d",
        "D3-5dMgpD94p",
        "L5joIq9n40sx"
      ],
      "name": "Copy of health insurance3.ipynb",
      "provenance": [],
      "include_colab_link": true
    },
    "kernelspec": {
      "display_name": "Python 3",
      "name": "python3"
    },
    "language_info": {
      "name": "python"
    }
  },
  "nbformat": 4,
  "nbformat_minor": 0
}